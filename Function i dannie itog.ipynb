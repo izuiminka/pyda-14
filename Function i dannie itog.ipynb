{
 "cells": [
  {
   "cell_type": "code",
   "execution_count": 24,
   "metadata": {},
   "outputs": [
    {
     "name": "stdout",
     "output_type": "stream",
     "text": [
      "        userId  movieId  rating   timestamp\n",
      "0            1       31     2.5  1260759144\n",
      "1            1     1029     3.0  1260759179\n",
      "2            1     1061     3.0  1260759182\n",
      "3            1     1129     2.0  1260759185\n",
      "4            1     1172     4.0  1260759205\n",
      "...        ...      ...     ...         ...\n",
      "99999      671     6268     2.5  1065579370\n",
      "100000     671     6269     4.0  1065149201\n",
      "100001     671     6365     4.0  1070940363\n",
      "100002     671     6385     2.5  1070979663\n",
      "100003     671     6565     3.5  1074784724\n",
      "\n",
      "[100004 rows x 4 columns]\n"
     ]
    }
   ],
   "source": [
    "#Домашнее задание «Функции и работа с данными»\n",
    "#Преподаватель: Константин Башевой\n",
    "#**Домашнее задание к лекции.\n",
    "#Задание 1**\n",
    "#Напишите функцию, которая классифицирует фильмы из материалов занятия по следующим правилам:\n",
    "#- оценка 2 и меньше - низкий рейтинг\n",
    "#- оценка 4 и меньше - средний рейтинг\n",
    "#- оценка 4.5 и 5 - высокий рейтинг\n",
    "#Результат классификации запишите в столбец class\n",
    "import pandas as pd\n",
    "ratings1 = pd.read_csv('ratings.csv')\n",
    "df = pd.DataFrame(ratings1)\n",
    "print(df)"
   ]
  },
  {
   "cell_type": "code",
   "execution_count": 28,
   "metadata": {
    "scrolled": true
   },
   "outputs": [
    {
     "name": "stdout",
     "output_type": "stream",
     "text": [
      "        userId  movieId  rating   timestamp           class_\n",
      "0            1       31     2.5  1260759144  средний рейтинг\n",
      "1            1     1029     3.0  1260759179  средний рейтинг\n",
      "2            1     1061     3.0  1260759182  средний рейтинг\n",
      "3            1     1129     2.0  1260759185  средний рейтинг\n",
      "4            1     1172     4.0  1260759205  средний рейтинг\n",
      "...        ...      ...     ...         ...              ...\n",
      "99999      671     6268     2.5  1065579370  средний рейтинг\n",
      "100000     671     6269     4.0  1065149201  средний рейтинг\n",
      "100001     671     6365     4.0  1070940363  средний рейтинг\n",
      "100002     671     6385     2.5  1070979663  средний рейтинг\n",
      "100003     671     6565     3.5  1074784724  средний рейтинг\n",
      "\n",
      "[100004 rows x 5 columns]\n"
     ]
    }
   ],
   "source": [
    "#Решение\n",
    "def ratings(param):\n",
    "    if param >= 4.5:\n",
    "        return ('высокий рейтинг')    \n",
    "    if param < 4.5:\n",
    "        return ('средний рейтинг')   \n",
    "    if param <= 2:\n",
    "        return  ('низкий рейтинг')  \n",
    "df ['class_'] = df ['rating'].apply(ratings)\n",
    "print(df)"
   ]
  },
  {
   "cell_type": "code",
   "execution_count": 13,
   "metadata": {},
   "outputs": [],
   "source": [
    "#Задание 2\n",
    "#Используем файл keywords.csv.\n",
    "#Необходимо написать гео-классификатор, который каждой строке сможет выставить географическую принадлежность \n",
    "#определенному региону. Т. е. если поисковый запрос содержит название города региона, то в столбце ‘region’ пишется \n",
    "#название этого региона. \n",
    "#Если поисковый запрос не содержит названия города, то ставим ‘undefined’.\n",
    "#Правила распределения по регионам Центр, Северо-Запад и Дальний Восток:\n",
    "#Результат классификации запишите в отдельный столбец region."
   ]
  },
  {
   "cell_type": "code",
   "execution_count": 34,
   "metadata": {},
   "outputs": [
    {
     "ename": "IndentationError",
     "evalue": "unindent does not match any outer indentation level (<tokenize>, line 7)",
     "output_type": "error",
     "traceback": [
      "\u001b[1;36m  File \u001b[1;32m\"<tokenize>\"\u001b[1;36m, line \u001b[1;32m7\u001b[0m\n\u001b[1;33m    df ['region'] = df ['rating'].apply(region)\u001b[0m\n\u001b[1;37m    ^\u001b[0m\n\u001b[1;31mIndentationError\u001b[0m\u001b[1;31m:\u001b[0m unindent does not match any outer indentation level\n"
     ]
    }
   ],
   "source": [
    "#набросок решения \n",
    "def town (param):\n",
    "    if поисковый запрос содержит название города региона:\n",
    "        return ('то в столбце 'region' пишется название этого региона')    \n",
    "    else поисковый запрос не содержит название города региона\n",
    "        return ('undefined')   \n",
    "   \n",
    "  df ['region'] = df [' '].apply(region)\n",
    "    print(df)"
   ]
  },
  {
   "cell_type": "code",
   "execution_count": 4,
   "metadata": {
    "scrolled": true
   },
   "outputs": [
    {
     "name": "stdout",
     "output_type": "stream",
     "text": [
      "                       keyword     shows\n",
      "0                           вк  64292779\n",
      "1                одноклассники  63810309\n",
      "2                        порно  41747114\n",
      "3                         ютуб  39995567\n",
      "4                    вконтакте  21014195\n",
      "...                        ...       ...\n",
      "99995   эльдорадо старый оскол      3705\n",
      "99996      frigate для firefox      3630\n",
      "99997                   укрсиб      3630\n",
      "99998  погода в ялте на неделю      3688\n",
      "99999                     ггму      3630\n",
      "\n",
      "[100000 rows x 2 columns]\n"
     ]
    }
   ],
   "source": [
    "import pandas as pd\n",
    "regiongoroda = pd.read_csv('keywords.csv') #читаем дата фрейм\n",
    "df = pd.DataFrame(regiongoroda)\n",
    "print(df)"
   ]
  },
  {
   "cell_type": "code",
   "execution_count": 12,
   "metadata": {},
   "outputs": [
    {
     "name": "stdout",
     "output_type": "stream",
     "text": [
      "       Центр Северо-Запад Дальний Восток\n",
      "0     москва    петербург    владивосток\n",
      "1       тула        псков        сахалин\n",
      "2  ярославль     мурманск      хабаровск\n"
     ]
    }
   ],
   "source": [
    "geo_data = {\n",
    "'Центр': ['москва', 'тула', 'ярославль'],\n",
    "'Северо-Запад': ['петербург', 'псков', 'мурманск'],\n",
    "'Дальний Восток': ['владивосток', 'сахалин', 'хабаровск']\n",
    "}\n",
    "\n",
    "df = pd.DataFrame(geo_data)\n",
    "print(df)"
   ]
  },
  {
   "cell_type": "code",
   "execution_count": 20,
   "metadata": {},
   "outputs": [],
   "source": [
    "def region_geo(keyword): # создаем функцию определения региона от ключа\n",
    "    keyword1 = keyword.split() # разделяем\n",
    "    for city in  keyword1:\n",
    "        for key in geo_data.keys():\n",
    "            if city in geo_data[key]:\n",
    "                return key\n",
    "            else:\n",
    "                return ('undefined') "
   ]
  },
  {
   "cell_type": "code",
   "execution_count": 23,
   "metadata": {},
   "outputs": [
    {
     "data": {
      "text/html": [
       "<div>\n",
       "<style scoped>\n",
       "    .dataframe tbody tr th:only-of-type {\n",
       "        vertical-align: middle;\n",
       "    }\n",
       "\n",
       "    .dataframe tbody tr th {\n",
       "        vertical-align: top;\n",
       "    }\n",
       "\n",
       "    .dataframe thead th {\n",
       "        text-align: right;\n",
       "    }\n",
       "</style>\n",
       "<table border=\"1\" class=\"dataframe\">\n",
       "  <thead>\n",
       "    <tr style=\"text-align: right;\">\n",
       "      <th></th>\n",
       "      <th>keyword</th>\n",
       "      <th>shows</th>\n",
       "      <th>region</th>\n",
       "    </tr>\n",
       "  </thead>\n",
       "  <tbody>\n",
       "    <tr>\n",
       "      <th>0</th>\n",
       "      <td>вк</td>\n",
       "      <td>64292779</td>\n",
       "      <td>undefined</td>\n",
       "    </tr>\n",
       "    <tr>\n",
       "      <th>1</th>\n",
       "      <td>одноклассники</td>\n",
       "      <td>63810309</td>\n",
       "      <td>undefined</td>\n",
       "    </tr>\n",
       "    <tr>\n",
       "      <th>2</th>\n",
       "      <td>порно</td>\n",
       "      <td>41747114</td>\n",
       "      <td>undefined</td>\n",
       "    </tr>\n",
       "    <tr>\n",
       "      <th>3</th>\n",
       "      <td>ютуб</td>\n",
       "      <td>39995567</td>\n",
       "      <td>undefined</td>\n",
       "    </tr>\n",
       "    <tr>\n",
       "      <th>4</th>\n",
       "      <td>вконтакте</td>\n",
       "      <td>21014195</td>\n",
       "      <td>undefined</td>\n",
       "    </tr>\n",
       "  </tbody>\n",
       "</table>\n",
       "</div>"
      ],
      "text/plain": [
       "         keyword     shows     region\n",
       "0             вк  64292779  undefined\n",
       "1  одноклассники  63810309  undefined\n",
       "2          порно  41747114  undefined\n",
       "3           ютуб  39995567  undefined\n",
       "4      вконтакте  21014195  undefined"
      ]
     },
     "execution_count": 23,
     "metadata": {},
     "output_type": "execute_result"
    }
   ],
   "source": [
    "regiongoroda ['region'] = regiongoroda['keyword'].apply(region_geo) # добавляем столбец \"регион\"\n",
    "regiongoroda.head()"
   ]
  }
 ],
 "metadata": {
  "kernelspec": {
   "display_name": "Python 3",
   "language": "python",
   "name": "python3"
  },
  "language_info": {
   "codemirror_mode": {
    "name": "ipython",
    "version": 3
   },
   "file_extension": ".py",
   "mimetype": "text/x-python",
   "name": "python",
   "nbconvert_exporter": "python",
   "pygments_lexer": "ipython3",
   "version": "3.8.3"
  }
 },
 "nbformat": 4,
 "nbformat_minor": 4
}
