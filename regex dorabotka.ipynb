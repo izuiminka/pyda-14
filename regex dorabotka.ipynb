{
 "cells": [
  {
   "cell_type": "code",
   "execution_count": 14,
   "metadata": {},
   "outputs": [
    {
     "name": "stdout",
     "output_type": "stream",
     "text": [
      "В222КУ37\n",
      "True\n"
     ]
    }
   ],
   "source": [
    "#Задание 1\n",
    "#Напишите функцию, которая принимает на вход строку и проверяет является ли она валидным транспортным номером (1 буква, 3 цифры, 2 буквы, 2-3 цифры).\n",
    "#Обратите внимание, что не все буквы кириллического алфавита используются в транспортных номерах.\n",
    "#Если номер валиден, то функция должна возвращать отдельно номер и регион.\n",
    "#Примеры работы программы:\n",
    "#car_id = 'A222BC96'\n",
    "#Результат: Номер A222BС валиден. Регион: 96\n",
    "#car_id1 = 'АБ22ВВ193'\n",
    "#Результат: Номер не валиден\n",
    "import re\n",
    "def number_validator(string):\n",
    "    if re.match(r'/^[АВЕКМНОРСТУХ]\\d{3}(?<!000)[АВЕКМНОРСТУХ]{2}\\d{2,3}$/ui',string):\n",
    "        return(bool(string))\n",
    "    else: return(True)   \n",
    "print(number_validator(input()))"
   ]
  },
  {
   "cell_type": "code",
   "execution_count": 9,
   "metadata": {},
   "outputs": [
    {
     "name": "stdout",
     "output_type": "stream",
     "text": [
      "Напишите функцию функцию, которая будет будет будет будет удалять все все все все последовательные повторы слов из из из из заданной строки строки при помощи регулярных выражений\n",
      "напишите  , которая   удалять   последовательные повторы слов   заданной   при помощи регулярных выражений\n"
     ]
    }
   ],
   "source": [
    "#Задание 2\n",
    "#Напишите функцию, которая будет удалять все последовательные повторы \n",
    "#слов из заданной строки при помощи регулярных выражений.\n",
    "#Пример работы программы:\n",
    "#some_string = 'Напишите функцию функцию, которая будет будет будет будет удалять все все все все последовательные повторы слов из из из из заданной строки строки при помощи регулярных выражений'\n",
    "#Результат: Напишите функцию, которая будет удалять все последовательные повторы слов из заданной строки при помощи регулярных выражений.\n",
    "import re\n",
    "def del_repeats(some_string):\n",
    "    new_some_string = some_string.lower()\n",
    "    new_some_string = re.sub(r'(\\b\\w+)(\\s\\1)+',' ', new_some_string)\n",
    "    return new_some_string\n",
    "print(del_repeats(input()))"
   ]
  },
  {
   "cell_type": "code",
   "execution_count": 37,
   "metadata": {},
   "outputs": [
    {
     "name": "stdout",
     "output_type": "stream",
     "text": [
      "NFC\n",
      "ИТ\n"
     ]
    }
   ],
   "source": [
    "#Задание 3 РЕШЕНИЕ\n",
    "#Напишите функцию, которая будет возвращать акроним по переданной в нее строке со словами.\n",
    "#Примеры работы программы:\n",
    "#some_words = 'Информационные технологии'\n",
    "#Результат: ИТ\n",
    "#some_words1 = 'Near Field Communication'\n",
    "#Результат: NFC\n",
    "import re\n",
    "words = \"Near Field Communication\"\n",
    "print (re.sub(r\"([a-zA-Z])[a-z,A-Z]+\\s*\",r\"\\1\", words).upper())\n",
    "words = \"Информационные технологии\"\n",
    "print (re.sub(r\"([а-яA-Я])[a-я,А-Я]+\\s*\",r\"\\1\", words).upper())\n"
   ]
  },
  {
   "cell_type": "code",
   "execution_count": 12,
   "metadata": {},
   "outputs": [
    {
     "name": "stdout",
     "output_type": "stream",
     "text": [
      "Near Field Communication\n",
      "NFC\n"
     ]
    }
   ],
   "source": [
    "#Задание 3 РЕШЕНИЕ для Английских слов\n",
    "import re\n",
    "def acronim(newstring):\n",
    "    new_string = re.sub(r'([a-zA-Z])[a-z,A-Z]+\\s*',r\"\\1\", newstring).upper()\n",
    "    return new_string\n",
    "print(acronim(input()))"
   ]
  },
  {
   "cell_type": "code",
   "execution_count": 13,
   "metadata": {},
   "outputs": [
    {
     "name": "stdout",
     "output_type": "stream",
     "text": [
      "Информационные технологии\n",
      "ИТ\n"
     ]
    }
   ],
   "source": [
    "#Задание 3 РЕШЕНИЕ для русских слов\n",
    "import re\n",
    "def acronim(newstring):\n",
    "    new_string = re.sub(r'([а-яА-Я])[а-я,А-Я]+\\s*',r\"\\1\", newstring).upper()\n",
    "    return new_string\n",
    "print(acronim(input()))"
   ]
  },
  {
   "cell_type": "code",
   "execution_count": 23,
   "metadata": {},
   "outputs": [
    {
     "name": "stdout",
     "output_type": "stream",
     "text": [
      "['test@gmail.com,', 'xyz@test.in,', 'test@ya.ru,', 'xyz@mail.ru,', 'xyz@ya.ru,', 'xyz@gmail.com']\n",
      "@gmail.com\n",
      "2\n",
      "@ya.ru\n",
      "2\n",
      "@test.in\n",
      "1\n",
      "@mail.ru\n",
      "1\n"
     ]
    }
   ],
   "source": [
    "#Задание 4 вариант решения \n",
    "import re\n",
    "emails = 'test@gmail.com, xyz@test.in, test@ya.ru, xyz@mail.ru, xyz@ya.ru, xyz@gmail.com'\n",
    "spisok_emails = 'test@gmail.com, xyz@test.in, test@ya.ru, xyz@mail.ru, xyz@ya.ru, xyz@gmail.com'.split()\n",
    "print (spisok_emails)\n",
    "\n",
    "match = re.search(r'@[a-z]+\\.[a-z]{3}', emails) # Приведенное  регулярное выражение будет искать нужное окончание e-mail адреса после значка собачка\n",
    "s=1\n",
    "if match:\n",
    "    s+=1\n",
    "    print(match.group())\n",
    "    print(s)\n",
    "else:\n",
    "    print(\"сравнений не обнаружено\")   \n",
    "    \n",
    "match = re.search(r'@[a-z]+\\.[r-u]{2}', emails)\n",
    "a=1\n",
    "if match:\n",
    "    a+=1\n",
    "    print(match.group())\n",
    "    print (a)\n",
    "else:\n",
    "    print(\"сравнений не обнаружено\")\n",
    "    \n",
    "match = re.search(r'@[a-z]+\\.[i-n]{2}', emails)\n",
    "c=0\n",
    "if match:\n",
    "    c+=1\n",
    "    print(match.group())\n",
    "    print (c)\n",
    "else:\n",
    "    print(\"сравнений не обнаружено\")\n",
    "    \n",
    "match = re.search(r'@[m]...\\.[a-z]{2}', emails)\n",
    "o=0\n",
    "if match:\n",
    "    o+=1\n",
    "    print(match.group())\n",
    "    print (o)\n",
    "else:\n",
    "    print(\"сравнений не обнаружено\")"
   ]
  },
  {
   "cell_type": "code",
   "execution_count": 156,
   "metadata": {},
   "outputs": [
    {
     "name": "stdout",
     "output_type": "stream",
     "text": [
      "[('@mail.ru', '@mail')]\n",
      "[('@gmail.com', '@gmail')]\n",
      "[('@ya.ru', '@ya')]\n",
      "[('@test.in', '@test')]\n"
     ]
    }
   ],
   "source": [
    "#Задание 4 вариант решения \n",
    "# Проверка взятия окончания почты после значка @\n",
    "import re\n",
    "words = \"xyz@mail.ru\"\n",
    "k = re.findall(r'((@\\w+)\\.[r-z]{2})', words)\n",
    "print(k)\n",
    "words = \"test@gmail.com\"\n",
    "kk = re.findall(r'((@\\w+)\\.[a-z]{3})', words)\n",
    "print(kk)\n",
    "words = \"xyz@ya.ru\"\n",
    "kkk = re.findall(r'((@\\w+)\\.[a-z]{2})', words)\n",
    "print(kkk)\n",
    "words = \"xyz@test.in\"\n",
    "kkk = re.findall(r'((@\\w+)\\.[i-z]{2})', words)\n",
    "print(kkk)"
   ]
  },
  {
   "cell_type": "code",
   "execution_count": null,
   "metadata": {},
   "outputs": [],
   "source": [
    "#Задание 4 вариант решения \n",
    "import re\n",
    "def mail_validator(string):\n",
    "    b = 0\n",
    "    c = 0\n",
    "    d = 0\n",
    "    e = 0\n",
    "    if re.match(r'^.+@([^.@][^@]+)$\\.[r-z]{2}',string):\n",
    "        b+=1\n",
    "    elif re.match(r'^.+@([^.@][^@]+)$\\.[a-z]{3}',string):\n",
    "        c+=1\n",
    "    elif re.match(r'^.+@([^.@][^@]+)$\\.[i-n]{2}',string):\n",
    "        d+=1\n",
    "    elif re.match(r'^.+@([^.@][^@]+)$\\.[g-z]{4}',string):\n",
    "        return(bool(string))\n",
    "        e+=1\n",
    "    else: return(True)\n",
    "print(mail_validator(input()))\n",
    "print (b)\n",
    "print (c)\n",
    "print (d)\n",
    "print (e)"
   ]
  },
  {
   "cell_type": "code",
   "execution_count": 86,
   "metadata": {},
   "outputs": [
    {
     "name": "stdout",
     "output_type": "stream",
     "text": [
      "Введите Ваш еmail адрес:zola@mail.ru\n",
      "valid email: zola@mail.ru\n",
      "1\n"
     ]
    }
   ],
   "source": [
    "#Задание 4 проверка емейла\n",
    "import re\n",
    "def email():\n",
    "        n = 0\n",
    "        email = input(\"Введите Ваш еmail адрес:\")\n",
    "        match = re.match(r'.+@[\\w.-]+.\\w+', email)\n",
    "        if match:\n",
    "            print (\"valid email:\", match.group())\n",
    "            n = n+1\n",
    "            print(n)\n",
    "        else:\n",
    "            print (\"not valid:\")\n",
    "email()"
   ]
  },
  {
   "cell_type": "code",
   "execution_count": null,
   "metadata": {},
   "outputs": [],
   "source": [
    "#Задание 5 \n",
    "#Напишите функцию, которая будет подсчитывать сколько слов начинается на гласные, а сколько на согласные буквы в тексте (текст может быть написан как с использованием букв кириллицы, так и латиницы).\n",
    "#Пример работы программы:\n",
    "some_text = 'Эталонной реализацией Python является интерпретатор CPython, поддерживающий большинство активно используемых платформ. Он распространяется под свободной лицензией Python Software Foundation License, позволяющей использовать его без ограничений в любых приложениях, включая проприетарные.'\n",
    "#Результат:\n",
    "#Слов на гласные буквы: 9\n",
    "#Слов на согласные буквы: 21\n",
    "\n",
    "import re\n",
    "result = re.findall(r'\\b[аеиоуюяыёэАЕИОУЮЯЫЁЭ]\\w+', some_text)\n",
    "print(result)\n",
    "\n",
    "input = \"Эталонной реализацией Python является интерпретатор CPython, поддерживающий большинство активно используемых платформ. Он распространяется под свободной лицензией Python Software Foundation License, позволяющей использовать его без ограничений в любых приложениях, включая проприетарные.'\"\n",
    "output = \"\"\n",
    "for i in input.upper().split():\n",
    "    output += i[0]\n",
    "print (output)\n",
    "\n",
    "count = 0\n",
    "vowels = set(\"АЕИОУЮЯЫЁЭAEIOU\")\n",
    "for letter in output:\n",
    "    if letter in vowels:\n",
    "        count += 1\n",
    "print(\"Количество слов начинающихся на гласные буквы равно:\")\n",
    "print(count)\n",
    "\n",
    "result1 = re.findall(r'\\b[^аеиоуюяыёэАЕИОУЮЯЫЁЭ]\\w+', some_text)\n",
    "print(result1)\n",
    "\n",
    "input = \"Эталонной реализацией Python является интерпретатор CPython, поддерживающий большинство активно используемых платформ. Он распространяется под свободной лицензией Python Software Foundation License, позволяющей использовать его без ограничений в любых приложениях, включая проприетарные.'\"\n",
    "output = \"\"\n",
    "for i in input.upper().split():\n",
    "    output += i[0]\n",
    "print (output)\n",
    "\n",
    "count = 0\n",
    "vowels = set(\"БВГДЖЗЙКЛМНПРСТФХЩШЦBCDFGHJKLMNPQRSTVWXZ\")\n",
    "for letter in output:\n",
    "    if letter in vowels:\n",
    "        count += 1\n",
    "print(\"Количество слов начинающихся на согласные буквы буквы равно:\")\n",
    "print(count)"
   ]
  },
  {
   "cell_type": "code",
   "execution_count": null,
   "metadata": {},
   "outputs": [],
   "source": [
    "#Задание 5\n",
    "#Напишите функцию, которая будет проверять номер сотового телефона на валидность, если он валиден, то переводить его в формат:\n",
    "#+7-xxx-xxx-xx-xx\n",
    "#Постарайтесь предусмотреть как можно больше адекватных форматов изначального ввода номера. Примеры работы программы:\n",
    "#phone = '+7 955 555-55-55’\n",
    "#Результат: +7-950-555-55-55\n",
    "#phone = '8(955)555-55-55’\n",
    "#Результат: +7-950-555-55-55\n",
    "#phone = '+7 955 555 55 55’\n",
    "#Результат: +7-950-555-55-55\n",
    "#phone = '7(955) 555-55-55’\n",
    "#Результат: +7-950-555-55-55\n",
    "#phone = '423-555-55-5555’\n",
    "#Результат: Номер не валиден\n",
    "#phone = '123-456-789’\n",
    "#Результат: Номер не валиден"
   ]
  },
  {
   "cell_type": "code",
   "execution_count": 31,
   "metadata": {},
   "outputs": [
    {
     "name": "stdout",
     "output_type": "stream",
     "text": [
      "+7 955 555 55 55\n",
      "True\n"
     ]
    }
   ],
   "source": [
    "import re\n",
    "def nomer_validator(string):\n",
    "    phone = re.sub(r'\\b\\D', '', string)\n",
    "    clear_phone = re.sub(r'[\\ \\(]?', '', phone)\n",
    "    if re.findall(r'^[\\+7|8]*?\\d{10}$', clear_phone) or re.match(r'^\\w+[\\.]?(\\w+)*\\@(\\w+\\.)*\\w{2,}$',string):\n",
    "        return(bool(string))\n",
    "    else: return(False)   \n",
    "print(nomer_validator(input()))"
   ]
  },
  {
   "cell_type": "code",
   "execution_count": null,
   "metadata": {},
   "outputs": [],
   "source": []
  }
 ],
 "metadata": {
  "kernelspec": {
   "display_name": "Python 3",
   "language": "python",
   "name": "python3"
  },
  "language_info": {
   "codemirror_mode": {
    "name": "ipython",
    "version": 3
   },
   "file_extension": ".py",
   "mimetype": "text/x-python",
   "name": "python",
   "nbconvert_exporter": "python",
   "pygments_lexer": "ipython3",
   "version": "3.8.3"
  }
 },
 "nbformat": 4,
 "nbformat_minor": 4
}
