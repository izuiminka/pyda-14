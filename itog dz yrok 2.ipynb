{
 "cells": [
  {
   "cell_type": "code",
   "execution_count": 2,
   "metadata": {},
   "outputs": [
    {
     "name": "stdout",
     "output_type": "stream",
     "text": [
      "введи число больше или рано нулю =0\n",
      "0\n",
      "введи число больше или рано нулю =9\n",
      "9\n",
      "введи число больше или рано нулю =0\n",
      "9\n",
      "введи число больше или рано нулю =9\n",
      "9\n"
     ]
    }
   ],
   "source": [
    "# Домашняя работа раздел \"Управляющие конструкции\"\n",
    "#Задание 2 \n",
    "user_input_1 = int(input ('введи число больше или рано нулю ='))\n",
    "while user_input_1 > 0:\n",
    "        a = user_input_1\n",
    "        print (a)\n",
    "        break\n",
    "else:\n",
    "        aa = user_input_1 + 0\n",
    "        print (aa)\n",
    "user_input_2 = int(input ('введи число больше или рано нулю ='))\n",
    "while user_input_2 > 0:\n",
    "        b = user_input_2\n",
    "        print (b)\n",
    "        break\n",
    "else:\n",
    "        bb = user_input_1 + user_input_2\n",
    "        print (bb)\n",
    "user_input_3 = int(input ('введи число больше или рано нулю ='))\n",
    "while user_input_3 > 0:\n",
    "        c = user_input_3\n",
    "        print (c)\n",
    "        break\n",
    "else:\n",
    "        cc = user_input_1 + user_input_2 + user_input_3\n",
    "        print (cc)\n",
    "user_input_4 = int(input ('введи число больше или рано нулю ='))\n",
    "while user_input_4 == 0: \n",
    "        dd = user_input_1 + user_input_2 + user_input_3\n",
    "        print (dd)\n",
    "        break\n",
    "else:\n",
    "        d = user_input_4\n",
    "        print (d)"
   ]
  },
  {
   "cell_type": "code",
   "execution_count": 12,
   "metadata": {},
   "outputs": [
    {
     "name": "stdout",
     "output_type": "stream",
     "text": [
      "['Alex', 'Arthur', 'John', 'Peter', 'Richard']\n",
      "['Emma', 'Kate', 'Kira', 'Liza', 'Trisha']\n",
      "['Alex'] ['Emma']\n",
      "['Arthur'] ['Kate']\n",
      "['John'] ['Kira']\n",
      "['Peter'] ['Liza']\n",
      "['Richard'] ['Trisha']\n"
     ]
    }
   ],
   "source": [
    "#Задание 3 \n",
    "boys = ['Peter', 'Alex', 'John', 'Arthur', 'Richard']\n",
    "girls = ['Kate', 'Liza', 'Kira', 'Emma', 'Trisha']\n",
    "print(sorted(boys)[0:1],sorted(girls)[0:1])\n",
    "print(sorted(boys)[1:2],sorted(girls)[1:2])\n",
    "print(sorted(boys)[2:3],sorted(girls)[2:3])\n",
    "print(sorted(boys)[3:4],sorted(girls)[3:4])\n",
    "print(sorted(boys)[4:5],sorted(girls)[4:5])"
   ]
  },
  {
   "cell_type": "code",
   "execution_count": 16,
   "metadata": {},
   "outputs": [
    {
     "name": "stdout",
     "output_type": "stream",
     "text": [
      "['Alex'] ['Emma']\n",
      "['Arthur'] ['Kate']\n",
      "['John'] ['Kira']\n",
      "['Michael'] ['Liza']\n",
      "['Peter'] ['Trisha']\n",
      "['Richard'] []\n",
      "Внимание, кто-то остался без пары!\n"
     ]
    }
   ],
   "source": [
    "#Задание 3 \n",
    "boys = ['Peter', 'Alex', 'John', 'Arthur', 'Richard', 'Michael']\n",
    "girls = ['Kate', 'Liza', 'Kira', 'Emma', 'Trisha']\n",
    "print(sorted(boys)[0:1],sorted(girls)[0:1])\n",
    "print(sorted(boys)[1:2],sorted(girls)[1:2])\n",
    "print(sorted(boys)[2:3],sorted(girls)[2:3])\n",
    "print(sorted(boys)[3:4],sorted(girls)[3:4])\n",
    "print(sorted(boys)[4:5],sorted(girls)[4:5])\n",
    "print(sorted(boys)[5:6],sorted(girls)[5:6])\n",
    "print ('Внимание, кто-то остался без пары!')"
   ]
  },
  {
   "cell_type": "code",
   "execution_count": null,
   "metadata": {},
   "outputs": [],
   "source": [
    "#Задание 1\n",
    "word = 'test'\n",
    "if len (word) % 2==0:\n",
    "    print(\"test\"[1:3])\n",
    "word = 'testing'\n",
    "if len (word) % 2!=0:\n",
    "    print(\"testing\"[3:4])"
   ]
  },
  {
   "cell_type": "code",
   "execution_count": 267,
   "metadata": {},
   "outputs": [
    {
     "name": "stdout",
     "output_type": "stream",
     "text": [
      "-11.80952380952381\n",
      "-5.6984126984127\n",
      "0.5555555555555556\n",
      "6.380952380952379\n",
      "11.777777777777777\n",
      "17.746031746031743\n",
      "23.857142857142854\n",
      "-11.422222222222222\n",
      "-5.2666666666666675\n",
      "1.2888888888888892\n",
      "7.844444444444443\n",
      "13.799999999999999\n",
      "-14.952380952380953\n",
      "-11.984126984126984\n",
      "-8.873015873015873\n",
      "-5.619047619047621\n",
      "-2.2222222222222223\n",
      "0.8888888888888897\n",
      "3.714285714285717\n",
      "-13.148148148148147\n",
      "-8.518518518518519\n",
      "-3.5555555555555567\n",
      "1.7407407407407405\n",
      "6.870370370370371\n",
      "11.999999999999998\n"
     ]
    }
   ],
   "source": [
    "#Задание 4\n",
    "countries_temperature  = [\n",
    "['Thailand', [75.2, 77, 78.8, 73.4, 68, 75.2, 77]],\n",
    "['Germany', [57.2, 55.4, 59, 59, 53.6]],\n",
    "['Russia', [35.6, 37.4, 39.2, 41, 42.8, 39.2, 35.6]],\n",
    "['Poland', [50, 50, 53.6, 57.2, 55.4, 55.4]]\n",
    "]\n",
    "\n",
    "#формируем список Thailand\n",
    "Thailand = [75.2, 77, 78.8, 73.4, 68, 75.2, 77]\n",
    "s = 0\n",
    "for i, v in enumerate(Thailand):\n",
    "    s = s+v\n",
    "    Selcii_Thailand = (5/9)*(s/float(len(Thailand))-32)\n",
    "    print(Selcii_Thailand)\n",
    "#формируем список Germany \n",
    "Germany = [57.2, 55.4, 59, 59, 53.6]\n",
    "s = 0  \n",
    "for i, v in enumerate(Germany):\n",
    "    s = s+v\n",
    "    Selcii_Germany = (5/9)*(s/float(len(Germany))-32)\n",
    "    print(Selcii_Germany)      \n",
    "#формируем список Russia  \n",
    "Russia = [35.6, 37.4, 39.2, 41, 42.8, 39.2, 35.6] \n",
    "s = 0\n",
    "for i, v in enumerate(Russia):\n",
    "    s = s+v\n",
    "    Selcii_Russia = (5/9)*(s/float(len(Russia))-32)\n",
    "    print(Selcii_Russia)\n",
    "#формируем список Poland    \n",
    "Poland = [50, 50, 53.6, 57.2, 55.4, 55.4]\n",
    "s = 0\n",
    "for i, v in enumerate(Poland):\n",
    "    s = s+v\n",
    "    Selcii_Poland = (5/9)*(s/float(len(Poland))-32)\n",
    "    print(Selcii_Poland)\n",
    "# Комментарий: каждая седьмая строчка это и есть ответ Thailand=23.85; Germany=13,799; Russia =3,71; Poland=11,99\n",
    "# Как сделать по-другому полночи билась - не получается"
   ]
  },
  {
   "cell_type": "code",
   "execution_count": 1,
   "metadata": {},
   "outputs": [
    {
     "name": "stdout",
     "output_type": "stream",
     "text": [
      "Thailand\n"
     ]
    },
    {
     "ename": "TypeError",
     "evalue": "'float' object is not iterable",
     "output_type": "error",
     "traceback": [
      "\u001b[1;31m---------------------------------------------------------------------------\u001b[0m",
      "\u001b[1;31mTypeError\u001b[0m                                 Traceback (most recent call last)",
      "\u001b[1;32m<ipython-input-1-712636f7bbf9>\u001b[0m in \u001b[0;36m<module>\u001b[1;34m\u001b[0m\n\u001b[0;32m      9\u001b[0m         \u001b[0mprint\u001b[0m \u001b[1;33m(\u001b[0m\u001b[0mcountry\u001b[0m\u001b[1;33m[\u001b[0m\u001b[1;36m0\u001b[0m\u001b[1;33m]\u001b[0m\u001b[1;33m)\u001b[0m\u001b[1;33m\u001b[0m\u001b[1;33m\u001b[0m\u001b[0m\n\u001b[0;32m     10\u001b[0m         \u001b[1;32mfor\u001b[0m \u001b[0mtemperature\u001b[0m  \u001b[1;32min\u001b[0m \u001b[0mcountry\u001b[0m\u001b[1;33m[\u001b[0m\u001b[1;36m1\u001b[0m\u001b[1;33m]\u001b[0m\u001b[1;33m:\u001b[0m\u001b[1;33m\u001b[0m\u001b[1;33m\u001b[0m\u001b[0m\n\u001b[1;32m---> 11\u001b[1;33m                 \u001b[1;32mfor\u001b[0m \u001b[0mi\u001b[0m \u001b[1;32min\u001b[0m \u001b[0mtemperature\u001b[0m\u001b[1;33m:\u001b[0m\u001b[1;33m\u001b[0m\u001b[1;33m\u001b[0m\u001b[0m\n\u001b[0m\u001b[0;32m     12\u001b[0m                     \u001b[0msum\u001b[0m \u001b[1;33m+=\u001b[0m \u001b[0msum\u001b[0m\u001b[1;33m[\u001b[0m\u001b[0mi\u001b[0m\u001b[1;33m]\u001b[0m\u001b[1;33m+\u001b[0m\u001b[1;36m1\u001b[0m\u001b[1;33m\u001b[0m\u001b[1;33m\u001b[0m\u001b[0m\n\u001b[0;32m     13\u001b[0m                     \u001b[0msum1\u001b[0m \u001b[1;33m=\u001b[0m \u001b[0msum\u001b[0m\u001b[1;33m(\u001b[0m\u001b[0mi\u001b[0m\u001b[1;33m)\u001b[0m\u001b[1;33m/\u001b[0m\u001b[0mlen\u001b[0m\u001b[1;33m(\u001b[0m\u001b[0mThailand\u001b[0m\u001b[1;33m)\u001b[0m\u001b[1;33m\u001b[0m\u001b[1;33m\u001b[0m\u001b[0m\n",
      "\u001b[1;31mTypeError\u001b[0m: 'float' object is not iterable"
     ]
    }
   ],
   "source": [
    "# Задание 4 вариант решения пробую\n",
    "countries_temperature  = [\n",
    "['Thailand', [75.2, 77, 78.8, 73.4, 68, 75.2, 77]],\n",
    "['Germany', [57.2, 55.4, 59, 59, 53.6]],\n",
    "['Russia', [35.6, 37.4, 39.2, 41, 42.8, 39.2, 35.6]],\n",
    "['Poland', [50, 50, 53.6, 57.2, 55.4, 55.4]]\n",
    "]\n",
    "for country in countries_temperature:\n",
    "        print (country[0])\n",
    "        for temperature  in country[1]:\n",
    "                for i in temperature: \n",
    "                    sum += sum[i]+1\n",
    "                    sum1 = sum(i)/len(Thailand)\n",
    "                    Selcii_Thailand = (5/9)*(sum1-32)\n",
    "                    print(Selcii_Thailand)\n",
    "# как убрать float - вроде все правильно            "
   ]
  },
  {
   "cell_type": "code",
   "execution_count": null,
   "metadata": {},
   "outputs": [],
   "source": [
    "# задача 6\n",
    "# введем количество элементов\n",
    "n = int(input(\"Введите количество элементов : \"))\n",
    "#  определим входные данные пользователя с помощью функции map()\n",
    "a = list(map(int,input(\"\\nВведите элементы через пробел : \").strip().split()))[:n]  \n",
    "#  выведем информацию в форме списка\n",
    "print(\"\\nCписок my_list - \", a)\n",
    "for i in set(a):\n",
    "    if a.count(i) > 1:\n",
    "         print(i, a.index(i))"
   ]
  },
  {
   "cell_type": "code",
   "execution_count": null,
   "metadata": {},
   "outputs": [],
   "source": [
    "# задача 6 (второй вариант решения)\n",
    " создание пустого списка\n",
    "my_list = []\n",
    "# количество элементов в качестве входных данных\n",
    "n = int(input(\"Введите количество элементов: \"))\n",
    "# итерация до диапазона\n",
    "for i in range(0, n):\n",
    "    elem = input(i)\n",
    "# добавление элемента    \n",
    "    my_list.append(elem) \n",
    "print(my_list)\n",
    "# начинаем сравнивать элементы и отправлять в пустой список\n",
    "z = {}\n",
    "for i in my_list:\n",
    "    if i in z:\n",
    "        z[i] += 1\n",
    "    else:\n",
    "        z[i] = 1\n",
    "        print(z)"
   ]
  }
 ],
 "metadata": {
  "kernelspec": {
   "display_name": "Python 3",
   "language": "python",
   "name": "python3"
  },
  "language_info": {
   "codemirror_mode": {
    "name": "ipython",
    "version": 3
   },
   "file_extension": ".py",
   "mimetype": "text/x-python",
   "name": "python",
   "nbconvert_exporter": "python",
   "pygments_lexer": "ipython3",
   "version": "3.8.3"
  }
 },
 "nbformat": 4,
 "nbformat_minor": 4
}
