{
 "cells": [
  {
   "cell_type": "code",
   "execution_count": 22,
   "metadata": {},
   "outputs": [
    {
     "name": "stdout",
     "output_type": "stream",
     "text": [
      "{'user1': [213, 213, 213, 15, 213], 'user2': [54, 54, 119, 119, 119], 'user3': [213, 98, 98, 35]}\n",
      "[98, 35, 15, 213, 54, 119]\n"
     ]
    },
    {
     "data": {
      "text/plain": [
       "[98, 35, 15, 213, 54, 119]"
      ]
     },
     "execution_count": 22,
     "metadata": {},
     "output_type": "execute_result"
    }
   ],
   "source": [
    "#Домашнее задание к лекции \"Введение в типы данных и циклы. Часть 2\"\n",
    "#Задание 1\n",
    "#Дана переменная, в которой хранится словарь, содержащий гео-метки для каждого пользователя (пример структуры данных приведен ниже). Вам необходимо написать программу, которая выведет на экран множество уникальных гео-меток всех пользователей.\n",
    "#Пример работы программы:\n",
    "ids = {'user1': [213, 213, 213, 15, 213], \n",
    "       'user2': [54, 54, 119, 119, 119], \n",
    "       'user3': [213, 98, 98, 35]}\n",
    "#Результат: {98, 35, 15, 213, 54, 119}\n",
    "\n",
    "result_ids = {}\n",
    "for key, value in ids.items():\n",
    "    if value:\n",
    "        result_ids[key] = value\n",
    "print(result_ids) \n",
    "\n",
    "а = ids.values()\n",
    "aа = list(ids.values())\n",
    "ааа = sum((aа), [])\n",
    "aaaa = list(set(ааа))\n",
    "print (aaaa)"
   ]
  },
  {
   "cell_type": "code",
   "execution_count": 79,
   "metadata": {},
   "outputs": [
    {
     "name": "stdout",
     "output_type": "stream",
     "text": [
      "Counter({3: 4, 2: 3})\n",
      "Поисковых запросов, содержащих по словам в процентах Counter({3: 57.14, 2: 42.86})\n"
     ]
    }
   ],
   "source": [
    "#Задание 2\n",
    "#Дана переменная, в которой хранится список поисковых запросов пользователя (пример структуры данных приведен ниже). \n",
    "#Вам необходимо написать программу, которая выведет на экран распределение количества слов в запросах в требуемом виде.\n",
    "#Пример работы программы:\n",
    "queries = [\n",
    "    'смотреть сериалы онлайн',\n",
    "    'новости спорта',\n",
    "    'афиша кино',\n",
    "    'курс доллара',\n",
    "    'сериалы этим летом',\n",
    "    'курс по питону',\n",
    "    'сериалы про спорт',\n",
    "]\n",
    "result_queries = {}\n",
    "for query in queries:\n",
    "    a = len(query.split())\n",
    "from collections import Counter\n",
    "counter = Counter([len(query.split()) for query in queries])\n",
    "print (counter)\n",
    "\n",
    "for n in counter.keys():\n",
    "    counter[n] = round(counter[n] / len(queries) * 100, 2)\n",
    "print ('Поисковых запросов, содержащих по словам в процентах', counter)\n",
    "\n",
    "#Результат:\n",
    "#Поисковых запросов, содержащих 2 слов(а): 42.86%\n",
    "#Поисковых запросов, содержащих 3 слов(а): 57.14%\n"
   ]
  },
  {
   "cell_type": "code",
   "execution_count": 45,
   "metadata": {},
   "outputs": [
    {
     "name": "stdout",
     "output_type": "stream",
     "text": [
      "Spisok after : {'vk': {'revenue': 103, 'cost': 98, 'ROI': 106}, 'yandex': {'revenue': 179, 'cost': 153, 'ROI2': 118}, 'facebook': {'revenue': 103, 'cost': 110, 'ROI': 94}, 'adwords': {'revenue': 35, 'cost': 34, 'ROI': 106}, 'twitter': {'revenue': 11, 'cost': 24, 'ROI': 48}}\n"
     ]
    }
   ],
   "source": [
    "#Задание 3\n",
    "#Дана переменная, в которой хранится информация о затратах и доходе рекламных кампаний по различным источникам. Необходимо дополнить исходную структуру показателем ROI, который рассчитаем по формуле: (revenue / cost - 1) * 100\n",
    "#Пример работы программы:\n",
    "results = {\n",
    "    'vk': {'revenue': 103, 'cost': 98},\n",
    "    'yandex': {'revenue': 179, 'cost': 153},\n",
    "    'facebook': {'revenue': 103, 'cost': 110},\n",
    "    'adwords': {'revenue': 35, 'cost': 34},\n",
    "    'twitter': {'revenue': 11, 'cost': 24},\n",
    "}\n",
    "#Результат:\n",
    "#{'adwords': {'ROI': 2.94, 'cost': 34, 'revenue': 35},\n",
    " #'facebook': {'ROI': -6.36, 'cost': 110, 'revenue': 103},\n",
    " #'twitter': {'ROI': -54.17, 'cost': 24, 'revenue': 11},\n",
    " #'vk': {'ROI': 5.1, 'cost': 98, 'revenue': 103},\n",
    " #'yandex': {'ROI': 16.99, 'cost': 153, 'revenue': 179}}\n",
    "\n",
    "vk = {'revenue': 103, 'cost': 98}\n",
    "a = vk.get(\"revenue\")\n",
    "b = vk.get(\"cost\")\n",
    "ROI =round((a/(b-1))*100) \n",
    "upd_dict1 = {'ROI' : ROI}\n",
    "vk[\"ROI\"] = ROI\n",
    "\n",
    "yandex = {'revenue': 179, 'cost': 153}\n",
    "aa = yandex.get(\"revenue\")\n",
    "bb = yandex.get(\"cost\")\n",
    "ROI2 =round((aa/(bb-1))*100)\n",
    "upd_dict2 = {'ROI2' : ROI2 }\n",
    "yandex[\"ROI\"] = ROI2\n",
    "\n",
    "facebook = {'revenue': 103, 'cost': 110}\n",
    "aaa = facebook.get(\"revenue\")\n",
    "bbb = facebook.get(\"cost\")\n",
    "ROI3 =round((aaa/(bbb-1))*100)\n",
    "upd_dict3 = {'ROI' : ROI3 }\n",
    "facebook[\"ROI\"] = ROI3 \n",
    "\n",
    "adwords = {'revenue': 35, 'cost': 34}\n",
    "aaaa = adwords.get(\"revenue\")\n",
    "bbbb = adwords.get(\"cost\")\n",
    "ROI4 =round((aaaa/(bbbb-1))*100)\n",
    "upd_dict4 = {'ROI' : ROI4 }\n",
    "facebook[\"ROI\"] = ROI4\n",
    "\n",
    "\n",
    "twitter = {'revenue': 11, 'cost': 24}\n",
    "aaaaa = twitter.get(\"revenue\")\n",
    "bbbbb = twitter.get(\"cost\")\n",
    "ROI5 =round((aaaaa/(bbbbb-1))*100)\n",
    "upd_dict5 = {'ROI' : ROI5 }\n",
    "twitter[\"ROI\"] = ROI5\n",
    "\n",
    "# Использование update ()\n",
    "# Обновить вложенные словарные ключи\n",
    "\n",
    "results['vk'].update(upd_dict1)\n",
    "results['yandex'].update(upd_dict2)\n",
    "results['facebook'].update(upd_dict3)\n",
    "results['adwords'].update(upd_dict4)\n",
    "results['twitter'].update(upd_dict5)\n",
    "\n",
    "# результат печати\n",
    "\n",
    "print(\"Spisok after : \" + str(results))\n"
   ]
  },
  {
   "cell_type": "code",
   "execution_count": 1,
   "metadata": {},
   "outputs": [
    {
     "name": "stdout",
     "output_type": "stream",
     "text": [
      "Максимальный объем продаж на рекламном канале {'vk': 120}\n"
     ]
    }
   ],
   "source": [
    "#Задание 4\n",
    "#Дана переменная, в которой хранится статистика рекламных каналов по объемам продаж (пример структуры данных приведен ниже). \n",
    "#Напишите программу, которая возвращает название канала с максимальным объемом продаж.\n",
    "#Пример работы программы:\n",
    "stats = {'facebook': 55, 'yandex': 115, 'vk': 120, 'google': 99, 'email': 42, 'ok': 98}\n",
    "#Результат: Максимальный объем продаж на рекламном канале: vk\n",
    "\n",
    "\n",
    "max_value = max(stats.values())\n",
    "max_stats = {k: v for k, v in stats.items() if v == max_value}\n",
    "print ('Максимальный объем продаж на рекламном канале', max_stats)\n"
   ]
  },
  {
   "cell_type": "code",
   "execution_count": 30,
   "metadata": {},
   "outputs": [
    {
     "name": "stdout",
     "output_type": "stream",
     "text": [
      "Сколько порций=?2\n",
      "[{'ingridient_name': 'сыр', 'quantity': 50, 'measure': 'гр'}, {'ingridient_name': 'томаты', 'quantity': 20, 'measure': 'гр'}, {'ingridient_name': 'огурцы', 'quantity': 20, 'measure': 'гр'}, {'ingridient_name': 'маслины', 'quantity': 10, 'measure': 'гр'}, {'ingridient_name': 'оливковое масло', 'quantity': 20, 'measure': 'мл'}, {'ingridient_name': 'салат', 'quantity': 10, 'measure': 'гр'}, {'ingridient_name': 'перец', 'quantity': 20, 'measure': 'гр'}]\n",
      "{'ingridient_name': 'сыр', 'quantity': 50, 'measure': 'гр'}\n"
     ]
    },
    {
     "ename": "AttributeError",
     "evalue": "'list' object has no attribute 'get'",
     "output_type": "error",
     "traceback": [
      "\u001b[1;31m---------------------------------------------------------------------------\u001b[0m",
      "\u001b[1;31mAttributeError\u001b[0m                            Traceback (most recent call last)",
      "\u001b[1;32m<ipython-input-30-1a66a4a76a9e>\u001b[0m in \u001b[0;36m<module>\u001b[1;34m\u001b[0m\n\u001b[0;32m     31\u001b[0m         \u001b[0mprint\u001b[0m \u001b[1;33m(\u001b[0m\u001b[0mingr\u001b[0m\u001b[1;33m)\u001b[0m\u001b[1;33m\u001b[0m\u001b[1;33m\u001b[0m\u001b[0m\n\u001b[0;32m     32\u001b[0m         \u001b[1;32mfor\u001b[0m \u001b[0mingridient_name\u001b[0m \u001b[1;32min\u001b[0m \u001b[0mingr\u001b[0m\u001b[1;33m:\u001b[0m\u001b[1;33m\u001b[0m\u001b[1;33m\u001b[0m\u001b[0m\n\u001b[1;32m---> 33\u001b[1;33m             \u001b[0mx\u001b[0m \u001b[1;33m=\u001b[0m \u001b[0my\u001b[0m\u001b[1;33m.\u001b[0m\u001b[0mget\u001b[0m\u001b[1;33m(\u001b[0m\u001b[1;34m'ingridient_name'\u001b[0m\u001b[1;33m)\u001b[0m\u001b[1;33m\u001b[0m\u001b[1;33m\u001b[0m\u001b[0m\n\u001b[0m\u001b[0;32m     34\u001b[0m             \u001b[1;32mfor\u001b[0m \u001b[0mvalue\u001b[0m \u001b[1;32min\u001b[0m \u001b[0mcook_book\u001b[0m\u001b[1;33m:\u001b[0m\u001b[1;33m\u001b[0m\u001b[1;33m\u001b[0m\u001b[0m\n\u001b[0;32m     35\u001b[0m                 \u001b[0mresult\u001b[0m \u001b[1;33m=\u001b[0m \u001b[0my\u001b[0m \u001b[1;33m*\u001b[0m \u001b[0msk\u001b[0m\u001b[1;33m\u001b[0m\u001b[1;33m\u001b[0m\u001b[0m\n",
      "\u001b[1;31mAttributeError\u001b[0m: 'list' object has no attribute 'get'"
     ]
    }
   ],
   "source": [
    "#Задание 6 вариант 1\n",
    "cook_book = {\n",
    "'салат': [\n",
    "{'ingridient_name': 'сыр', 'quantity': 50, 'measure': 'гр'},\n",
    "{'ingridient_name': 'томаты', 'quantity': 20, 'measure': 'гр'},\n",
    "{'ingridient_name': 'огурцы', 'quantity': 20, 'measure': 'гр'},\n",
    "{'ingridient_name': 'маслины', 'quantity': 10, 'measure': 'гр'},\n",
    "{'ingridient_name': 'оливковое масло', 'quantity': 20, 'measure': 'мл'},\n",
    "{'ingridient_name': 'салат', 'quantity': 10, 'measure': 'гр'},\n",
    "{'ingridient_name': 'перец', 'quantity': 20, 'measure': 'гр'}\n",
    "],\n",
    "'пицца': [\n",
    "{'ingridient_name': 'сыр', 'quantity': 20, 'measure': 'гр'},\n",
    "{'ingridient_name': 'колбаса', 'quantity': 30, 'measure': 'гр'},\n",
    "{'ingridient_name': 'бекон', 'quantity': 30, 'measure': 'гр'},\n",
    "{'ingridient_name': 'оливки', 'quantity': 10, 'measure': 'гр'},\n",
    "{'ingridient_name': 'томаты', 'quantity': 20, 'measure': 'гр'},\n",
    "{'ingridient_name': 'тесто', 'quantity': 100, 'measure': 'гр'},\n",
    "],\n",
    "'лимонад': [\n",
    "{'ingridient_name': 'лимон', 'quantity': 1, 'measure': 'шт'},\n",
    "{'ingridient_name': 'вода', 'quantity': 200, 'measure': 'мл'},\n",
    "{'ingridient_name': 'сахар', 'quantity': 10, 'measure': 'гр'},\n",
    "{'ingridient_name': 'лайм', 'quantity': 20, 'measure': 'гр'},\n",
    "]\n",
    "}\n",
    "sk = int (input ('Сколько порций=?'))\n",
    "i = 0\n",
    "for dish in cook_book.values():\n",
    "    print(dish)\n",
    "    for ingr in dish:\n",
    "        print (ingr)\n",
    "        for ingridient_name in ingr:\n",
    "            x = y.get('ingridient_name')\n",
    "            for value in cook_book:    \n",
    "                result = y * sk\n",
    "        print(value)  \n",
    "        print(result)\n",
    "    break\n",
    "    \n",
    "\n",
    "                  "
   ]
  },
  {
   "cell_type": "code",
   "execution_count": 85,
   "metadata": {},
   "outputs": [
    {
     "name": "stdout",
     "output_type": "stream",
     "text": [
      "Сколько порций=?2\n",
      "[{'ingridient_name': 'сыр', 'quantity': 50, 'measure': 'гр'}, {'ingridient_name': 'томаты', 'quantity': 20, 'measure': 'гр'}, {'ingridient_name': 'огурцы', 'quantity': 20, 'measure': 'гр'}, {'ingridient_name': 'маслины', 'quantity': 10, 'measure': 'гр'}, {'ingridient_name': 'оливковое масло', 'quantity': 20, 'measure': 'мл'}, {'ingridient_name': 'салат', 'quantity': 10, 'measure': 'гр'}, {'ingridient_name': 'перец', 'quantity': 20, 'measure': 'гр'}]\n",
      "1\n",
      "1\n",
      "1\n",
      "1\n",
      "1\n",
      "1\n",
      "1\n",
      "quantity 0\n",
      "[{'ingridient_name': 'сыр', 'quantity': 20, 'measure': 'гр'}, {'ingridient_name': 'колбаса', 'quantity': 30, 'measure': 'гр'}, {'ingridient_name': 'бекон', 'quantity': 30, 'measure': 'гр'}, {'ingridient_name': 'оливки', 'quantity': 10, 'measure': 'гр'}, {'ingridient_name': 'томаты', 'quantity': 20, 'measure': 'гр'}, {'ingridient_name': 'тесто', 'quantity': 100, 'measure': 'гр'}]\n",
      "1\n",
      "1\n",
      "1\n",
      "1\n",
      "1\n",
      "1\n",
      "quantity 0\n",
      "[{'ingridient_name': 'лимон', 'quantity': 1, 'measure': 'шт'}, {'ingridient_name': 'вода', 'quantity': 200, 'measure': 'мл'}, {'ingridient_name': 'сахар', 'quantity': 10, 'measure': 'гр'}, {'ingridient_name': 'лайм', 'quantity': 20, 'measure': 'гр'}]\n",
      "1\n",
      "1\n",
      "1\n",
      "1\n",
      "quantity 0\n"
     ]
    }
   ],
   "source": [
    "#Все делала как объясняли на занятии...но почему то не складывает значения 'quantity'\n",
    "#Попытка решения 6 задача вариант 2 \n",
    "cook_book = {\n",
    "'салат': [\n",
    "{'ingridient_name': 'сыр', 'quantity': 50, 'measure': 'гр'},\n",
    "{'ingridient_name': 'томаты', 'quantity': 20, 'measure': 'гр'},\n",
    "{'ingridient_name': 'огурцы', 'quantity': 20, 'measure': 'гр'},\n",
    "{'ingridient_name': 'маслины', 'quantity': 10, 'measure': 'гр'},\n",
    "{'ingridient_name': 'оливковое масло', 'quantity': 20, 'measure': 'мл'},\n",
    "{'ingridient_name': 'салат', 'quantity': 10, 'measure': 'гр'},\n",
    "{'ingridient_name': 'перец', 'quantity': 20, 'measure': 'гр'}\n",
    "],\n",
    "'пицца': [\n",
    "{'ingridient_name': 'сыр', 'quantity': 20, 'measure': 'гр'},\n",
    "{'ingridient_name': 'колбаса', 'quantity': 30, 'measure': 'гр'},\n",
    "{'ingridient_name': 'бекон', 'quantity': 30, 'measure': 'гр'},\n",
    "{'ingridient_name': 'оливки', 'quantity': 10, 'measure': 'гр'},\n",
    "{'ingridient_name': 'томаты', 'quantity': 20, 'measure': 'гр'},\n",
    "{'ingridient_name': 'тесто', 'quantity': 100, 'measure': 'гр'},\n",
    "],\n",
    "'лимонад': [\n",
    "{'ingridient_name': 'лимон', 'quantity': 1, 'measure': 'шт'},\n",
    "{'ingridient_name': 'вода', 'quantity': 200, 'measure': 'мл'},\n",
    "{'ingridient_name': 'сахар', 'quantity': 10, 'measure': 'гр'},\n",
    "{'ingridient_name': 'лайм', 'quantity': 20, 'measure': 'гр'},\n",
    "]\n",
    "}\n",
    "result_dict = {} # создаем пустую результирующую структуру и заполняем\n",
    "sk = int (input ('Сколько порций=?'))\n",
    "v = 1\n",
    "for dish in cook_book.values():\n",
    "    print(dish)\n",
    "    for ingr in dish:\n",
    "        if i in ingr: \n",
    "            v += int(ingr.get('quantity', 0))*sk*v\n",
    "        print(v)\n",
    "    else: \n",
    "        v = 1\n",
    "        print ('quantity', 0 )\n"
   ]
  },
  {
   "cell_type": "code",
   "execution_count": null,
   "metadata": {},
   "outputs": [],
   "source": []
  }
 ],
 "metadata": {
  "kernelspec": {
   "display_name": "Python 3",
   "language": "python",
   "name": "python3"
  },
  "language_info": {
   "codemirror_mode": {
    "name": "ipython",
    "version": 3
   },
   "file_extension": ".py",
   "mimetype": "text/x-python",
   "name": "python",
   "nbconvert_exporter": "python",
   "pygments_lexer": "ipython3",
   "version": "3.8.3"
  }
 },
 "nbformat": 4,
 "nbformat_minor": 4
}
