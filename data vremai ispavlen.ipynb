{
 "cells": [
  {
   "cell_type": "code",
   "execution_count": 19,
   "metadata": {
    "scrolled": false
   },
   "outputs": [
    {
     "name": "stdout",
     "output_type": "stream",
     "text": [
      "Wednesday, October 2, 2002 скопируйте-введите данныеWednesday, October 2, 2002\n",
      "Friday, 11.10.13 скопируйте-введите данныеFriday, 11.10.13 \n",
      "Thursday, 18 August 1977 скопируйте-введите данныеThursday, 18 August 1977\n",
      "2002-10-02 00:00:00\n",
      "2013-10-11 00:00:00\n",
      "1977-08-18 00:00:00\n"
     ]
    }
   ],
   "source": [
    "#Задание 1\n",
    "#Печатные газеты использовали свой формат дат для каждого выпуска. \n",
    "#Для каждой газеты из списка напишите формат указанной даты для перевода в объект datetime:\n",
    "\n",
    "from datetime import datetime \n",
    "Moscow_Times = input ('Wednesday, October 2, 2002 скопируйте-введите данные')\n",
    "The_Guardian = input ('Friday, 11.10.13 скопируйте-введите данные')\n",
    "Daily_News  = input ('Thursday, 18 August 1977 скопируйте-введите данные')\n",
    "Moscow_Times_ = datetime.strptime ('Wednesday, October 2, 2002','%A, %B %d, %Y')\n",
    "The_Guardian_ = datetime.strptime('Friday, 11.10.13','%A, %d.%m.%y')\n",
    "Daily_News_ = datetime.strptime('Thursday, 18 August 1977','%A, %d %B %Y')\n",
    "print (Moscow_Times_)\n",
    "print (The_Guardian_) \n",
    "print (Daily_News_)                         "
   ]
  },
  {
   "cell_type": "code",
   "execution_count": null,
   "metadata": {},
   "outputs": [],
   "source": [
    "#Задание 2 ВАРИАНТ РЕШЕНИЯ через ввод imput\n",
    "#Дан поток дат в формате YYYY-MM-DD, в которых встречаются некорректные значения:\n",
    "#stream = [‘2018-04-02’, ‘2018-02-29’, ‘2018-19-02’]\n",
    "#Напишите функцию, которая проверяет эти даты на корректность. \n",
    "#Т. е. для каждой даты возвращает True (дата корректна) или False (некорректная дата).\n",
    "from datetime import datetime\n",
    "import datetime as dt\n",
    "a = input ('дата')\n",
    "stream = ['2018-04-02', '2018-02-29', '2018-19-02']\n",
    "def date_validator(date):\n",
    "    for date in stream:\n",
    "        try:\n",
    "            datetime.strptime (date, \"%Y-%m-%d\")\n",
    "        except: \n",
    "            ValueError\n",
    "            return False\n",
    "date_validator(a)"
   ]
  },
  {
   "cell_type": "code",
   "execution_count": null,
   "metadata": {},
   "outputs": [],
   "source": [
    "#Задание 2 ВАРИАНТ РЕШЕНИЕ через перебор вне цикла\n",
    "#Дан поток дат в формате YYYY-MM-DD, в которых встречаются некорректные значения:\n",
    "#stream = [‘2018-04-02’, ‘2018-02-29’, ‘2018-19-02’]\n",
    "#Напишите функцию, которая проверяет эти даты на корректность. \n",
    "#Т. е. для каждой даты возвращает True (дата корректна) или False (некорректная дата).\n",
    "from datetime import datetime\n",
    "stream = ['2018-04-02', '2018-02-29', '2018-19-02']\n",
    "def date_validator(date):\n",
    "    try:\n",
    "        datetime.strptime (date, \"%Y-%m-%d\")\n",
    "        return True\n",
    "    except ValueError:\n",
    "        return False\n",
    "    print ('пустой список')\n",
    "for date in stream:\n",
    "    date_validator(date)\n",
    "    print(date_validator(date))"
   ]
  },
  {
   "cell_type": "code",
   "execution_count": 46,
   "metadata": {},
   "outputs": [
    {
     "name": "stdout",
     "output_type": "stream",
     "text": [
      "[]\n",
      "20-10-2020\n",
      "21-10-2020\n",
      "22-10-2020\n",
      "23-10-2020\n",
      "24-10-2020\n",
      "25-10-2020\n",
      "26-10-2020\n",
      "27-10-2020\n",
      "28-10-2020\n",
      "29-10-2020\n",
      "30-10-2020\n",
      "31-10-2020\n",
      "01-11-2020\n",
      "02-11-2020\n",
      "03-11-2020\n",
      "04-11-2020\n",
      "05-11-2020\n",
      "06-11-2020\n",
      "07-11-2020\n",
      "08-11-2020\n",
      "09-11-2020\n",
      "10-11-2020\n",
      "11-11-2020\n",
      "12-11-2020\n",
      "13-11-2020\n",
      "14-11-2020\n",
      "15-11-2020\n",
      "16-11-2020\n",
      "17-11-2020\n",
      "18-11-2020\n",
      "19-11-2020\n",
      "20-11-2020\n"
     ]
    }
   ],
   "source": [
    "# ПОПРАВЛЕНО\n",
    "#Задание 3\n",
    "#Напишите функцию date_range, которая возвращает список дат за период от start_date до end_date. \n",
    "#Даты должны вводиться в формате YYYY-MM-DD. В случае неверного формата \n",
    "#или при start_date > end_date должен возвращаться пустой список.\n",
    "s = []  # определяем пустой список\n",
    "import datetime as dt\n",
    "from datetime import datetime\n",
    "def date_range(start_date, end_date) -> list:\n",
    "    date_1 = min(start_date, end_date)\n",
    "    date_2 = max(start_date, end_date)\n",
    "\n",
    "    # Сразу добавляем стартовую дату\n",
    "    items = [date_1]\n",
    "\n",
    "    while date_1 < date_2:\n",
    "        date_1 += dt.timedelta(days=1)\n",
    "        items.append(date_1)\n",
    "\n",
    "    return items\n",
    "\n",
    "if __name__ == '__main__':\n",
    "    def d2s(date):\n",
    "       \n",
    "        return date.strftime(\"%d-%m-%Y\")\n",
    "       \n",
    "    start_date = dt.date(2020,10,20)    \n",
    "    end_date = dt.date(2020, 11, 20)\n",
    "    #Блок Проверки\n",
    "    if start_date.strftime != start_date.strftime('%Y-%m-%d')  or end_date.strftime != end_date.strftime('%Y-%m-%d') or start_date > end_date:\n",
    "            print(s)\n",
    "\n",
    "    items = date_range(start_date, end_date)\n",
    "    \n",
    "    for date in items:\n",
    "            print(d2s(date))"
   ]
  },
  {
   "cell_type": "code",
   "execution_count": null,
   "metadata": {},
   "outputs": [],
   "source": []
  }
 ],
 "metadata": {
  "kernelspec": {
   "display_name": "Python 3",
   "language": "python",
   "name": "python3"
  },
  "language_info": {
   "codemirror_mode": {
    "name": "ipython",
    "version": 3
   },
   "file_extension": ".py",
   "mimetype": "text/x-python",
   "name": "python",
   "nbconvert_exporter": "python",
   "pygments_lexer": "ipython3",
   "version": "3.8.3"
  }
 },
 "nbformat": 4,
 "nbformat_minor": 4
}
