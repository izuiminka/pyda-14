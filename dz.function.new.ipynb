{
 "cells": [
  {
   "cell_type": "code",
   "execution_count": 15,
   "metadata": {},
   "outputs": [
    {
     "ename": "SyntaxError",
     "evalue": "invalid syntax (<ipython-input-15-02c1a9ba1b73>, line 30)",
     "output_type": "error",
     "traceback": [
      "\u001b[1;36m  File \u001b[1;32m\"<ipython-input-15-02c1a9ba1b73>\"\u001b[1;36m, line \u001b[1;32m30\u001b[0m\n\u001b[1;33m    elif comanda = 's':\u001b[0m\n\u001b[1;37m    ^\u001b[0m\n\u001b[1;31mSyntaxError\u001b[0m\u001b[1;31m:\u001b[0m invalid syntax\n"
     ]
    }
   ],
   "source": [
    "documents = [\n",
    "{'type': 'passport', 'number': '2207 876234', 'name': 'Василий Гупкин'},\n",
    "{'type': 'invoice', 'number': '11-2', 'name': 'Геннадий Покемонов'},\n",
    "{'type': 'insurance', 'number': '10006', 'name': 'Аристарх Павлов'}\n",
    "]\n",
    "\n",
    "directories = {\n",
    "'1': ['2207 876234', '11-2'],\n",
    "'2': ['10006'],\n",
    "'3': []\n",
    "}\n",
    "\n",
    "def number_document(number):\n",
    "#запишем здесь функцию про документы/людей\n",
    "    return number\n",
    "def number_polka (number):\n",
    "#запишем здесь функцию про документы/полку\n",
    "    return number\n",
    "\n",
    "def main(comanda):\n",
    "    comanda =  input('Введите команду:')\n",
    "    if comanda == 'p':\n",
    "        number = input('Введите номер документа:')\n",
    "    number_document(number)\n",
    "    \n",
    "#p Пользователь по команде “p” может узнать владельца документа по его номеру\n",
    "#input('Введите номер документа:')\n",
    "#ТУТ ИСПОЛЬЗОВАТЬ нужно .get\n",
    "\n",
    "    elif comanda == 's':\n",
    "         number = input('Введите номер документа:')\n",
    "    number_polka(number)\n",
    "#s Пользователь по команде “s” может по номеру документа узнать на какой полке он хранится\n",
    "#input('Введите номер документа:') запроcить, далее проверить вхождение значения в список\n",
    "   \n",
    "    elif comanda == 'L':\n",
    "         number = input('Введите номер документа:')\n",
    "    number_document(number)\n",
    "    number_polka(number)  \n",
    "#L Пользователь по команде “L” может увидеть полную информацию по всем документам\n",
    "#ТУТ ИСПОЛЬЗОВАТЬ print (documents), т.е вывести список-словарь из нашего условия\n",
    "   \n",
    "    elif comanda == 'as':\n",
    "         new_number = input('Введите номер полки:')\n",
    "    number_polka(number)       \n",
    "    number_polka.append(new_number) \n",
    "#as Пользователь по команде “as” может добавить новую полку\n",
    "#input('Введите номер полки:')\n",
    "\n",
    "    elif comanda == 'ds':\n",
    "        number = input('Введите номер полки:')\n",
    "    del number_polka(number)  \n",
    "#ds Пользователь по команде “ds” может удалить существующую полку из данных (только если она пустая)\n"
   ]
  },
  {
   "cell_type": "code",
   "execution_count": 36,
   "metadata": {},
   "outputs": [],
   "source": [
    "#Задача по полки\n",
    "documents = [\n",
    "{'type': 'passport', 'number': '2207 876234', 'name': 'Василий Гупкин'},\n",
    "{'type': 'invoice', 'number': '11-2', 'name': 'Геннадий Покемонов'},\n",
    "{'type': 'insurance', 'number': '10006', 'name': 'Аристарх Павлов'}\n",
    "]\n",
    "\n",
    "directories = {'1': ['2207 876234', '11-2'],'2': ['10006'],'3': []}\n",
    "#напишем функцию, которая возвращает ключ по значению\n",
    "def getkey(val, directory): \n",
    "    for key, value in directory.items():\n",
    "        if val in value:\n",
    "            return key\n",
    "    else:\n",
    "        print ('Внимание, документа нет в базе')\n",
    "\n",
    "def main():\n",
    "    print ('Перед вами помошник секретарю')\n",
    "    while True:\n",
    "        comanda = input('введите команду:')\n",
    "        if comanda =='p':\n",
    "            funktsia()\n",
    "        elif comanda =='s':\n",
    "            find_number_polka()\n",
    "        elif comanda =='L':\n",
    "            information_funktsia()\n",
    "        elif comanda =='as':\n",
    "            new_number_polka()\n",
    "        elif comanda =='ds':\n",
    "            del_number_polka() \n",
    "            print('выход')        "
   ]
  },
  {
   "cell_type": "code",
   "execution_count": 40,
   "metadata": {},
   "outputs": [],
   "source": [
    "#p Пользователь по команде “p” может узнать владельца документа по его номеру\n",
    "\n",
    "def funktsia():\n",
    "    number_doc=input ('Введите номер документа:')\n",
    "    for i in range (0, len (documents)):\n",
    "        if number_doc in documents[i].values():\n",
    "            print ('Имя владельца документа:', documents[i]['name'])\n",
    "        break\n",
    "    else:    \n",
    "        print('ошибка')"
   ]
  },
  {
   "cell_type": "code",
   "execution_count": null,
   "metadata": {},
   "outputs": [],
   "source": [
    "#L Пользователь по команде “L” может увидеть полную информацию по всем документам\n",
    "def information_funktsia():\n",
    "    print ('Напечатайте список документов')\n",
    "    for i in range (0, len (documents)):\n",
    "        print ('№:', documents[i]['number'], 'тип:', documents[i]['type'],'имя владельца:', documents[i]['name'], 'полка хранения:', getkey (documents[i]['number'], directories))"
   ]
  },
  {
   "cell_type": "code",
   "execution_count": 41,
   "metadata": {},
   "outputs": [],
   "source": [
    "#s Пользователь по команде “s” может по номеру документа узнать на какой полке он хранится               \n",
    "def  find_number_polka(): \n",
    "    number_doc=input ('Введите номер документа:')\n",
    "    if getkey(number_doc, directories):\n",
    "        print('Полка хранения:', getkey(number_doc, directories))\n",
    "    else:\n",
    "        print('ошибка')"
   ]
  },
  {
   "cell_type": "code",
   "execution_count": 39,
   "metadata": {},
   "outputs": [],
   "source": [
    "#as Пользователь по команде “as” может добавить новую полку\n",
    "def new_number_polka():\n",
    "    documents_dict ={}\n",
    "#нужно ввести все связанные данные по команде “as”\n",
    "    type_doc = input ('Введи тип документа:')\n",
    "    number_doc = input ('Введите номер документа:')\n",
    "    name_doc = input ('Введите имя владельца документов:')\n",
    "    number_polka =  input ('Введите номер полкихранения документов:')\n",
    "    documents_dict.setdefault('type', type_doc) \n",
    "    documents_dict.setdefault('number', number_doc) \n",
    "    documents_dict.setdefault('name', name_doc) \n",
    "    documents.append(documents_dict)\n",
    "    if number_polka in directories.keys():\n",
    "        directories.setdefault(number_polka,[]).append(number_doc)\n",
    "        print('Выполнение добавления документа')\n",
    "        information_funktsia()\n",
    "    else:\n",
    "        print('нет такого номера полки')  "
   ]
  },
  {
   "cell_type": "code",
   "execution_count": 28,
   "metadata": {},
   "outputs": [],
   "source": [
    "#ds Пользователь по команде “ds” может удалить существующую полку из данных                          \n",
    "def  del_number_polka():      \n",
    "    number_doc = input ('Введите номер документа:')     \n",
    "    #смотрим пустая ли полка\n",
    "    for i in range(0, len (documents)):\n",
    "        if number_doc in documents[i].values():\n",
    "            del documents[i]\n",
    "        print ('документ удалили')\n",
    "        information_funktsia()"
   ]
  }
 ],
 "metadata": {
  "kernelspec": {
   "display_name": "Python 3",
   "language": "python",
   "name": "python3"
  },
  "language_info": {
   "codemirror_mode": {
    "name": "ipython",
    "version": 3
   },
   "file_extension": ".py",
   "mimetype": "text/x-python",
   "name": "python",
   "nbconvert_exporter": "python",
   "pygments_lexer": "ipython3",
   "version": "3.8.3"
  }
 },
 "nbformat": 4,
 "nbformat_minor": 4
}
