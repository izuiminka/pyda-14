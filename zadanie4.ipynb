{
 "cells": [
  {
   "cell_type": "code",
   "execution_count": 21,
   "metadata": {},
   "outputs": [
    {
     "name": "stdout",
     "output_type": "stream",
     "text": [
      "Введите ширину - число в сантиментах:10\n",
      "Введите длину - число в сантиметрах:205\n",
      "Введите высоту - число в сантиметрах:5\n",
      "упаковка для лыж\n"
     ]
    }
   ],
   "source": [
    "width =int(input(\"Введите ширину - число в сантиментах:\"))\n",
    "length =int(input(\"Введите длину - число в сантиметрах:\"))\n",
    "height =int(input(\"Введите высоту - число в сантиметрах:\"))\n",
    "\n",
    "a =width\n",
    "b =length\n",
    "c =height\n",
    "\n",
    "if a < 15 and b < 15 and c < 15:\n",
    "    print(\"коробка №1\")    \n",
    "    \n",
    "elif a > 15 and a < 50 or b > 15 and b < 50 or c > 15 and c < 50:\n",
    "    print(\"коробка №2\") \n",
    "    \n",
    "elif b > 200:\n",
    "    print(\"упаковка для лыж\")\n",
    "else:    \n",
    "    print(\"стандартная коробка №3\")"
   ]
  }
 ],
 "metadata": {
  "kernelspec": {
   "display_name": "Python 3",
   "language": "python",
   "name": "python3"
  },
  "language_info": {
   "codemirror_mode": {
    "name": "ipython",
    "version": 3
   },
   "file_extension": ".py",
   "mimetype": "text/x-python",
   "name": "python",
   "nbconvert_exporter": "python",
   "pygments_lexer": "ipython3",
   "version": "3.8.3"
  }
 },
 "nbformat": 4,
 "nbformat_minor": 4
}
