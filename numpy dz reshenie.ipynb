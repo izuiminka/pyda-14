{
 "cells": [
  {
   "cell_type": "code",
   "execution_count": 2,
   "metadata": {},
   "outputs": [
    {
     "name": "stdout",
     "output_type": "stream",
     "text": [
      "[0 1 2 3 4 5 6 7 8 9]\n",
      "[9 8 7 6 5 4 3 2 1 0]\n"
     ]
    }
   ],
   "source": [
    "#Задание 1\n",
    "#Создайте numpy array с элементами от числа N до 0 (например, для N = 10 это будет array([9, 8, 7, 6, 5, 4, 3, 2, 1, 0])).\n",
    "\n",
    "import numpy as np\n",
    "spisok = np.arange(10) \n",
    "print (spisok)\n",
    "reversed_spisok = np.flipud(spisok)\n",
    "print (reversed_spisok)"
   ]
  },
  {
   "cell_type": "code",
   "execution_count": 5,
   "metadata": {
    "scrolled": true
   },
   "outputs": [
    {
     "name": "stdout",
     "output_type": "stream",
     "text": [
      "введи круглое число, которые делится на 10 =30\n",
      "[[24 25 26 27 28 29]\n",
      " [18 19 20 21 22 23]\n",
      " [12 13 14 15 16 17]\n",
      " [ 6  7  8  9 10 11]\n",
      " [ 0  1  2  3  4  5]]\n"
     ]
    },
    {
     "data": {
      "text/plain": [
       "array([[ 0,  0,  2,  0,  0,  0],\n",
       "       [ 0,  0,  0, 17,  0,  0],\n",
       "       [ 0,  0,  0,  0, 32,  0],\n",
       "       [ 0,  0,  0,  0,  0, 47],\n",
       "       [ 0,  0,  0,  0,  0,  0],\n",
       "       [ 0,  0,  0,  0,  0,  0]])"
      ]
     },
     "execution_count": 5,
     "metadata": {},
     "output_type": "execute_result"
    }
   ],
   "source": [
    "#Задание 2\n",
    "#Создайте диагональную матрицу с элементами от N до 0. Посчитайте сумму ее значений на диагонали.\n",
    "\n",
    "n = int(input ('введи круглое число, которые делится на 10 ='))\n",
    "a = np.arange(n).reshape(5, 6)\n",
    "reversed_a = np.flipud(a)\n",
    "print (reversed_a)\n"
   ]
  },
  {
   "cell_type": "code",
   "execution_count": 2,
   "metadata": {},
   "outputs": [
    {
     "data": {
      "text/plain": [
       "array([[1., 0., 0., 0., 0.],\n",
       "       [0., 1., 0., 0., 0.],\n",
       "       [0., 0., 1., 0., 0.],\n",
       "       [0., 0., 0., 1., 0.],\n",
       "       [0., 0., 0., 0., 1.]])"
      ]
     },
     "execution_count": 2,
     "metadata": {},
     "output_type": "execute_result"
    }
   ],
   "source": [
    "import numpy as np\n",
    "np.diag(np.arange(1, 50, 15), k=0)\n",
    "np.eye(5)"
   ]
  },
  {
   "cell_type": "code",
   "execution_count": 10,
   "metadata": {},
   "outputs": [
    {
     "name": "stdout",
     "output_type": "stream",
     "text": [
      "введи круглое число, которые делится на 10 =50\n"
     ]
    },
    {
     "data": {
      "text/plain": [
       "array([], shape=(0, 0), dtype=int32)"
      ]
     },
     "execution_count": 10,
     "metadata": {},
     "output_type": "execute_result"
    }
   ],
   "source": [
    "import numpy as np\n",
    "n = int(input ('введи круглое число, которые делится на 10 ='))\n",
    "np.diag(np.arange(n, 0, 5), k=0)"
   ]
  },
  {
   "cell_type": "code",
   "execution_count": 13,
   "metadata": {},
   "outputs": [
    {
     "data": {
      "text/plain": [
       "array([-5.18181818,  5.72727273])"
      ]
     },
     "execution_count": 13,
     "metadata": {},
     "output_type": "execute_result"
    }
   ],
   "source": [
    "#Задание 3\n",
    "#Решите систему уравнений:\n",
    "#4x + 2y + z = 4\n",
    "#x + 3y = 12\n",
    "#5y + 4z = -3\n",
    "\n",
    "\n",
    "# коэффициенты при переменных в левой части уравнения\n",
    "\n",
    "a = np.array([[1, 3], [5, 4]])\n",
    "b = np.array([12, -3])\n",
    "from numpy import linalg\n",
    "linalg.solve(a, b)\n"
   ]
  },
  {
   "cell_type": "code",
   "execution_count": 14,
   "metadata": {},
   "outputs": [
    {
     "data": {
      "text/plain": [
       "True"
      ]
     },
     "execution_count": 14,
     "metadata": {},
     "output_type": "execute_result"
    }
   ],
   "source": [
    "np.allclose( np.dot(a, linalg.solve(a, b)), b ) #проверка решения\n"
   ]
  },
  {
   "cell_type": "code",
   "execution_count": 23,
   "metadata": {},
   "outputs": [
    {
     "data": {
      "text/plain": [
       "0.19999999999999996"
      ]
     },
     "execution_count": 23,
     "metadata": {},
     "output_type": "execute_result"
    }
   ],
   "source": [
    "#Задание 4\n",
    "#В материалах занятия раздел “Задача 4 домашнего задания”\n",
    "import numpy as np\n",
    "import matplotlib.pyplot as plt\n",
    "users_stats = np.array(\n",
    "    [\n",
    "        [2, 1, 0, 0, 0, 0],\n",
    "        [1, 1, 2, 1, 0, 0],\n",
    "        [2, 0, 1, 0, 0, 0],\n",
    "        [1, 1, 2, 1, 0, 1],\n",
    "        [0, 0, 1, 2, 0, 0],\n",
    "        [0, 0, 0, 0, 0, 5],\n",
    "        [1, 0, 0, 0, 0, 0],\n",
    "        [0, 1, 1, 0, 0, 0],\n",
    "        [1, 0, 0, 0, 0, 0],\n",
    "        [1, 0, 0, 2, 1, 4]\n",
    "    ], \n",
    "    np.int32\n",
    ")\n",
    "\n",
    "\n",
    "a1 = np.array([2, 1, 0, 0, 0, 0])\n",
    "b = np.array([0, 1, 2, 0, 0, 0]) #На сайт заходит очередной посетитель, о покупках которого известно следующие координаты\n",
    "def cosine( a1, b ):\n",
    "    \"\"\"\n",
    "    Подсчет косинуса угла между векторами a1, b по их координатам\n",
    "    \"\"\"\n",
    "    # длины векторов\n",
    "    aLength = np.linalg.norm( a1 )\n",
    "    bLength = np.linalg.norm( b )\n",
    "    \n",
    "    return np.dot( a1, b ) / ( aLength * bLength )\n",
    "cosine( a1, b )"
   ]
  },
  {
   "cell_type": "code",
   "execution_count": 24,
   "metadata": {},
   "outputs": [
    {
     "data": {
      "text/plain": [
       "0.8451542547285165"
      ]
     },
     "execution_count": 24,
     "metadata": {},
     "output_type": "execute_result"
    }
   ],
   "source": [
    "a2 = np.array([1, 1, 2, 1, 0, 0])\n",
    "b = np.array([0, 1, 2, 0, 0, 0]) #На сайт заходит очередной посетитель, о покупках которого известно следующие координаты\n",
    "def cosine( a2, b ):\n",
    "    \"\"\"\n",
    "    Подсчет косинуса угла между векторами a2, b по их координатам\n",
    "    \"\"\" \n",
    "    # длины векторов\n",
    "    aLength = np.linalg.norm( a2)\n",
    "    bLength = np.linalg.norm( b )\n",
    "    \n",
    "    return np.dot( a2, b ) / ( aLength * bLength )\n",
    "cosine( a2, b )"
   ]
  },
  {
   "cell_type": "code",
   "execution_count": 25,
   "metadata": {},
   "outputs": [
    {
     "data": {
      "text/plain": [
       "0.3999999999999999"
      ]
     },
     "execution_count": 25,
     "metadata": {},
     "output_type": "execute_result"
    }
   ],
   "source": [
    "a3 = np.array([2, 0, 1, 0, 0, 0])\n",
    "b = np.array([0, 1, 2, 0, 0, 0]) #На сайт заходит очередной посетитель, о покупках которого известно следующие координаты\n",
    "def cosine( a3, b ):\n",
    "    \"\"\"\n",
    "    Подсчет косинуса угла между векторами a3, b по их координатам\n",
    "    \"\"\"\n",
    "    \n",
    "    # длины векторов\n",
    "    aLength = np.linalg.norm( a3)\n",
    "    bLength = np.linalg.norm( b )\n",
    "    \n",
    "    return np.dot( a3, b ) / ( aLength * bLength )\n",
    "cosine( a3, b )"
   ]
  },
  {
   "cell_type": "code",
   "execution_count": 10,
   "metadata": {},
   "outputs": [
    {
     "data": {
      "text/plain": [
       "0.7905694150420948"
      ]
     },
     "execution_count": 10,
     "metadata": {},
     "output_type": "execute_result"
    }
   ],
   "source": [
    "a4 = np.array([1, 1, 2, 1, 0, 1])\n",
    "b = np.array([0, 1, 2, 0, 0, 0]) #На сайт заходит очередной посетитель, о покупках которого известно следующие координаты\n",
    "\n",
    "def cosine( a4, b ):\n",
    "    \"\"\"\n",
    "    Подсчет косинуса угла между векторами a4, b по их координатам\n",
    "    \"\"\"\n",
    "    # длины векторов\n",
    "    aLength = np.linalg.norm( a4 )\n",
    "    bLength = np.linalg.norm( b )\n",
    "    \n",
    "    return np.dot( a4, b ) / ( aLength * bLength )\n",
    "cosine( a4, b )"
   ]
  },
  {
   "cell_type": "code",
   "execution_count": 35,
   "metadata": {},
   "outputs": [
    {
     "data": {
      "text/plain": [
       "0.3999999999999999"
      ]
     },
     "execution_count": 35,
     "metadata": {},
     "output_type": "execute_result"
    }
   ],
   "source": [
    "a5 = np.array([0, 0, 1, 2, 0, 0])\n",
    "b = np.array([0, 1, 2, 0, 0, 0]) #На сайт заходит очередной посетитель, о покупках которого известно следующие координаты\n",
    "def cosine( a5, b ):\n",
    "    \"\"\"\n",
    "    Подсчет косинуса угла между векторами a5, b по их координатам\n",
    "    \"\"\"\n",
    "    \n",
    "    # длины векторов\n",
    "    aLength = np.linalg.norm( a5 )\n",
    "    bLength = np.linalg.norm( b )\n",
    "    \n",
    "    return np.dot( a5, b ) / ( aLength * bLength )\n",
    "cosine( a5, b )"
   ]
  },
  {
   "cell_type": "code",
   "execution_count": 28,
   "metadata": {},
   "outputs": [
    {
     "data": {
      "text/plain": [
       "0.0"
      ]
     },
     "execution_count": 28,
     "metadata": {},
     "output_type": "execute_result"
    }
   ],
   "source": [
    "a6 = np.array([0, 0, 0, 0, 0, 5])  \n",
    "b = np.array([0, 1, 2, 0, 0, 0]) #На сайт заходит очередной посетитель, о покупках которого известно следующие координаты\n",
    "def cosine( a6, b ):\n",
    "    \"\"\"\n",
    "    Подсчет косинуса угла между векторами a6, b по их координатам\n",
    "    \"\"\"\n",
    "    # длины векторов\n",
    "    aLength = np.linalg.norm( a6 )\n",
    "    bLength = np.linalg.norm( b )\n",
    "    \n",
    "    return np.dot( a6, b ) / ( aLength * bLength )\n",
    "cosine( a6, b )"
   ]
  },
  {
   "cell_type": "code",
   "execution_count": 34,
   "metadata": {},
   "outputs": [
    {
     "data": {
      "text/plain": [
       "0.0"
      ]
     },
     "execution_count": 34,
     "metadata": {},
     "output_type": "execute_result"
    }
   ],
   "source": [
    "a7 = np.array([1, 0, 0, 0, 0, 0])\n",
    "b = np.array([0, 1, 2, 0, 0, 0]) #На сайт заходит очередной посетитель, о покупках которого известно следующие координаты\n",
    "def cosine( a7, b ):\n",
    "    \"\"\"\n",
    "    Подсчет косинуса угла между векторами a7, b по их координатам\n",
    "    \"\"\"\n",
    "    \n",
    "    # длины векторов\n",
    "    aLength = np.linalg.norm( a7 )\n",
    "    bLength = np.linalg.norm( b )\n",
    "    \n",
    "    return np.dot( a7, b ) / ( aLength * bLength )\n",
    "cosine( a7, b )"
   ]
  },
  {
   "cell_type": "code",
   "execution_count": 33,
   "metadata": {},
   "outputs": [
    {
     "data": {
      "text/plain": [
       "0.0"
      ]
     },
     "execution_count": 33,
     "metadata": {},
     "output_type": "execute_result"
    }
   ],
   "source": [
    "a8 = np.array([1, 0, 0, 0, 0, 0])\n",
    "b = np.array([0, 1, 2, 0, 0, 0]) #На сайт заходит очередной посетитель, о покупках которого известно следующие координаты\n",
    "def cosine( a8, b ):\n",
    "    \"\"\"\n",
    "    Подсчет косинуса угла между векторами a8, b по их координатам\n",
    "    \"\"\"\n",
    "    \n",
    "    # длины векторов\n",
    "    aLength = np.linalg.norm( a8 )\n",
    "    bLength = np.linalg.norm( b )\n",
    "    \n",
    "    return np.dot( a8, b ) / ( aLength * bLength )\n",
    "cosine( a8, b )"
   ]
  },
  {
   "cell_type": "code",
   "execution_count": 32,
   "metadata": {},
   "outputs": [
    {
     "data": {
      "text/plain": [
       "0.0"
      ]
     },
     "execution_count": 32,
     "metadata": {},
     "output_type": "execute_result"
    }
   ],
   "source": [
    "a9 = np.array([1, 0, 0, 2, 1, 4])\n",
    "b = np.array([0, 1, 2, 0, 0, 0]) #На сайт заходит очередной посетитель, о покупках которого известно следующие координаты\n",
    "def cosine( a9, b ):\n",
    "    \"\"\"\n",
    "    Подсчет косинуса угла между векторами a9, b по их координатам\n",
    "    \"\"\"\n",
    "    \n",
    "    # длины векторов\n",
    "    aLength = np.linalg.norm( a9 )\n",
    "    bLength = np.linalg.norm( b )\n",
    "    \n",
    "    return np.dot( a9, b ) / ( aLength * bLength )\n",
    "cosine( a9, b )"
   ]
  },
  {
   "cell_type": "code",
   "execution_count": null,
   "metadata": {},
   "outputs": [],
   "source": [
    "# Вывод вектор a2 = np.array([1, 1, 2, 1, 0, 0]) с координатами наиболее близок к искомому b = np.array([0, 1, 2, 0, 0, 0]) "
   ]
  }
 ],
 "metadata": {
  "kernelspec": {
   "display_name": "Python 3",
   "language": "python",
   "name": "python3"
  },
  "language_info": {
   "codemirror_mode": {
    "name": "ipython",
    "version": 3
   },
   "file_extension": ".py",
   "mimetype": "text/x-python",
   "name": "python",
   "nbconvert_exporter": "python",
   "pygments_lexer": "ipython3",
   "version": "3.8.3"
  }
 },
 "nbformat": 4,
 "nbformat_minor": 4
}
