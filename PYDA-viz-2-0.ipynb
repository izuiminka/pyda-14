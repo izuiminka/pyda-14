{
 "cells": [
  {
   "cell_type": "code",
   "execution_count": null,
   "metadata": {
    "scrolled": false
   },
   "outputs": [],
   "source": [
    "import matplotlib.pyplot as plt\n",
    "import pandas as pd"
   ]
  },
  {
   "cell_type": "code",
   "execution_count": null,
   "metadata": {
    "scrolled": false
   },
   "outputs": [],
   "source": [
    "#увеличим дефолтный размер графиков\n",
    "from pylab import rcParams\n",
    "\n",
    "rcParams['figure.figsize'] = 13,6"
   ]
  },
  {
   "cell_type": "markdown",
   "metadata": {},
   "source": [
    "# <center> Matplotlib"
   ]
  },
  {
   "cell_type": "markdown",
   "metadata": {},
   "source": [
    "Matplotlib – одна из самых популярных библиотек Python для визуализации данных.\n",
    "\n",
    "Импорт: import matplotlib.pyplot as plt\n",
    "\n",
    "Документация: https://matplotlib.org/contents.html"
   ]
  },
  {
   "cell_type": "code",
   "execution_count": null,
   "metadata": {
    "scrolled": false
   },
   "outputs": [],
   "source": [
    "plt.plot(5, 5, 'x')\n",
    "plt.xlabel('Подпись оси')\n",
    "# plt.show()"
   ]
  },
  {
   "cell_type": "code",
   "execution_count": null,
   "metadata": {
    "scrolled": false
   },
   "outputs": [],
   "source": [
    "plt.plot([1, 4, 9, 12, 15, 20, 25])\n",
    "# plt.show()\n",
    "plt.plot([25, 20, 15, 12, 9, 4, 2])"
   ]
  },
  {
   "cell_type": "markdown",
   "metadata": {},
   "source": [
    "Поработаем с данными о продажах и оценках видео-игр с [Kaggle Datasets](https://www.kaggle.com/ashaheedq/video-games-sales-2019?select=vgsales-12-4-2019.csv)."
   ]
  },
  {
   "cell_type": "code",
   "execution_count": null,
   "metadata": {
    "scrolled": false
   },
   "outputs": [],
   "source": [
    "df = pd.read_csv('video_games_sales.csv')"
   ]
  },
  {
   "cell_type": "code",
   "execution_count": null,
   "metadata": {
    "scrolled": false
   },
   "outputs": [],
   "source": [
    "print(df.shape)"
   ]
  },
  {
   "cell_type": "code",
   "execution_count": null,
   "metadata": {
    "scrolled": false
   },
   "outputs": [],
   "source": [
    "df.info()\n",
    "# что видим?"
   ]
  },
  {
   "cell_type": "code",
   "execution_count": null,
   "metadata": {
    "scrolled": false
   },
   "outputs": [],
   "source": [
    "# переведем для порядка годы к integer\n",
    "df['Year'] = df.Year.astype('Int64')"
   ]
  },
  {
   "cell_type": "code",
   "execution_count": null,
   "metadata": {
    "scrolled": false
   },
   "outputs": [],
   "source": [
    "df.describe()"
   ]
  },
  {
   "cell_type": "code",
   "execution_count": null,
   "metadata": {
    "scrolled": false
   },
   "outputs": [],
   "source": [
    "df.head()"
   ]
  },
  {
   "cell_type": "markdown",
   "metadata": {},
   "source": [
    "## График\n",
    "Построим график динамики продажи видеоигр"
   ]
  },
  {
   "cell_type": "code",
   "execution_count": null,
   "metadata": {
    "scrolled": false
   },
   "outputs": [],
   "source": [
    "dynamics_by_region = df[[x for x in df.columns if 'Sales' in x] + ['Year']] \\\n",
    "    .groupby('Year').sum()\n",
    "dynamics_by_region"
   ]
  },
  {
   "cell_type": "code",
   "execution_count": null,
   "metadata": {},
   "outputs": [],
   "source": []
  },
  {
   "cell_type": "code",
   "execution_count": null,
   "metadata": {
    "scrolled": false
   },
   "outputs": [],
   "source": [
    "# применяем функцию plot из matplotlib\n",
    "# для каждой дополнительной настройки есть своя функция\n",
    "plt.plot(dynamics_by_region.index, dynamics_by_region.Global_Sales)\n",
    "plt.title('Динамика продаж видеоигр')\n",
    "plt.xlabel('Год')\n",
    "plt.ylabel('Продажи, млн.')"
   ]
  },
  {
   "cell_type": "code",
   "execution_count": null,
   "metadata": {
    "scrolled": false
   },
   "outputs": [],
   "source": [
    "# можем использовать цикл, чтобы построить графики для каждого региона\n",
    "for region in [x for x in df.columns if 'Sales' in x]:\n",
    "    plt.plot(dynamics_by_region.index, dynamics_by_region[region])\n",
    "    plt.title('Динамика продаж видеоигр')\n",
    "    plt.xlabel('Год')\n",
    "    plt.ylabel('Продажи, млн.') \n",
    "    plt.legend(dynamics_by_region)"
   ]
  },
  {
   "cell_type": "markdown",
   "metadata": {},
   "source": [
    "Метод .plot() в pandas основан на matplotlib. Если мы работаем с датафреймами, то это, как правило, более удобный вариант, чем использование matplotlib самой по себе. Мы сконцентрируемся на этом варианте.\n",
    "\n",
    "Документация: https://pandas.pydata.org/pandas-docs/stable/reference/api/pandas.DataFrame.plot.html"
   ]
  },
  {
   "cell_type": "code",
   "execution_count": null,
   "metadata": {
    "scrolled": false
   },
   "outputs": [],
   "source": [
    "# если работает с табличными структурами, то можем воспользоваться функционалом, \n",
    "# встроенным в pandas. Так удобнее\n",
    "# Метод plot по-умолчанию использует индекс датафрейма для оси Y\n",
    "# метод plot по-умолчанию строит график\n",
    "ax = dynamics_by_region['Global_Sales'].plot(title='Динамика продаж видеоигр', \n",
    "                                        xlabel='Год', \n",
    "                                        ylabel='Продажи, млн.')"
   ]
  },
  {
   "cell_type": "code",
   "execution_count": null,
   "metadata": {
    "scrolled": true
   },
   "outputs": [],
   "source": [
    "# plot без цикла построит графики для каждого региона (столбца)\n",
    "# если у plot нету нужных методов, то можно применить функции matplotlib\n",
    "ax = dynamics_by_region.plot(title='Динамика продаж видеоигр', \n",
    "                             xlabel='Год', \n",
    "                             ylabel='Продажи, млн.')\n",
    "ax.text(2007, 580, 'Почему отсюда начался спад?')  \n",
    "ax.legend(loc='upper left')"
   ]
  },
  {
   "cell_type": "markdown",
   "metadata": {},
   "source": [
    "## Area chart"
   ]
  },
  {
   "cell_type": "code",
   "execution_count": null,
   "metadata": {
    "scrolled": false
   },
   "outputs": [],
   "source": [
    "# по-умолчанию  Area chart всегда накопительный\n",
    "ax = dynamics_by_region.plot(kind='area',\n",
    "                             stacked=False,\n",
    "                             title='Динамика продаж видеоигр', \n",
    "                             xlabel='Год', \n",
    "                             ylabel='Продажи, млн.')"
   ]
  },
  {
   "cell_type": "markdown",
   "metadata": {},
   "source": [
    "# Гистограммы"
   ]
  },
  {
   "cell_type": "code",
   "execution_count": null,
   "metadata": {
    "scrolled": false
   },
   "outputs": [],
   "source": [
    "# распределение оценок пользователей\n",
    "df.User_Score.plot(kind='hist', \n",
    "                   bins=15,\n",
    "                   title='User Score distribution',\n",
    "                   xlabel='USer score',\n",
    "                   ylabel='Games',\n",
    "                   xticks=range(1, 11))\n",
    "\n",
    "# # распределение оценок критиков\n",
    "# df.Critic_Score.plot(kind='hist', \n",
    "#                      bins=10,\n",
    "#                      title='Critic Score distribution',\n",
    "#                      xlabel='Critic score',\n",
    "#                      ylabel='Games',\n",
    "#                      alpha = 0.5,\n",
    "#                      density = True,                     \n",
    "#                      xticks=range(1, 11))"
   ]
  },
  {
   "cell_type": "code",
   "execution_count": null,
   "metadata": {
    "scrolled": false
   },
   "outputs": [],
   "source": [
    "# распределение оценок критиков\n",
    "df.Critic_Score.plot(kind='hist', \n",
    "                     bins=10,\n",
    "                     title='Critic Score distribution',\n",
    "                     xlabel='Critic score',\n",
    "                     ylabel='Games',\n",
    "                     xticks=range(1, 11))"
   ]
  },
  {
   "cell_type": "markdown",
   "metadata": {},
   "source": [
    "## Столбчатая диаграмма"
   ]
  },
  {
   "cell_type": "code",
   "execution_count": null,
   "metadata": {
    "scrolled": false
   },
   "outputs": [],
   "source": [
    "# количество игр в разрезе платформ\n",
    "games_by_platforms = df[['Name', 'Platform']].groupby('Platform').count()\n",
    "games_by_platforms"
   ]
  },
  {
   "cell_type": "code",
   "execution_count": null,
   "metadata": {
    "scrolled": false
   },
   "outputs": [],
   "source": [
    "games_by_platforms.loc[['PC', 'X360', 'PS3', 'PS4', 'XOne']].plot(kind='bar', \n",
    "                                                                  title='Platforms by Global Sales',\n",
    "                                                                  xlabel='Critic score',\n",
    "                                                                  ylabel='Global Sales')"
   ]
  },
  {
   "cell_type": "code",
   "execution_count": null,
   "metadata": {
    "scrolled": false
   },
   "outputs": [],
   "source": [
    "# топ-5 жанров по продажам\n",
    "top5_genres = df[['Global_Sales', 'Genre']].groupby(by='Genre').sum().sort_values(by='Global_Sales', ascending=False).head(5)\n",
    "ax = top5_genres.plot(kind='bar')\n",
    "for i, val in enumerate(top5_genres.values):\n",
    "    plt.text(i, val, int(val), horizontalalignment='center', verticalalignment='bottom', fontdict={'size':14})"
   ]
  },
  {
   "cell_type": "code",
   "execution_count": null,
   "metadata": {
    "scrolled": false
   },
   "outputs": [],
   "source": [
    "# динамика продаж в разрезе регионов. Выглядит фигово\n",
    "dynamics_by_region.plot(kind='bar')"
   ]
  },
  {
   "cell_type": "code",
   "execution_count": null,
   "metadata": {
    "scrolled": false
   },
   "outputs": [],
   "source": [
    "# Сделаем с накоплением!\n",
    "dynamics_by_region.drop('Global_Sales', axis=1).plot(kind='bar', stacked=True)"
   ]
  },
  {
   "cell_type": "markdown",
   "metadata": {},
   "source": [
    "## Круговая диаграмма"
   ]
  },
  {
   "cell_type": "code",
   "execution_count": null,
   "metadata": {
    "scrolled": false
   },
   "outputs": [],
   "source": [
    "# количество игр по платформам\n",
    "pie_data = df.Platform.value_counts().sort_values(ascending = False).head(10)\n",
    "ax = pie_data.plot(kind='pie',\n",
    "                   title='Quantity of games by platforms')"
   ]
  },
  {
   "cell_type": "code",
   "execution_count": null,
   "metadata": {
    "scrolled": false
   },
   "outputs": [],
   "source": [
    "# количество игр по платформам (берем только топ-5)\n",
    "top_platforms = df.Platform.value_counts().sort_values(ascending = False).head(5)\n",
    "ax = top_platforms.plot(kind='pie')\n",
    "ax.legend()"
   ]
  },
  {
   "cell_type": "markdown",
   "metadata": {},
   "source": [
    "## Boxplot"
   ]
  },
  {
   "cell_type": "code",
   "execution_count": null,
   "metadata": {
    "scrolled": false
   },
   "outputs": [],
   "source": [
    "# очень хорошо подходит для поиска выбросов!\n",
    "df.User_Score.plot(kind='box',\n",
    "                   title='User Score distribution')"
   ]
  },
  {
   "cell_type": "code",
   "execution_count": null,
   "metadata": {
    "scrolled": false
   },
   "outputs": [],
   "source": [
    "df[['User_Score', 'Critic_Score']].plot(kind='box',\n",
    "                                        title='Score distributionn')"
   ]
  },
  {
   "cell_type": "markdown",
   "metadata": {},
   "source": [
    "## Точечная диаграмма"
   ]
  },
  {
   "cell_type": "code",
   "execution_count": null,
   "metadata": {
    "scrolled": false
   },
   "outputs": [],
   "source": [
    "# посмотрим на взимосвязь оценок и продаж\n",
    "df.plot(kind='scatter', \n",
    "        x='User_Score', \n",
    "        y='Global_Sales', \n",
    "        title='Correlation between Global Sales and User Score')\n",
    "plt.show()\n",
    "df.plot(kind='scatter', \n",
    "        x='Critic_Score', \n",
    "        y='Global_Sales', \n",
    "        title='Correlation between Global Sales and Critic Score')"
   ]
  },
  {
   "cell_type": "code",
   "execution_count": null,
   "metadata": {
    "scrolled": false
   },
   "outputs": [],
   "source": [
    "# добавим третью ось\n",
    "df.plot(kind='scatter', \n",
    "        x='User_Score', \n",
    "        y='Critic_Score', \n",
    "        s=df.Global_Sales*80,\n",
    "        title='Correlation between Global Sales and User Score',\n",
    "       )"
   ]
  },
  {
   "cell_type": "code",
   "execution_count": null,
   "metadata": {
    "scrolled": true
   },
   "outputs": [],
   "source": []
  },
  {
   "cell_type": "markdown",
   "metadata": {},
   "source": [
    "## Стилизация таблиц"
   ]
  },
  {
   "cell_type": "code",
   "execution_count": null,
   "metadata": {
    "scrolled": false
   },
   "outputs": [],
   "source": [
    "# выведем информацию о топ-10 издателях по продажам\n",
    "top_developers_df = df.groupby('Developer')[['Global_Sales']].sum()\\\n",
    "    .sort_values('Global_Sales', ascending=False).head(10)\n",
    "    \n",
    "top_developers_df"
   ]
  },
  {
   "cell_type": "code",
   "execution_count": null,
   "metadata": {
    "scrolled": false
   },
   "outputs": [],
   "source": [
    "top_developers_df.style.bar(align='mid')"
   ]
  },
  {
   "cell_type": "markdown",
   "metadata": {},
   "source": [
    "# <center> Seaborn"
   ]
  },
  {
   "cell_type": "code",
   "execution_count": null,
   "metadata": {
    "scrolled": false
   },
   "outputs": [],
   "source": [
    "import seaborn as sns"
   ]
  },
  {
   "cell_type": "code",
   "execution_count": null,
   "metadata": {
    "scrolled": false
   },
   "outputs": [],
   "source": [
    "# посмотрим зависимость продаж и оценок критиков\n",
    "ax = sns.regplot(data=df, x='Critic_Score', y='Global_Sales', color='green', marker='+')\n",
    "ax.set_title('Correlation between Global Sales and Critic Scores')"
   ]
  },
  {
   "cell_type": "markdown",
   "metadata": {},
   "source": [
    "C помощью `seaborn` можно построить достаточно сложные визуализации, которые были бы очень сложны для представления в коде при использовании `matplotlib`. Рассмотрим часть из них."
   ]
  },
  {
   "cell_type": "markdown",
   "metadata": {},
   "source": [
    "Посмотрим на **распределение оценок критиков `Critic_Score`**. Для этого построим __`distplot`__. По-умолчанию на визуализации отображается гистограмма и [kernel density estimation](https://en.wikipedia.org/wiki/Kernel_density_estimation)."
   ]
  },
  {
   "cell_type": "code",
   "execution_count": null,
   "metadata": {
    "scrolled": false
   },
   "outputs": [],
   "source": [
    "ax = sns.distplot(df.Critic_Score)\n",
    "ax.set_title('Critic Score distribution')"
   ]
  },
  {
   "cell_type": "markdown",
   "metadata": {},
   "source": [
    "Для того чтобы подробнее посмотреть на взаимосвязь двух численных признаков можно использовать __`joint_plot`__ – это гибрид `scatter plot` и `histogram`. Посмотрим на то, как связаны между собой **оценка критиков `Critic_Score` и оценка пользователя `User_Score`**."
   ]
  },
  {
   "cell_type": "code",
   "execution_count": null,
   "metadata": {
    "scrolled": false
   },
   "outputs": [],
   "source": [
    "sns.jointplot(x='Critic_Score', y='User_Score', \n",
    "              data=df, kind='reg')"
   ]
  },
  {
   "cell_type": "markdown",
   "metadata": {},
   "source": [
    "**pair plot (scatter plot matrix)** поможет нам посмотреть на одной картинке, как связаны между собой различные признаки в наборе данных"
   ]
  },
  {
   "cell_type": "code",
   "execution_count": null,
   "metadata": {
    "scrolled": false
   },
   "outputs": [],
   "source": [
    "sns.pairplot(df[['Global_Sales', 'Critic_Score', 'User_Score']])"
   ]
  },
  {
   "cell_type": "markdown",
   "metadata": {},
   "source": [
    "Давайте **сравним оценки критиков игр для топ-5 крупнейших игровых платформ** при помощи `boxplot`."
   ]
  },
  {
   "cell_type": "code",
   "execution_count": null,
   "metadata": {
    "scrolled": false
   },
   "outputs": [],
   "source": [
    "top_platforms = df.Platform.value_counts().sort_values(ascending = False).head(10).index.values\n",
    "top_platforms\n",
    "sns.boxplot(x=\"Platform\", y=\"Critic_Score\", \n",
    "            data=df[df.Platform.isin(top_platforms)])"
   ]
  },
  {
   "cell_type": "markdown",
   "metadata": {},
   "source": [
    "`Heat map` позволяет посмотреть на распределение какого-то численного признака по двум категориальным. Визуализируем **суммарные продажи игр по жанрам и игровым платформам**."
   ]
  },
  {
   "cell_type": "code",
   "execution_count": null,
   "metadata": {
    "scrolled": false
   },
   "outputs": [],
   "source": [
    "platform_genre_sales = df[df.Platform.isin(top_platforms)].pivot_table(\n",
    "                        index='Platform', \n",
    "                        columns='Genre', \n",
    "                        values='Global_Sales', \n",
    "                        aggfunc=sum).fillna(0)\n",
    "\n",
    "platform_genre_sales"
   ]
  },
  {
   "cell_type": "code",
   "execution_count": null,
   "metadata": {
    "scrolled": true
   },
   "outputs": [],
   "source": [
    "sns.heatmap(platform_genre_sales)"
   ]
  },
  {
   "cell_type": "code",
   "execution_count": null,
   "metadata": {},
   "outputs": [],
   "source": []
  }
 ],
 "metadata": {
  "kernelspec": {
   "display_name": "Python 3.7.6 64-bit ('base': conda)",
   "language": "python",
   "name": "python37664bitbaseconda98ee28fd21e54513b617f25a4bc88d8a"
  },
  "language_info": {
   "codemirror_mode": {
    "name": "ipython",
    "version": 3
   },
   "file_extension": ".py",
   "mimetype": "text/x-python",
   "name": "python",
   "nbconvert_exporter": "python",
   "pygments_lexer": "ipython3",
   "version": "3.7.9"
  }
 },
 "nbformat": 4,
 "nbformat_minor": 4
}
