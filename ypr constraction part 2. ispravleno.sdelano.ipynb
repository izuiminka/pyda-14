{
 "cells": [
  {
   "cell_type": "code",
   "execution_count": 7,
   "metadata": {},
   "outputs": [
    {
     "name": "stdout",
     "output_type": "stream",
     "text": [
      "{98, 35, 15, 213, 54, 119}\n"
     ]
    }
   ],
   "source": [
    "#Домашнее задание к лекции \"Введение в типы данных и циклы. Часть 2\"\n",
    "#Задание 1\n",
    "#Дана переменная, в которой хранится словарь, содержащий гео-метки для каждого пользователя (пример структуры данных приведен ниже). Вам необходимо написать программу, которая выведет на экран множество уникальных гео-меток всех пользователей.\n",
    "#Пример работы программы:\n",
    "ids = {'user1': [213, 213, 213, 15, 213], \n",
    "       'user2': [54, 54, 119, 119, 119], \n",
    "       'user3': [213, 98, 98, 35]}\n",
    "#Результат: {98, 35, 15, 213, 54, 119}\n",
    "\n",
    "#СТАРОЕ РЕШЕНИЕ\n",
    "result_ids = {}\n",
    "for key, value in ids.items():\n",
    "    if value:\n",
    "        result_ids[key] = value\n",
    "print(result_ids) \n",
    "\n",
    "а = ids.values()\n",
    "aа = list(ids.values())\n",
    "ааа = sum((aа), [])\n",
    "aaaa = list(set(ааа))\n",
    "print (aaaa)"
   ]
  },
  {
   "cell_type": "code",
   "execution_count": 35,
   "metadata": {},
   "outputs": [
    {
     "name": "stdout",
     "output_type": "stream",
     "text": [
      "{98, 35, 15, 213, 54, 119}\n"
     ]
    }
   ],
   "source": [
    "#Задание 1\n",
    "#НОВОЕ РЕШЕНИЕ, оптимизировано после замечаний\n",
    "ids_set = set()\n",
    "for ids_ in ids.values():\n",
    "    ids_set = ids_set.union(ids_)\n",
    "print(ids_set) "
   ]
  },
  {
   "cell_type": "code",
   "execution_count": 38,
   "metadata": {},
   "outputs": [
    {
     "name": "stdout",
     "output_type": "stream",
     "text": [
      "Поисковых запросов, содержащих по словам в процентах Counter({3: 57.14, 2: 3})\n",
      "Поисковых запросов, содержащих по словам в процентах Counter({3: 57.14, 2: 42.86})\n"
     ]
    }
   ],
   "source": [
    "#Задание 2\n",
    "#Дана переменная, в которой хранится список поисковых запросов пользователя (пример структуры данных приведен ниже). \n",
    "#Вам необходимо написать программу, которая выведет на экран распределение количества слов в запросах в требуемом виде.\n",
    "#Пример работы программы:\n",
    "queries = [\n",
    "    'смотреть сериалы онлайн',\n",
    "    'новости спорта',\n",
    "    'афиша кино',\n",
    "    'курс доллара',\n",
    "    'сериалы этим летом',\n",
    "    'курс по питону',\n",
    "    'сериалы про спорт',\n",
    "]\n",
    "#СТАРОЕ РЕШЕНИЕ\n",
    "result_queries = {}\n",
    "for query in queries:\n",
    "    a = len(query.split())\n",
    "from collections import Counter\n",
    "counter = Counter([len(query.split()) for query in queries])\n",
    "for n in counter.keys():\n",
    "            counter[n] = round(counter[n] / len(queries) * 100, 2)\n",
    "            print ('Поисковых запросов, содержащих по словам в процентах', counter)\n",
    "        \n",
    "#Результат:\n",
    "#Поисковых запросов, содержащих 2 слов(а): 42.86%\n",
    "#Поисковых запросов, содержащих 3 слов(а): 57.14%\n"
   ]
  },
  {
   "cell_type": "code",
   "execution_count": null,
   "metadata": {},
   "outputs": [],
   "source": [
    "#Задание 2\n",
    "#НОВОЕ РЕШЕНИЕ, оптимизировано после замечаний\n",
    "result = {}\n",
    "total = len (queries)\n",
    "for queriest in queries:\n",
    "    entry = len ((queriest.split()))\n",
    "    if entry not in result:\n",
    "        result[entry] = 0\n",
    "        result[entry] += 1\n",
    "    \n",
    "    for key, value in result.items():\n",
    "        print (f'Поисковых запросов, содержащих по словам в процентах, {key} слов(a):{round(100.0*value/total,2)}%')\n",
    "        "
   ]
  },
  {
   "cell_type": "code",
   "execution_count": 45,
   "metadata": {},
   "outputs": [
    {
     "name": "stdout",
     "output_type": "stream",
     "text": [
      "Spisok after : {'vk': {'revenue': 103, 'cost': 98, 'ROI': 106}, 'yandex': {'revenue': 179, 'cost': 153, 'ROI2': 118}, 'facebook': {'revenue': 103, 'cost': 110, 'ROI': 94}, 'adwords': {'revenue': 35, 'cost': 34, 'ROI': 106}, 'twitter': {'revenue': 11, 'cost': 24, 'ROI': 48}}\n"
     ]
    }
   ],
   "source": [
    "#Задание 3\n",
    "#Дана переменная, в которой хранится информация о затратах и доходе рекламных кампаний по различным источникам. \n",
    "#Необходимо дополнить исходную структуру показателем ROI, который рассчитаем по формуле: (revenue / cost - 1) * 100\n",
    "#Пример работы программы:\n",
    "results = {\n",
    "    'vk': {'revenue': 103, 'cost': 98},\n",
    "    'yandex': {'revenue': 179, 'cost': 153},\n",
    "    'facebook': {'revenue': 103, 'cost': 110},\n",
    "    'adwords': {'revenue': 35, 'cost': 34},\n",
    "    'twitter': {'revenue': 11, 'cost': 24},\n",
    "}\n",
    "#СТАРОЕ РЕШЕНИЕ\n",
    "vk = {'revenue': 103, 'cost': 98}\n",
    "a = vk.get(\"revenue\")\n",
    "b = vk.get(\"cost\")\n",
    "ROI =round((a/(b-1))*100) \n",
    "upd_dict1 = {'ROI' : ROI}\n",
    "vk[\"ROI\"] = ROI\n",
    "\n",
    "yandex = {'revenue': 179, 'cost': 153}\n",
    "aa = yandex.get(\"revenue\")\n",
    "bb = yandex.get(\"cost\")\n",
    "ROI2 =round((aa/(bb-1))*100)\n",
    "upd_dict2 = {'ROI2' : ROI2 }\n",
    "yandex[\"ROI\"] = ROI2\n",
    "\n",
    "facebook = {'revenue': 103, 'cost': 110}\n",
    "aaa = facebook.get(\"revenue\")\n",
    "bbb = facebook.get(\"cost\")\n",
    "ROI3 =round((aaa/(bbb-1))*100)\n",
    "upd_dict3 = {'ROI' : ROI3 }\n",
    "facebook[\"ROI\"] = ROI3 \n",
    "\n",
    "adwords = {'revenue': 35, 'cost': 34}\n",
    "aaaa = adwords.get(\"revenue\")\n",
    "bbbb = adwords.get(\"cost\")\n",
    "ROI4 =round((aaaa/(bbbb-1))*100)\n",
    "upd_dict4 = {'ROI' : ROI4 }\n",
    "facebook[\"ROI\"] = ROI4\n",
    "\n",
    "\n",
    "twitter = {'revenue': 11, 'cost': 24}\n",
    "aaaaa = twitter.get(\"revenue\")\n",
    "bbbbb = twitter.get(\"cost\")\n",
    "ROI5 =round((aaaaa/(bbbbb-1))*100)\n",
    "upd_dict5 = {'ROI' : ROI5 }\n",
    "twitter[\"ROI\"] = ROI5\n",
    "\n",
    "# Использование update ()\n",
    "# Обновить вложенные словарные ключи\n",
    "\n",
    "results['vk'].update(upd_dict1)\n",
    "results['yandex'].update(upd_dict2)\n",
    "results['facebook'].update(upd_dict3)\n",
    "results['adwords'].update(upd_dict4)\n",
    "results['twitter'].update(upd_dict5)\n",
    "\n",
    "# результат печати\n",
    "\n",
    "print(\"Spisok after : \" + str(results))\n"
   ]
  },
  {
   "cell_type": "code",
   "execution_count": 13,
   "metadata": {},
   "outputs": [
    {
     "name": "stdout",
     "output_type": "stream",
     "text": [
      "{'vk': {'revenue': 103, 'cost': 98, 'ROI': 5.1}, 'yandex': {'revenue': 179, 'cost': 153}, 'facebook': {'revenue': 103, 'cost': 110}, 'adwords': {'revenue': 35, 'cost': 34}, 'twitter': {'revenue': 11, 'cost': 24}}\n",
      "{'vk': {'revenue': 103, 'cost': 98, 'ROI': 5.1}, 'yandex': {'revenue': 179, 'cost': 153, 'ROI': 16.99}, 'facebook': {'revenue': 103, 'cost': 110}, 'adwords': {'revenue': 35, 'cost': 34}, 'twitter': {'revenue': 11, 'cost': 24}}\n",
      "{'vk': {'revenue': 103, 'cost': 98, 'ROI': 5.1}, 'yandex': {'revenue': 179, 'cost': 153, 'ROI': 16.99}, 'facebook': {'revenue': 103, 'cost': 110, 'ROI': -6.36}, 'adwords': {'revenue': 35, 'cost': 34}, 'twitter': {'revenue': 11, 'cost': 24}}\n",
      "{'vk': {'revenue': 103, 'cost': 98, 'ROI': 5.1}, 'yandex': {'revenue': 179, 'cost': 153, 'ROI': 16.99}, 'facebook': {'revenue': 103, 'cost': 110, 'ROI': -6.36}, 'adwords': {'revenue': 35, 'cost': 34, 'ROI': 2.94}, 'twitter': {'revenue': 11, 'cost': 24}}\n",
      "{'vk': {'revenue': 103, 'cost': 98, 'ROI': 5.1}, 'yandex': {'revenue': 179, 'cost': 153, 'ROI': 16.99}, 'facebook': {'revenue': 103, 'cost': 110, 'ROI': -6.36}, 'adwords': {'revenue': 35, 'cost': 34, 'ROI': 2.94}, 'twitter': {'revenue': 11, 'cost': 24, 'ROI': -54.17}}\n",
      "{'adwords': {'ROI': 2.94, 'revenue': 35, 'cost': 34}}\n",
      "{'adwords': {'ROI': 2.94, 'revenue': 35, 'cost': 34}, 'facebook': {'ROI': -6.36, 'revenue': 103, 'cost': 110}}\n",
      "{'adwords': {'ROI': 2.94, 'revenue': 35, 'cost': 34}, 'facebook': {'ROI': -6.36, 'revenue': 103, 'cost': 110}, 'twitter': {'ROI': -54.17, 'revenue': 11, 'cost': 24}}\n",
      "{'adwords': {'ROI': 2.94, 'revenue': 35, 'cost': 34}, 'facebook': {'ROI': -6.36, 'revenue': 103, 'cost': 110}, 'twitter': {'ROI': -54.17, 'revenue': 11, 'cost': 24}, 'vk': {'ROI': 5.1, 'revenue': 103, 'cost': 98}}\n",
      "{'adwords': {'ROI': 2.94, 'revenue': 35, 'cost': 34}, 'facebook': {'ROI': -6.36, 'revenue': 103, 'cost': 110}, 'twitter': {'ROI': -54.17, 'revenue': 11, 'cost': 24}, 'vk': {'ROI': 5.1, 'revenue': 103, 'cost': 98}, 'yandex': {'ROI': 16.99, 'revenue': 179, 'cost': 153}}\n"
     ]
    }
   ],
   "source": [
    "#Задание 3 ВАРИАНТ 1\n",
    "#НОВОЕ РЕШЕНИЕ, оптимизировано после замечаний\n",
    "results = {\n",
    "    'vk': {'revenue': 103, 'cost': 98},\n",
    "    'yandex': {'revenue': 179, 'cost': 153},\n",
    "    'facebook': {'revenue': 103, 'cost': 110},\n",
    "    'adwords': {'revenue': 35, 'cost': 34},\n",
    "    'twitter': {'revenue': 11, 'cost': 24},\n",
    "}\n",
    "\n",
    "for key, value in results.items():\n",
    "    ROI = (value['revenue']/value['cost']-1)*100\n",
    "    results[key].setdefault ('ROI', round (ROI,2))\n",
    "    print(results)\n",
    "    \n",
    "spisok_keys = sorted (list(results.keys()))\n",
    "sorted_results = {}\n",
    "for i in spisok_keys:\n",
    "    format_results ={}\n",
    "    format_results.setdefault('ROI', results[i] ['ROI'])\n",
    "    format_results.setdefault('revenue', results[i] ['revenue'])\n",
    "    format_results.setdefault('cost', results[i] ['cost'])\n",
    "    sorted_results.setdefault(i,format_results)\n",
    "    print(sorted_results)"
   ]
  },
  {
   "cell_type": "code",
   "execution_count": 14,
   "metadata": {},
   "outputs": [
    {
     "name": "stdout",
     "output_type": "stream",
     "text": [
      "{'vk': {'revenue': 103, 'cost': 98, 'ROI': 5.1}, 'yandex': {'revenue': 179, 'cost': 153, 'ROI': 16.99}, 'facebook': {'revenue': 103, 'cost': 110, 'ROI': -6.36}, 'adwords': {'revenue': 35, 'cost': 34, 'ROI': 2.94}, 'twitter': {'revenue': 11, 'cost': 24, 'ROI': -54.17}, 'ROI': 106}\n",
      "{'vk': {'revenue': 103, 'cost': 98, 'ROI': 5.1}, 'yandex': {'revenue': 179, 'cost': 153, 'ROI': 16.99}, 'facebook': {'revenue': 103, 'cost': 110, 'ROI': -6.36}, 'adwords': {'revenue': 35, 'cost': 34, 'ROI': 2.94}, 'twitter': {'revenue': 11, 'cost': 24, 'ROI': -54.17}, 'ROI': 118}\n",
      "{'vk': {'revenue': 103, 'cost': 98, 'ROI': 5.1}, 'yandex': {'revenue': 179, 'cost': 153, 'ROI': 16.99}, 'facebook': {'revenue': 103, 'cost': 110, 'ROI': -6.36}, 'adwords': {'revenue': 35, 'cost': 34, 'ROI': 2.94}, 'twitter': {'revenue': 11, 'cost': 24, 'ROI': -54.17}, 'ROI': 94}\n",
      "{'vk': {'revenue': 103, 'cost': 98, 'ROI': 5.1}, 'yandex': {'revenue': 179, 'cost': 153, 'ROI': 16.99}, 'facebook': {'revenue': 103, 'cost': 110, 'ROI': -6.36}, 'adwords': {'revenue': 35, 'cost': 34, 'ROI': 2.94}, 'twitter': {'revenue': 11, 'cost': 24, 'ROI': -54.17}, 'ROI': 106}\n",
      "{'vk': {'revenue': 103, 'cost': 98, 'ROI': 5.1}, 'yandex': {'revenue': 179, 'cost': 153, 'ROI': 16.99}, 'facebook': {'revenue': 103, 'cost': 110, 'ROI': -6.36}, 'adwords': {'revenue': 35, 'cost': 34, 'ROI': 2.94}, 'twitter': {'revenue': 11, 'cost': 24, 'ROI': -54.17}, 'ROI': 48}\n"
     ]
    }
   ],
   "source": [
    "#Задание 3  ВАРИАНТ 2\n",
    "#НОВОЕ РЕШЕНИЕ, оптимизировано после замечаний\n",
    "for key in results:\n",
    "    a = results.get(key)\n",
    "    b = a.get('revenue')\n",
    "    c = a.get('cost')\n",
    "    ROI =round(b/(c-1)*100)\n",
    "    for i in key:\n",
    "        upd_dict = {'ROI' : ROI }\n",
    "        z = dict(list(results.items()) + list(upd_dict.items()))\n",
    "    print(z)"
   ]
  },
  {
   "cell_type": "code",
   "execution_count": 1,
   "metadata": {},
   "outputs": [
    {
     "name": "stdout",
     "output_type": "stream",
     "text": [
      "Максимальный объем продаж на рекламном канале {'vk': 120}\n"
     ]
    }
   ],
   "source": [
    "#Задание 4\n",
    "#Дана переменная, в которой хранится статистика рекламных каналов по объемам продаж (пример структуры данных приведен ниже). \n",
    "#Напишите программу, которая возвращает название канала с максимальным объемом продаж.\n",
    "#Пример работы программы:\n",
    "stats = {'facebook': 55, 'yandex': 115, 'vk': 120, 'google': 99, 'email': 42, 'ok': 98}\n",
    "#Результат: Максимальный объем продаж на рекламном канале: vk\n",
    "\n",
    "\n",
    "max_value = max(stats.values())\n",
    "max_stats = {k: v for k, v in stats.items() if v == max_value}\n",
    "print ('Максимальный объем продаж на рекламном канале', max_stats)\n"
   ]
  },
  {
   "cell_type": "code",
   "execution_count": 34,
   "metadata": {},
   "outputs": [
    {
     "name": "stderr",
     "output_type": "stream",
     "text": [
      "<>:34: SyntaxWarning: list indices must be integers or slices, not str; perhaps you missed a comma?\n",
      "<>:34: SyntaxWarning: list indices must be integers or slices, not str; perhaps you missed a comma?\n"
     ]
    },
    {
     "name": "stdout",
     "output_type": "stream",
     "text": [
      "Сколько персон=?3\n"
     ]
    },
    {
     "name": "stderr",
     "output_type": "stream",
     "text": [
      "<ipython-input-34-f26b0d7ed7c0>:34: SyntaxWarning: list indices must be integers or slices, not str; perhaps you missed a comma?\n",
      "  shopdict[([ingr['ingridient_name'], ingr['measure']] ['quantity'])] += ingr ['quantity']*person\n"
     ]
    },
    {
     "ename": "TypeError",
     "evalue": "list indices must be integers or slices, not str",
     "output_type": "error",
     "traceback": [
      "\u001b[1;31m---------------------------------------------------------------------------\u001b[0m",
      "\u001b[1;31mTypeError\u001b[0m                                 Traceback (most recent call last)",
      "\u001b[1;32m<ipython-input-34-f26b0d7ed7c0>\u001b[0m in \u001b[0;36m<module>\u001b[1;34m\u001b[0m\n\u001b[0;32m     32\u001b[0m             \u001b[0mshopdict\u001b[0m\u001b[1;33m[\u001b[0m\u001b[1;33m(\u001b[0m\u001b[0mingr\u001b[0m\u001b[1;33m[\u001b[0m\u001b[1;34m'ingridient_name'\u001b[0m\u001b[1;33m]\u001b[0m\u001b[1;33m,\u001b[0m \u001b[0mingr\u001b[0m\u001b[1;33m[\u001b[0m\u001b[1;34m'measure'\u001b[0m\u001b[1;33m]\u001b[0m\u001b[1;33m)\u001b[0m\u001b[1;33m]\u001b[0m \u001b[1;33m=\u001b[0m \u001b[1;33m{\u001b[0m\u001b[1;34m'quantity'\u001b[0m\u001b[1;33m:\u001b[0m \u001b[0mingr\u001b[0m \u001b[1;33m[\u001b[0m\u001b[1;34m'quantity'\u001b[0m\u001b[1;33m]\u001b[0m\u001b[1;33m*\u001b[0m\u001b[0mperson\u001b[0m\u001b[1;33m}\u001b[0m\u001b[1;33m\u001b[0m\u001b[1;33m\u001b[0m\u001b[0m\n\u001b[0;32m     33\u001b[0m         \u001b[1;32melse\u001b[0m\u001b[1;33m:\u001b[0m\u001b[1;33m\u001b[0m\u001b[1;33m\u001b[0m\u001b[0m\n\u001b[1;32m---> 34\u001b[1;33m             \u001b[0mshopdict\u001b[0m\u001b[1;33m[\u001b[0m\u001b[1;33m(\u001b[0m\u001b[1;33m[\u001b[0m\u001b[0mingr\u001b[0m\u001b[1;33m[\u001b[0m\u001b[1;34m'ingridient_name'\u001b[0m\u001b[1;33m]\u001b[0m\u001b[1;33m,\u001b[0m \u001b[0mingr\u001b[0m\u001b[1;33m[\u001b[0m\u001b[1;34m'measure'\u001b[0m\u001b[1;33m]\u001b[0m\u001b[1;33m]\u001b[0m \u001b[1;33m[\u001b[0m\u001b[1;34m'quantity'\u001b[0m\u001b[1;33m]\u001b[0m\u001b[1;33m)\u001b[0m\u001b[1;33m]\u001b[0m \u001b[1;33m+=\u001b[0m \u001b[0mingr\u001b[0m \u001b[1;33m[\u001b[0m\u001b[1;34m'quantity'\u001b[0m\u001b[1;33m]\u001b[0m\u001b[1;33m*\u001b[0m\u001b[0mperson\u001b[0m\u001b[1;33m\u001b[0m\u001b[1;33m\u001b[0m\u001b[0m\n\u001b[0m\u001b[0;32m     35\u001b[0m             \u001b[1;32mfor\u001b[0m \u001b[0mname\u001b[0m\u001b[1;33m,\u001b[0m \u001b[0mq\u001b[0m \u001b[1;32min\u001b[0m \u001b[0mshop_dict\u001b[0m\u001b[1;33m.\u001b[0m\u001b[0mitems\u001b[0m\u001b[1;33m(\u001b[0m\u001b[1;33m)\u001b[0m\u001b[1;33m:\u001b[0m\u001b[1;33m\u001b[0m\u001b[1;33m\u001b[0m\u001b[0m\n\u001b[0;32m     36\u001b[0m                 \u001b[0mprint\u001b[0m \u001b[1;33m(\u001b[0m\u001b[1;34mf'{name[0]}{q[\"quantity\"]}{name[1]}'\u001b[0m\u001b[1;33m)\u001b[0m\u001b[1;33m\u001b[0m\u001b[1;33m\u001b[0m\u001b[0m\n",
      "\u001b[1;31mTypeError\u001b[0m: list indices must be integers or slices, not str"
     ]
    }
   ],
   "source": [
    "#Задача 6 - какая я то беда с типом данных\n",
    "cook_book = {\n",
    "'салат': [\n",
    "{'ingridient_name': 'сыр', 'quantity': 50, 'measure': 'гр'},\n",
    "{'ingridient_name': 'томаты', 'quantity': 20, 'measure': 'гр'},\n",
    "{'ingridient_name': 'огурцы', 'quantity': 20, 'measure': 'гр'},\n",
    "{'ingridient_name': 'маслины', 'quantity': 10, 'measure': 'гр'},\n",
    "{'ingridient_name': 'оливковое масло', 'quantity': 20, 'measure': 'мл'},\n",
    "{'ingridient_name': 'салат', 'quantity': 10, 'measure': 'гр'},\n",
    "{'ingridient_name': 'перец', 'quantity': 20, 'measure': 'гр'}\n",
    "],\n",
    "'пицца': [\n",
    "{'ingridient_name': 'сыр', 'quantity': 20, 'measure': 'гр'},\n",
    "{'ingridient_name': 'колбаса', 'quantity': 30, 'measure': 'гр'},\n",
    "{'ingridient_name': 'бекон', 'quantity': 30, 'measure': 'гр'},\n",
    "{'ingridient_name': 'оливки', 'quantity': 10, 'measure': 'гр'},\n",
    "{'ingridient_name': 'томаты', 'quantity': 20, 'measure': 'гр'},\n",
    "{'ingridient_name': 'тесто', 'quantity': 100, 'measure': 'гр'},\n",
    "],\n",
    "'лимонад': [\n",
    "{'ingridient_name': 'лимон', 'quantity': 1, 'measure': 'шт'},\n",
    "{'ingridient_name': 'вода', 'quantity': 200, 'measure': 'мл'},\n",
    "{'ingridient_name': 'сахар', 'quantity': 10, 'measure': 'гр'},\n",
    "{'ingridient_name': 'лайм', 'quantity': 20, 'measure': 'гр'},\n",
    "]\n",
    "}\n",
    "shopdict = {} # создаем пустую результирующую структуру и заполняем\n",
    "person = int (input ('Сколько персон=?'))\n",
    "for dish in cook_book.values():\n",
    "    for ingr in dish:\n",
    "        if (ingr['ingridient_name'], ingr['measure']) not in shopdict:\n",
    "            shopdict[(ingr['ingridient_name'], ingr['measure'])] = {'quantity': ingr ['quantity']*person}\n",
    "        else: \n",
    "            shopdict[([ingr['ingridient_name'], ingr['measure']] ['quantity'])] += ingr ['quantity']*person\n",
    "            for name, q in shop_dict.items():\n",
    "                print (f'{name[0]}{q[\"quantity\"]}{name[1]}') "
   ]
  },
  {
   "cell_type": "code",
   "execution_count": null,
   "metadata": {},
   "outputs": [],
   "source": []
  }
 ],
 "metadata": {
  "kernelspec": {
   "display_name": "Python 3",
   "language": "python",
   "name": "python3"
  },
  "language_info": {
   "codemirror_mode": {
    "name": "ipython",
    "version": 3
   },
   "file_extension": ".py",
   "mimetype": "text/x-python",
   "name": "python",
   "nbconvert_exporter": "python",
   "pygments_lexer": "ipython3",
   "version": "3.8.3"
  }
 },
 "nbformat": 4,
 "nbformat_minor": 4
}
