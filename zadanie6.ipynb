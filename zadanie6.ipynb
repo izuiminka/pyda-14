{
 "cells": [
  {
   "cell_type": "code",
   "execution_count": 34,
   "metadata": {},
   "outputs": [
    {
     "name": "stdout",
     "output_type": "stream",
     "text": [
      "введите название фигурыпрямоугольник\n",
      "введите длину стороны a=4\n",
      "введите длину стороны b=6\n",
      "24.0\n"
     ]
    }
   ],
   "source": [
    "import math\n",
    "z =  input (\"введите название фигуры\")\n",
    "if z == \"прямоугольник\":\n",
    "    a =  float(input (\"введите длину стороны a=\"))\n",
    "    b =  float(input (\"введите длину стороны b=\"))\n",
    "    S = a * b\n",
    "    print (S)\n",
    "elif z == \"треугольник\":\n",
    "    a =  float(input (\"введите длину стороны, по условию чтобы а>b, a=\"))\n",
    "    b =  float(input (\"введите длину стороны b=\"))\n",
    "    с =  float(input (\"введите длину стороны c=\"))\n",
    "    p = (a+b+c)/2\n",
    "    from math import sqrt\n",
    "    S = sqrt((p * (p-a) * (p-b) * (p-с)))\n",
    "    print (S)\n",
    "elif  z== \"круг\":\n",
    "    r =  float(input (\"введите радиус кругa r=\"))\n",
    "    from math import pi\n",
    "    S =pi * (r**2)\n",
    "    print (S)\n",
    "else:\n",
    "    print(\"Ошибка ввода\")"
   ]
  }
 ],
 "metadata": {
  "kernelspec": {
   "display_name": "Python 3",
   "language": "python",
   "name": "python3"
  },
  "language_info": {
   "codemirror_mode": {
    "name": "ipython",
    "version": 3
   },
   "file_extension": ".py",
   "mimetype": "text/x-python",
   "name": "python",
   "nbconvert_exporter": "python",
   "pygments_lexer": "ipython3",
   "version": "3.8.3"
  }
 },
 "nbformat": 4,
 "nbformat_minor": 4
}
