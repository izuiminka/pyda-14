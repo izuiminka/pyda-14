{
 "cells": [
  {
   "cell_type": "code",
   "execution_count": 1,
   "metadata": {},
   "outputs": [
    {
     "name": "stdout",
     "output_type": "stream",
     "text": [
      "введи число больше или рано нулю =9\n",
      "введи число больше или рано нулю =9\n",
      "введи число больше или рано нулю =0\n",
      "18\n"
     ]
    }
   ],
   "source": [
    "# Домашняя работа раздел \"Управляющие конструкции часть 1\"\n",
    "#Задание 2 \n",
    "#Напишите программу, которая последовательно запрашивает\n",
    "#у пользователя числа (по одному за раз) и после первого нуля выводит сумму всех ранее введенных чисел.\n",
    "\n",
    "#Комментарий\n",
    "# вы прописали 4 цикла, которые ровно 4 раза запросят информацию у пользователя. \n",
    "#По условию надо запрашивать числа до тех пор, пока пользователь не введет 0 (он может ввести хоть 100 чисел). \n",
    "#Вам понадобится всего лишь один цикл while, который будет запрашивать ввод, до тех пор, пока он не будет равен 0;\n",
    "\n",
    "#НОВОЕ РЕШЕНИЕ\n",
    "\n",
    "itog1 = 0\n",
    "user_input_chislo = int(input('введи число больше или рано нулю ='))\n",
    "while user_input_chislo > 0:\n",
    "        itog1 += user_input_chislo\n",
    "        user_input_chislo = int(input ('введи число больше или рано нулю ='))\n",
    "else:\n",
    "      print (itog1)"
   ]
  },
  {
   "cell_type": "code",
   "execution_count": 12,
   "metadata": {},
   "outputs": [
    {
     "name": "stdout",
     "output_type": "stream",
     "text": [
      "['Alex', 'Arthur', 'John', 'Peter', 'Richard']\n",
      "['Emma', 'Kate', 'Kira', 'Liza', 'Trisha']\n",
      "['Alex'] ['Emma']\n",
      "['Arthur'] ['Kate']\n",
      "['John'] ['Kira']\n",
      "['Peter'] ['Liza']\n",
      "['Richard'] ['Trisha']\n"
     ]
    }
   ],
   "source": [
    "#Задание 3 старое решение\n",
    "boys = ['Peter', 'Alex', 'John', 'Arthur', 'Richard']\n",
    "girls = ['Kate', 'Liza', 'Kira', 'Emma', 'Trisha']\n",
    "print(sorted(boys)[0:1],sorted(girls)[0:1])\n",
    "print(sorted(boys)[1:2],sorted(girls)[1:2])\n",
    "print(sorted(boys)[2:3],sorted(girls)[2:3])\n",
    "print(sorted(boys)[3:4],sorted(girls)[3:4])\n",
    "print(sorted(boys)[4:5],sorted(girls)[4:5])"
   ]
  },
  {
   "cell_type": "code",
   "execution_count": 16,
   "metadata": {},
   "outputs": [
    {
     "name": "stdout",
     "output_type": "stream",
     "text": [
      "['Alex'] ['Emma']\n",
      "['Arthur'] ['Kate']\n",
      "['John'] ['Kira']\n",
      "['Michael'] ['Liza']\n",
      "['Peter'] ['Trisha']\n",
      "['Richard'] []\n",
      "Внимание, кто-то остался без пары!\n"
     ]
    }
   ],
   "source": [
    "#Задание 3  старое решение\n",
    "boys = ['Peter', 'Alex', 'John', 'Arthur', 'Richard', 'Michael']\n",
    "girls = ['Kate', 'Liza', 'Kira', 'Emma', 'Trisha']\n",
    "print(sorted(boys)[0:1],sorted(girls)[0:1])\n",
    "print(sorted(boys)[1:2],sorted(girls)[1:2])\n",
    "print(sorted(boys)[2:3],sorted(girls)[2:3])\n",
    "print(sorted(boys)[3:4],sorted(girls)[3:4])\n",
    "print(sorted(boys)[4:5],sorted(girls)[4:5])\n",
    "print(sorted(boys)[5:6],sorted(girls)[5:6])\n",
    "print ('Внимание, кто-то остался без пары!')"
   ]
  },
  {
   "cell_type": "code",
   "execution_count": 1,
   "metadata": {},
   "outputs": [
    {
     "name": "stdout",
     "output_type": "stream",
     "text": [
      "Alex и Emma\n",
      "Arthur и Kate\n",
      "John и Kira\n",
      "Peter и Liza\n",
      "Richard и Trisha\n"
     ]
    }
   ],
   "source": [
    "#Задание 3  ИСПРАВЛЕННОЕ РЕШЕНИЕ\n",
    "# вы, опять же, обработали конкретную одну ситуацию. А если бы элементов в списках был бы миллион? \n",
    "#Вряд ли вы бы вручную прописывали действие для каждой “пары”. Тут без цикла не обойтись;\n",
    "boys = ['Peter', 'Alex', 'John', 'Arthur', 'Richard']\n",
    "girls = ['Kate', 'Liza', 'Kira', 'Emma', 'Trisha']\n",
    "for boy, girl in zip(sorted(boys), sorted(girls)):\n",
    "        print(f\"{boy} и {girl}\")"
   ]
  },
  {
   "cell_type": "code",
   "execution_count": null,
   "metadata": {},
   "outputs": [],
   "source": [
    "#Задание 1 СТАРОЕ РЕШЕНИЕ\n",
    "\n",
    "#Условие \n",
    "#Дана переменная, в которой хранится слово из латинских букв. Напишите код, который выводит на экран:\n",
    "#среднюю букву, если число букв в слове четное;\n",
    "#две средних буквы, если число букв нечетное.\n",
    "\n",
    "word = 'test'\n",
    "if len (word) % 2==0:\n",
    "    print(\"test\"[1:3])\n",
    "word = 'testing'\n",
    "if len (word) % 2!=0:\n",
    "    print(\"testing\"[3:4])"
   ]
  },
  {
   "cell_type": "code",
   "execution_count": 35,
   "metadata": {},
   "outputs": [
    {
     "name": "stdout",
     "output_type": "stream",
     "text": [
      "введите слово=парашют\n",
      "а\n"
     ]
    }
   ],
   "source": [
    "#Задание 1 ИСПРАВЛЕННОЕ РЕШЕНИЕ\n",
    "slovo = input ('введите слово=')\n",
    "a = len(slovo) \n",
    "if a % 2 == 0:\n",
    "    print (slovo [int(a/2)-1:int(a/2)+1])\n",
    "else: \n",
    "    print (slovo [int(a/2)])"
   ]
  },
  {
   "cell_type": "code",
   "execution_count": 267,
   "metadata": {},
   "outputs": [
    {
     "name": "stdout",
     "output_type": "stream",
     "text": [
      "-11.80952380952381\n",
      "-5.6984126984127\n",
      "0.5555555555555556\n",
      "6.380952380952379\n",
      "11.777777777777777\n",
      "17.746031746031743\n",
      "23.857142857142854\n",
      "-11.422222222222222\n",
      "-5.2666666666666675\n",
      "1.2888888888888892\n",
      "7.844444444444443\n",
      "13.799999999999999\n",
      "-14.952380952380953\n",
      "-11.984126984126984\n",
      "-8.873015873015873\n",
      "-5.619047619047621\n",
      "-2.2222222222222223\n",
      "0.8888888888888897\n",
      "3.714285714285717\n",
      "-13.148148148148147\n",
      "-8.518518518518519\n",
      "-3.5555555555555567\n",
      "1.7407407407407405\n",
      "6.870370370370371\n",
      "11.999999999999998\n"
     ]
    }
   ],
   "source": [
    "#Задание 4 СТАРОЕ РЕШЕНИЕ\n",
    "countries_temperature  = [\n",
    "['Thailand', [75.2, 77, 78.8, 73.4, 68, 75.2, 77]],\n",
    "['Germany', [57.2, 55.4, 59, 59, 53.6]],\n",
    "['Russia', [35.6, 37.4, 39.2, 41, 42.8, 39.2, 35.6]],\n",
    "['Poland', [50, 50, 53.6, 57.2, 55.4, 55.4]]\n",
    "]\n",
    "\n",
    "#формируем список Thailand\n",
    "Thailand = [75.2, 77, 78.8, 73.4, 68, 75.2, 77]\n",
    "s = 0\n",
    "for i, v in enumerate(Thailand):\n",
    "    s = s+v\n",
    "    Selcii_Thailand = (5/9)*(s/float(len(Thailand))-32)\n",
    "    print(Selcii_Thailand)\n",
    "#формируем список Germany \n",
    "Germany = [57.2, 55.4, 59, 59, 53.6]\n",
    "s = 0  \n",
    "for i, v in enumerate(Germany):\n",
    "    s = s+v\n",
    "    Selcii_Germany = (5/9)*(s/float(len(Germany))-32)\n",
    "    print(Selcii_Germany)      \n",
    "#формируем список Russia  \n",
    "Russia = [35.6, 37.4, 39.2, 41, 42.8, 39.2, 35.6] \n",
    "s = 0\n",
    "for i, v in enumerate(Russia):\n",
    "    s = s+v\n",
    "    Selcii_Russia = (5/9)*(s/float(len(Russia))-32)\n",
    "    print(Selcii_Russia)\n",
    "#формируем список Poland    \n",
    "Poland = [50, 50, 53.6, 57.2, 55.4, 55.4]\n",
    "s = 0\n",
    "for i, v in enumerate(Poland):\n",
    "    s = s+v\n",
    "    Selcii_Poland = (5/9)*(s/float(len(Poland))-32)\n",
    "    print(Selcii_Poland)\n",
    "# Комментарий: каждая седьмая строчка это и есть ответ Thailand=23.85; Germany=13,799; Russia =3,71; Poland=11,99\n",
    "# Как сделать по-другому полночи билась - не получается"
   ]
  },
  {
   "cell_type": "code",
   "execution_count": 2,
   "metadata": {},
   "outputs": [
    {
     "name": "stdout",
     "output_type": "stream",
     "text": [
      "53.599999999999994\n"
     ]
    }
   ],
   "source": [
    "# Задание 4 ИСПРАВЛЕННОЕ РЕШЕНИЕ\n",
    "countries_temperature  = [\n",
    "['Thailand', [75.2, 77, 78.8, 73.4, 68, 75.2, 77]],\n",
    "['Germany', [57.2, 55.4, 59, 59, 53.6]],\n",
    "['Russia', [35.6, 37.4, 39.2, 41, 42.8, 39.2, 35.6]],\n",
    "['Poland', [50, 50, 53.6, 57.2, 55.4, 55.4]]\n",
    "]\n",
    "#в задаче вложенные цикла вообще не нужны. \n",
    "#Третьим циклом вы буквально пытаетесь проитерироваться по конкретным числам, что невозможно.\n",
    "#Посмотирте на такой вариант:\n",
    "\n",
    "for element in countries_temperature:\n",
    "   avg_temp = sum(element[1]) / len(element[1])\n",
    "print (avg_temp) "
   ]
  },
  {
   "cell_type": "code",
   "execution_count": null,
   "metadata": {},
   "outputs": [],
   "source": [
    "# задача 6\n",
    "# введем количество элементов\n",
    "n = int(input(\"Введите количество элементов : \"))\n",
    "#  определим входные данные пользователя с помощью функции map()\n",
    "a = list(map(int,input(\"\\nВведите элементы через пробел : \").strip().split()))[:n]  \n",
    "#  выведем информацию в форме списка\n",
    "print(\"\\nCписок my_list - \", a)\n",
    "for i in set(a):\n",
    "    if a.count(i) > 1:\n",
    "         print(i, a.index(i))"
   ]
  },
  {
   "cell_type": "code",
   "execution_count": null,
   "metadata": {},
   "outputs": [],
   "source": [
    "# задача 6 (второй вариант решения)\n",
    " создание пустого списка\n",
    "my_list = []\n",
    "# количество элементов в качестве входных данных\n",
    "n = int(input(\"Введите количество элементов: \"))\n",
    "# итерация до диапазона\n",
    "for i in range(0, n):\n",
    "    elem = input(i)\n",
    "# добавление элемента    \n",
    "    my_list.append(elem) \n",
    "print(my_list)\n",
    "# начинаем сравнивать элементы и отправлять в пустой список\n",
    "z = {}\n",
    "for i in my_list:\n",
    "    if i in z:\n",
    "        z[i] += 1\n",
    "    else:\n",
    "        z[i] = 1\n",
    "        print(z)"
   ]
  }
 ],
 "metadata": {
  "kernelspec": {
   "display_name": "Python 3",
   "language": "python",
   "name": "python3"
  },
  "language_info": {
   "codemirror_mode": {
    "name": "ipython",
    "version": 3
   },
   "file_extension": ".py",
   "mimetype": "text/x-python",
   "name": "python",
   "nbconvert_exporter": "python",
   "pygments_lexer": "ipython3",
   "version": "3.8.3"
  }
 },
 "nbformat": 4,
 "nbformat_minor": 4
}
