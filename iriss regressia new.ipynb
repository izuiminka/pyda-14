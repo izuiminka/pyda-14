{
 "cells": [
  {
   "cell_type": "code",
   "execution_count": 84,
   "metadata": {},
   "outputs": [
    {
     "name": "stdout",
     "output_type": "stream",
     "text": [
      "Populating the interactive namespace from numpy and matplotlib\n"
     ]
    }
   ],
   "source": [
    "from sklearn.datasets import load_iris\n",
    "import pandas as pd\n",
    "import numpy as np \n",
    "import matplotlib.pyplot as plt\n",
    "from matplotlib import colors\n",
    "from sklearn import datasets\n",
    "from sklearn.decomposition import PCA\n",
    "from sklearn import linear_model\n",
    "from sklearn import metrics \n",
    "from pandas import DataFrame\n",
    "import matplotlib.pyplot as plt\n",
    "from pylab import rcParams\n",
    "import statsmodels.api as sm\n",
    "%pylab inline"
   ]
  },
  {
   "cell_type": "code",
   "execution_count": null,
   "metadata": {},
   "outputs": [],
   "source": [
    "\"\"\"Задание \n",
    "Возьмите датасет с цветками iris’а (функция load_iris из библиотеки sklearn)\n",
    "Оставьте два признака - sepal_length и sepal_width и целевую переменную - variety\n",
    "Разделите данные на выборку для обучения и тестирования\n",
    "Постройте модель LDA\n",
    "Визуализируйте предсказания для тестовой выборки и центры классов\n",
    "Отбросьте целевую переменную и оставьте только два признака - sepal_length и sepal_width\n",
    "Подберите оптимальное число кластеров для алгоритма kmeans и визуализируйте полученную кластеризацию\"\"\""
   ]
  },
  {
   "cell_type": "code",
   "execution_count": 17,
   "metadata": {},
   "outputs": [],
   "source": [
    "# Загружаем набор данных c Ирисами:\n",
    "iris = datasets.load_iris()"
   ]
  },
  {
   "cell_type": "code",
   "execution_count": 18,
   "metadata": {},
   "outputs": [],
   "source": [
    "cmap = colors.LinearSegmentedColormap(\n",
    "    'red_blue_classes',\n",
    "    {'red': [(0, 1, 1), (1, 0.7, 0.7)],\n",
    "     'green': [(0, 0.7, 0.7), (1, 0.7, 0.7)],\n",
    "     'blue': [(0, 0.7, 0.7), (1, 1, 1)]})\n",
    "plt.cm.register_cmap(cmap=cmap)"
   ]
  },
  {
   "cell_type": "code",
   "execution_count": 19,
   "metadata": {},
   "outputs": [
    {
     "name": "stdout",
     "output_type": "stream",
     "text": [
      ".. _iris_dataset:\n",
      "\n",
      "Iris plants dataset\n",
      "--------------------\n",
      "\n",
      "**Data Set Characteristics:**\n",
      "\n",
      "    :Number of Instances: 150 (50 in each of three classes)\n",
      "    :Number of Attributes: 4 numeric, predictive attributes and the class\n",
      "    :Attribute Information:\n",
      "        - sepal length in cm\n",
      "        - sepal width in cm\n",
      "        - petal length in cm\n",
      "        - petal width in cm\n",
      "        - class:\n",
      "                - Iris-Setosa\n",
      "                - Iris-Versicolour\n",
      "                - Iris-Virginica\n",
      "                \n",
      "    :Summary Statistics:\n",
      "\n",
      "    ============== ==== ==== ======= ===== ====================\n",
      "                    Min  Max   Mean    SD   Class Correlation\n",
      "    ============== ==== ==== ======= ===== ====================\n",
      "    sepal length:   4.3  7.9   5.84   0.83    0.7826\n",
      "    sepal width:    2.0  4.4   3.05   0.43   -0.4194\n",
      "    petal length:   1.0  6.9   3.76   1.76    0.9490  (high!)\n",
      "    petal width:    0.1  2.5   1.20   0.76    0.9565  (high!)\n",
      "    ============== ==== ==== ======= ===== ====================\n",
      "\n",
      "    :Missing Attribute Values: None\n",
      "    :Class Distribution: 33.3% for each of 3 classes.\n",
      "    :Creator: R.A. Fisher\n",
      "    :Donor: Michael Marshall (MARSHALL%PLU@io.arc.nasa.gov)\n",
      "    :Date: July, 1988\n",
      "\n",
      "The famous Iris database, first used by Sir R.A. Fisher. The dataset is taken\n",
      "from Fisher's paper. Note that it's the same as in R, but not as in the UCI\n",
      "Machine Learning Repository, which has two wrong data points.\n",
      "\n",
      "This is perhaps the best known database to be found in the\n",
      "pattern recognition literature.  Fisher's paper is a classic in the field and\n",
      "is referenced frequently to this day.  (See Duda & Hart, for example.)  The\n",
      "data set contains 3 classes of 50 instances each, where each class refers to a\n",
      "type of iris plant.  One class is linearly separable from the other 2; the\n",
      "latter are NOT linearly separable from each other.\n",
      "\n",
      ".. topic:: References\n",
      "\n",
      "   - Fisher, R.A. \"The use of multiple measurements in taxonomic problems\"\n",
      "     Annual Eugenics, 7, Part II, 179-188 (1936); also in \"Contributions to\n",
      "     Mathematical Statistics\" (John Wiley, NY, 1950).\n",
      "   - Duda, R.O., & Hart, P.E. (1973) Pattern Classification and Scene Analysis.\n",
      "     (Q327.D83) John Wiley & Sons.  ISBN 0-471-22361-1.  See page 218.\n",
      "   - Dasarathy, B.V. (1980) \"Nosing Around the Neighborhood: A New System\n",
      "     Structure and Classification Rule for Recognition in Partially Exposed\n",
      "     Environments\".  IEEE Transactions on Pattern Analysis and Machine\n",
      "     Intelligence, Vol. PAMI-2, No. 1, 67-71.\n",
      "   - Gates, G.W. (1972) \"The Reduced Nearest Neighbor Rule\".  IEEE Transactions\n",
      "     on Information Theory, May 1972, 431-433.\n",
      "   - See also: 1988 MLC Proceedings, 54-64.  Cheeseman et al\"s AUTOCLASS II\n",
      "     conceptual clustering system finds 3 classes in the data.\n",
      "   - Many, many more ...\n"
     ]
    }
   ],
   "source": [
    "print(iris.DESCR) # смотрим, что есть в файле"
   ]
  },
  {
   "cell_type": "code",
   "execution_count": 20,
   "metadata": {},
   "outputs": [
    {
     "name": "stdout",
     "output_type": "stream",
     "text": [
      "['sepal length (cm)', 'sepal width (cm)', 'petal length (cm)', 'petal width (cm)']\n"
     ]
    }
   ],
   "source": [
    "# Смотрим на названия переменных\n",
    "print (iris.feature_names)"
   ]
  },
  {
   "cell_type": "code",
   "execution_count": 21,
   "metadata": {},
   "outputs": [
    {
     "data": {
      "text/html": [
       "<div>\n",
       "<style scoped>\n",
       "    .dataframe tbody tr th:only-of-type {\n",
       "        vertical-align: middle;\n",
       "    }\n",
       "\n",
       "    .dataframe tbody tr th {\n",
       "        vertical-align: top;\n",
       "    }\n",
       "\n",
       "    .dataframe thead th {\n",
       "        text-align: right;\n",
       "    }\n",
       "</style>\n",
       "<table border=\"1\" class=\"dataframe\">\n",
       "  <thead>\n",
       "    <tr style=\"text-align: right;\">\n",
       "      <th></th>\n",
       "      <th>0</th>\n",
       "      <th>1</th>\n",
       "      <th>2</th>\n",
       "      <th>3</th>\n",
       "    </tr>\n",
       "  </thead>\n",
       "  <tbody>\n",
       "    <tr>\n",
       "      <th>0</th>\n",
       "      <td>5.1</td>\n",
       "      <td>3.5</td>\n",
       "      <td>1.4</td>\n",
       "      <td>0.2</td>\n",
       "    </tr>\n",
       "    <tr>\n",
       "      <th>1</th>\n",
       "      <td>4.9</td>\n",
       "      <td>3.0</td>\n",
       "      <td>1.4</td>\n",
       "      <td>0.2</td>\n",
       "    </tr>\n",
       "    <tr>\n",
       "      <th>2</th>\n",
       "      <td>4.7</td>\n",
       "      <td>3.2</td>\n",
       "      <td>1.3</td>\n",
       "      <td>0.2</td>\n",
       "    </tr>\n",
       "    <tr>\n",
       "      <th>3</th>\n",
       "      <td>4.6</td>\n",
       "      <td>3.1</td>\n",
       "      <td>1.5</td>\n",
       "      <td>0.2</td>\n",
       "    </tr>\n",
       "    <tr>\n",
       "      <th>4</th>\n",
       "      <td>5.0</td>\n",
       "      <td>3.6</td>\n",
       "      <td>1.4</td>\n",
       "      <td>0.2</td>\n",
       "    </tr>\n",
       "  </tbody>\n",
       "</table>\n",
       "</div>"
      ],
      "text/plain": [
       "     0    1    2    3\n",
       "0  5.1  3.5  1.4  0.2\n",
       "1  4.9  3.0  1.4  0.2\n",
       "2  4.7  3.2  1.3  0.2\n",
       "3  4.6  3.1  1.5  0.2\n",
       "4  5.0  3.6  1.4  0.2"
      ]
     },
     "execution_count": 21,
     "metadata": {},
     "output_type": "execute_result"
    }
   ],
   "source": [
    "#Для удобства делаем из них iris = datasets.load_iris() DataFrame:\n",
    "df_iris =  DataFrame(iris.data)\n",
    "df_iris.head()"
   ]
  },
  {
   "cell_type": "code",
   "execution_count": 22,
   "metadata": {},
   "outputs": [
    {
     "name": "stdout",
     "output_type": "stream",
     "text": [
      "[[5.1 3.5 1.4 0.2]\n",
      " [4.9 3.  1.4 0.2]\n",
      " [4.7 3.2 1.3 0.2]\n",
      " [4.6 3.1 1.5 0.2]\n",
      " [5.  3.6 1.4 0.2]\n",
      " [5.4 3.9 1.7 0.4]\n",
      " [4.6 3.4 1.4 0.3]\n",
      " [5.  3.4 1.5 0.2]\n",
      " [4.4 2.9 1.4 0.2]\n",
      " [4.9 3.1 1.5 0.1]]\n",
      "['setosa' 'versicolor' 'virginica']\n"
     ]
    }
   ],
   "source": [
    "# Смотрим на данные, выводим 10 первых строк: \n",
    "print (iris.data[:10])\n",
    "# Смотрим на целевую переменную:\n",
    "print (iris.target_names)"
   ]
  },
  {
   "cell_type": "code",
   "execution_count": 94,
   "metadata": {},
   "outputs": [
    {
     "data": {
      "text/html": [
       "<div>\n",
       "<style scoped>\n",
       "    .dataframe tbody tr th:only-of-type {\n",
       "        vertical-align: middle;\n",
       "    }\n",
       "\n",
       "    .dataframe tbody tr th {\n",
       "        vertical-align: top;\n",
       "    }\n",
       "\n",
       "    .dataframe thead th {\n",
       "        text-align: right;\n",
       "    }\n",
       "</style>\n",
       "<table border=\"1\" class=\"dataframe\">\n",
       "  <thead>\n",
       "    <tr style=\"text-align: right;\">\n",
       "      <th></th>\n",
       "      <th>sepal length (cm)</th>\n",
       "      <th>sepal width (cm)</th>\n",
       "      <th>petal length (cm)</th>\n",
       "      <th>petal width (cm)</th>\n",
       "      <th>target</th>\n",
       "      <th>variety</th>\n",
       "    </tr>\n",
       "  </thead>\n",
       "  <tbody>\n",
       "    <tr>\n",
       "      <th>0</th>\n",
       "      <td>5.1</td>\n",
       "      <td>3.5</td>\n",
       "      <td>1.4</td>\n",
       "      <td>0.2</td>\n",
       "      <td>0</td>\n",
       "      <td>setosa</td>\n",
       "    </tr>\n",
       "    <tr>\n",
       "      <th>1</th>\n",
       "      <td>4.9</td>\n",
       "      <td>3.0</td>\n",
       "      <td>1.4</td>\n",
       "      <td>0.2</td>\n",
       "      <td>0</td>\n",
       "      <td>setosa</td>\n",
       "    </tr>\n",
       "    <tr>\n",
       "      <th>2</th>\n",
       "      <td>4.7</td>\n",
       "      <td>3.2</td>\n",
       "      <td>1.3</td>\n",
       "      <td>0.2</td>\n",
       "      <td>0</td>\n",
       "      <td>setosa</td>\n",
       "    </tr>\n",
       "    <tr>\n",
       "      <th>3</th>\n",
       "      <td>4.6</td>\n",
       "      <td>3.1</td>\n",
       "      <td>1.5</td>\n",
       "      <td>0.2</td>\n",
       "      <td>0</td>\n",
       "      <td>setosa</td>\n",
       "    </tr>\n",
       "    <tr>\n",
       "      <th>4</th>\n",
       "      <td>5.0</td>\n",
       "      <td>3.6</td>\n",
       "      <td>1.4</td>\n",
       "      <td>0.2</td>\n",
       "      <td>0</td>\n",
       "      <td>setosa</td>\n",
       "    </tr>\n",
       "    <tr>\n",
       "      <th>...</th>\n",
       "      <td>...</td>\n",
       "      <td>...</td>\n",
       "      <td>...</td>\n",
       "      <td>...</td>\n",
       "      <td>...</td>\n",
       "      <td>...</td>\n",
       "    </tr>\n",
       "    <tr>\n",
       "      <th>145</th>\n",
       "      <td>6.7</td>\n",
       "      <td>3.0</td>\n",
       "      <td>5.2</td>\n",
       "      <td>2.3</td>\n",
       "      <td>2</td>\n",
       "      <td>virginica</td>\n",
       "    </tr>\n",
       "    <tr>\n",
       "      <th>146</th>\n",
       "      <td>6.3</td>\n",
       "      <td>2.5</td>\n",
       "      <td>5.0</td>\n",
       "      <td>1.9</td>\n",
       "      <td>2</td>\n",
       "      <td>virginica</td>\n",
       "    </tr>\n",
       "    <tr>\n",
       "      <th>147</th>\n",
       "      <td>6.5</td>\n",
       "      <td>3.0</td>\n",
       "      <td>5.2</td>\n",
       "      <td>2.0</td>\n",
       "      <td>2</td>\n",
       "      <td>virginica</td>\n",
       "    </tr>\n",
       "    <tr>\n",
       "      <th>148</th>\n",
       "      <td>6.2</td>\n",
       "      <td>3.4</td>\n",
       "      <td>5.4</td>\n",
       "      <td>2.3</td>\n",
       "      <td>2</td>\n",
       "      <td>virginica</td>\n",
       "    </tr>\n",
       "    <tr>\n",
       "      <th>149</th>\n",
       "      <td>5.9</td>\n",
       "      <td>3.0</td>\n",
       "      <td>5.1</td>\n",
       "      <td>1.8</td>\n",
       "      <td>2</td>\n",
       "      <td>virginica</td>\n",
       "    </tr>\n",
       "  </tbody>\n",
       "</table>\n",
       "<p>150 rows × 6 columns</p>\n",
       "</div>"
      ],
      "text/plain": [
       "     sepal length (cm)  sepal width (cm)  petal length (cm)  petal width (cm)  \\\n",
       "0                  5.1               3.5                1.4               0.2   \n",
       "1                  4.9               3.0                1.4               0.2   \n",
       "2                  4.7               3.2                1.3               0.2   \n",
       "3                  4.6               3.1                1.5               0.2   \n",
       "4                  5.0               3.6                1.4               0.2   \n",
       "..                 ...               ...                ...               ...   \n",
       "145                6.7               3.0                5.2               2.3   \n",
       "146                6.3               2.5                5.0               1.9   \n",
       "147                6.5               3.0                5.2               2.0   \n",
       "148                6.2               3.4                5.4               2.3   \n",
       "149                5.9               3.0                5.1               1.8   \n",
       "\n",
       "     target    variety  \n",
       "0         0     setosa  \n",
       "1         0     setosa  \n",
       "2         0     setosa  \n",
       "3         0     setosa  \n",
       "4         0     setosa  \n",
       "..      ...        ...  \n",
       "145       2  virginica  \n",
       "146       2  virginica  \n",
       "147       2  virginica  \n",
       "148       2  virginica  \n",
       "149       2  virginica  \n",
       "\n",
       "[150 rows x 6 columns]"
      ]
     },
     "execution_count": 94,
     "metadata": {},
     "output_type": "execute_result"
    }
   ],
   "source": [
    "df_iris = DataFrame(iris.data)\n",
    "# Делаем имена колонок такие же, как имена переменных:\n",
    "df_iris.columns = iris.feature_names\n",
    "# Добавляем столбец с целевой переменной: \n",
    "df_iris['target'] = iris.target\n",
    "# добавляем столбец  variety - как class из Attribute Information:: \n",
    "df_iris['variety'] = df_iris.target.apply(lambda x : iris.target_names[x])\n",
    "# Смотрим, что получилось:\n",
    "df_iris\n"
   ]
  },
  {
   "cell_type": "code",
   "execution_count": 95,
   "metadata": {},
   "outputs": [
    {
     "data": {
      "text/plain": [
       "<seaborn.axisgrid.PairGrid at 0xb3d1550>"
      ]
     },
     "execution_count": 95,
     "metadata": {},
     "output_type": "execute_result"
    },
    {
     "data": {
      "image/png": "[encoded data removed]",
      "text/plain": [
       "<Figure size 444.75x360 with 6 Axes>"
      ]
     },
     "metadata": {
      "needs_background": "light"
     },
     "output_type": "display_data"
    }
   ],
   "source": [
    "#Строим зависимостями между признаками, цвет точек распределения как сорт Ирисов\n",
    "import seaborn as sns\n",
    "sns.pairplot(df_iris[['sepal length (cm)','sepal width (cm)','variety']], hue = 'variety')"
   ]
  },
  {
   "cell_type": "code",
   "execution_count": 87,
   "metadata": {},
   "outputs": [],
   "source": [
    "# загружаем данные в датафрейм\n",
    "data = pd.DataFrame(iris.data, columns=iris.feature_names)\n",
    "data_class = iris.target"
   ]
  },
  {
   "cell_type": "code",
   "execution_count": 88,
   "metadata": {},
   "outputs": [],
   "source": [
    "# разделяем выборку на тренировочную и тестовую, где 25% данных оставим на тест и 75% на обучение\n",
    "from sklearn.model_selection import train_test_split\n",
    "X_train, X_test, y_train, y_test = train_test_split(data, data_class, test_size=0.25)"
   ]
  },
  {
   "cell_type": "code",
   "execution_count": 26,
   "metadata": {},
   "outputs": [],
   "source": [
    "# импортируем LDA-функционал\n",
    "from sklearn.discriminant_analysis import LinearDiscriminantAnalysis"
   ]
  },
  {
   "cell_type": "code",
   "execution_count": 30,
   "metadata": {},
   "outputs": [],
   "source": [
    "lda = LinearDiscriminantAnalysis()"
   ]
  },
  {
   "cell_type": "code",
   "execution_count": 31,
   "metadata": {},
   "outputs": [
    {
     "data": {
      "text/plain": [
       "LinearDiscriminantAnalysis()"
      ]
     },
     "execution_count": 31,
     "metadata": {},
     "output_type": "execute_result"
    }
   ],
   "source": [
    "# обучаем данные\n",
    "lda.fit(X_train, y_train)"
   ]
  },
  {
   "cell_type": "code",
   "execution_count": 32,
   "metadata": {},
   "outputs": [
    {
     "data": {
      "text/plain": [
       "array([2, 0, 0, 0, 0, 0, 2, 2, 1, 1, 1, 0, 1, 0, 1, 0, 1, 1, 2, 0, 2, 2,\n",
       "       2, 0, 1, 1, 1, 0, 2, 2, 2, 1, 1, 1, 2, 0, 0, 1])"
      ]
     },
     "execution_count": 32,
     "metadata": {},
     "output_type": "execute_result"
    }
   ],
   "source": [
    "# делаем прогноз на тестовой выборке\n",
    "lda.predict(X_test)"
   ]
  },
  {
   "cell_type": "code",
   "execution_count": 33,
   "metadata": {},
   "outputs": [],
   "source": [
    "# смотрим разницу факта и прогноза\n",
    "result = pd.DataFrame([y_test, lda.predict(X_test)]).T"
   ]
  },
  {
   "cell_type": "code",
   "execution_count": 34,
   "metadata": {},
   "outputs": [
    {
     "data": {
      "text/html": [
       "<div>\n",
       "<style scoped>\n",
       "    .dataframe tbody tr th:only-of-type {\n",
       "        vertical-align: middle;\n",
       "    }\n",
       "\n",
       "    .dataframe tbody tr th {\n",
       "        vertical-align: top;\n",
       "    }\n",
       "\n",
       "    .dataframe thead th {\n",
       "        text-align: right;\n",
       "    }\n",
       "</style>\n",
       "<table border=\"1\" class=\"dataframe\">\n",
       "  <thead>\n",
       "    <tr style=\"text-align: right;\">\n",
       "      <th></th>\n",
       "      <th>0</th>\n",
       "      <th>1</th>\n",
       "    </tr>\n",
       "  </thead>\n",
       "  <tbody>\n",
       "    <tr>\n",
       "      <th>0</th>\n",
       "      <td>2</td>\n",
       "      <td>2</td>\n",
       "    </tr>\n",
       "    <tr>\n",
       "      <th>1</th>\n",
       "      <td>0</td>\n",
       "      <td>0</td>\n",
       "    </tr>\n",
       "    <tr>\n",
       "      <th>2</th>\n",
       "      <td>0</td>\n",
       "      <td>0</td>\n",
       "    </tr>\n",
       "    <tr>\n",
       "      <th>3</th>\n",
       "      <td>0</td>\n",
       "      <td>0</td>\n",
       "    </tr>\n",
       "    <tr>\n",
       "      <th>4</th>\n",
       "      <td>0</td>\n",
       "      <td>0</td>\n",
       "    </tr>\n",
       "    <tr>\n",
       "      <th>5</th>\n",
       "      <td>0</td>\n",
       "      <td>0</td>\n",
       "    </tr>\n",
       "    <tr>\n",
       "      <th>6</th>\n",
       "      <td>2</td>\n",
       "      <td>2</td>\n",
       "    </tr>\n",
       "    <tr>\n",
       "      <th>7</th>\n",
       "      <td>2</td>\n",
       "      <td>2</td>\n",
       "    </tr>\n",
       "    <tr>\n",
       "      <th>8</th>\n",
       "      <td>1</td>\n",
       "      <td>1</td>\n",
       "    </tr>\n",
       "    <tr>\n",
       "      <th>9</th>\n",
       "      <td>1</td>\n",
       "      <td>1</td>\n",
       "    </tr>\n",
       "    <tr>\n",
       "      <th>10</th>\n",
       "      <td>1</td>\n",
       "      <td>1</td>\n",
       "    </tr>\n",
       "    <tr>\n",
       "      <th>11</th>\n",
       "      <td>0</td>\n",
       "      <td>0</td>\n",
       "    </tr>\n",
       "    <tr>\n",
       "      <th>12</th>\n",
       "      <td>1</td>\n",
       "      <td>1</td>\n",
       "    </tr>\n",
       "    <tr>\n",
       "      <th>13</th>\n",
       "      <td>0</td>\n",
       "      <td>0</td>\n",
       "    </tr>\n",
       "    <tr>\n",
       "      <th>14</th>\n",
       "      <td>1</td>\n",
       "      <td>1</td>\n",
       "    </tr>\n",
       "    <tr>\n",
       "      <th>15</th>\n",
       "      <td>0</td>\n",
       "      <td>0</td>\n",
       "    </tr>\n",
       "    <tr>\n",
       "      <th>16</th>\n",
       "      <td>1</td>\n",
       "      <td>1</td>\n",
       "    </tr>\n",
       "    <tr>\n",
       "      <th>17</th>\n",
       "      <td>1</td>\n",
       "      <td>1</td>\n",
       "    </tr>\n",
       "    <tr>\n",
       "      <th>18</th>\n",
       "      <td>2</td>\n",
       "      <td>2</td>\n",
       "    </tr>\n",
       "    <tr>\n",
       "      <th>19</th>\n",
       "      <td>0</td>\n",
       "      <td>0</td>\n",
       "    </tr>\n",
       "    <tr>\n",
       "      <th>20</th>\n",
       "      <td>2</td>\n",
       "      <td>2</td>\n",
       "    </tr>\n",
       "    <tr>\n",
       "      <th>21</th>\n",
       "      <td>2</td>\n",
       "      <td>2</td>\n",
       "    </tr>\n",
       "    <tr>\n",
       "      <th>22</th>\n",
       "      <td>2</td>\n",
       "      <td>2</td>\n",
       "    </tr>\n",
       "    <tr>\n",
       "      <th>23</th>\n",
       "      <td>0</td>\n",
       "      <td>0</td>\n",
       "    </tr>\n",
       "    <tr>\n",
       "      <th>24</th>\n",
       "      <td>1</td>\n",
       "      <td>1</td>\n",
       "    </tr>\n",
       "    <tr>\n",
       "      <th>25</th>\n",
       "      <td>1</td>\n",
       "      <td>1</td>\n",
       "    </tr>\n",
       "    <tr>\n",
       "      <th>26</th>\n",
       "      <td>1</td>\n",
       "      <td>1</td>\n",
       "    </tr>\n",
       "    <tr>\n",
       "      <th>27</th>\n",
       "      <td>0</td>\n",
       "      <td>0</td>\n",
       "    </tr>\n",
       "    <tr>\n",
       "      <th>28</th>\n",
       "      <td>2</td>\n",
       "      <td>2</td>\n",
       "    </tr>\n",
       "    <tr>\n",
       "      <th>29</th>\n",
       "      <td>2</td>\n",
       "      <td>2</td>\n",
       "    </tr>\n",
       "    <tr>\n",
       "      <th>30</th>\n",
       "      <td>2</td>\n",
       "      <td>2</td>\n",
       "    </tr>\n",
       "    <tr>\n",
       "      <th>31</th>\n",
       "      <td>2</td>\n",
       "      <td>1</td>\n",
       "    </tr>\n",
       "    <tr>\n",
       "      <th>32</th>\n",
       "      <td>1</td>\n",
       "      <td>1</td>\n",
       "    </tr>\n",
       "    <tr>\n",
       "      <th>33</th>\n",
       "      <td>1</td>\n",
       "      <td>1</td>\n",
       "    </tr>\n",
       "    <tr>\n",
       "      <th>34</th>\n",
       "      <td>2</td>\n",
       "      <td>2</td>\n",
       "    </tr>\n",
       "    <tr>\n",
       "      <th>35</th>\n",
       "      <td>0</td>\n",
       "      <td>0</td>\n",
       "    </tr>\n",
       "    <tr>\n",
       "      <th>36</th>\n",
       "      <td>0</td>\n",
       "      <td>0</td>\n",
       "    </tr>\n",
       "    <tr>\n",
       "      <th>37</th>\n",
       "      <td>1</td>\n",
       "      <td>1</td>\n",
       "    </tr>\n",
       "  </tbody>\n",
       "</table>\n",
       "</div>"
      ],
      "text/plain": [
       "    0  1\n",
       "0   2  2\n",
       "1   0  0\n",
       "2   0  0\n",
       "3   0  0\n",
       "4   0  0\n",
       "5   0  0\n",
       "6   2  2\n",
       "7   2  2\n",
       "8   1  1\n",
       "9   1  1\n",
       "10  1  1\n",
       "11  0  0\n",
       "12  1  1\n",
       "13  0  0\n",
       "14  1  1\n",
       "15  0  0\n",
       "16  1  1\n",
       "17  1  1\n",
       "18  2  2\n",
       "19  0  0\n",
       "20  2  2\n",
       "21  2  2\n",
       "22  2  2\n",
       "23  0  0\n",
       "24  1  1\n",
       "25  1  1\n",
       "26  1  1\n",
       "27  0  0\n",
       "28  2  2\n",
       "29  2  2\n",
       "30  2  2\n",
       "31  2  1\n",
       "32  1  1\n",
       "33  1  1\n",
       "34  2  2\n",
       "35  0  0\n",
       "36  0  0\n",
       "37  1  1"
      ]
     },
     "execution_count": 34,
     "metadata": {},
     "output_type": "execute_result"
    }
   ],
   "source": [
    "result"
   ]
  },
  {
   "cell_type": "code",
   "execution_count": 35,
   "metadata": {},
   "outputs": [],
   "source": [
    "# расчет точности - отношение верный прогнозов к общему количеству позиций\n",
    "# является хорошей метрикой для сбалансированных классов \n",
    "#(наблюдений в категориях примерно одинаковое количество)\n",
    "\n",
    "from sklearn.metrics import accuracy_score"
   ]
  },
  {
   "cell_type": "code",
   "execution_count": 36,
   "metadata": {},
   "outputs": [
    {
     "data": {
      "text/plain": [
       "0.9736842105263158"
      ]
     },
     "execution_count": 36,
     "metadata": {},
     "output_type": "execute_result"
    }
   ],
   "source": [
    "accuracy_score(y_test, lda.predict(X_test))"
   ]
  },
  {
   "cell_type": "code",
   "execution_count": 37,
   "metadata": {},
   "outputs": [
    {
     "data": {
      "text/plain": [
       "array([[  6.36318878,  12.54934548, -16.69255333, -20.95790859],\n",
       "       [ -1.87369731,  -4.23715922,   4.6316896 ,   3.12866162],\n",
       "       [ -4.37134696,  -8.09344452,  11.74347258,  17.36005626]])"
      ]
     },
     "execution_count": 37,
     "metadata": {},
     "output_type": "execute_result"
    }
   ],
   "source": [
    "# коэффициенты дискриминатных линий\n",
    "lda.coef_\n",
    "#на сколько этот коэффициент вносит больший вклад в возможность отделить точку от  других точек\n",
    "#получилась одна дискриминантная линия и 4 признака в данных"
   ]
  },
  {
   "cell_type": "code",
   "execution_count": 38,
   "metadata": {},
   "outputs": [
    {
     "data": {
      "image/png": "[encoded data removed]",
      "text/plain": [
       "<Figure size 432x288 with 1 Axes>"
      ]
     },
     "metadata": {
      "needs_background": "light"
     },
     "output_type": "display_data"
    }
   ],
   "source": [
    "# визуализируем дискриминантную линию только по 2 признакам, т.к двухмерное представление \n",
    "plt.scatter(X_train['sepal length (cm)'], X_train['sepal width (cm)'], c=y_train)\n",
    "plt.show()\n"
   ]
  },
  {
   "cell_type": "code",
   "execution_count": 45,
   "metadata": {},
   "outputs": [],
   "source": [
    "small_train = X_train[(y_train == 0) | (y_train == 2)]\n",
    "small_train = small_train[['sepal length (cm)', 'sepal width (cm)']]\n",
    "sy_train = y_train[(y_train == 0) | (y_train == 2)]\n",
    "small_test = X_test[(y_test == 0) | (y_test == 2)]\n",
    "small_test = small_test[['sepal length (cm)', 'sepal width (cm)']]\n",
    "sy_test = y_test[(y_test == 0) | (y_test == 2)]"
   ]
  },
  {
   "cell_type": "code",
   "execution_count": 46,
   "metadata": {},
   "outputs": [
    {
     "data": {
      "image/png": "[encoded data removed]",
      "text/plain": [
       "<Figure size 432x288 with 1 Axes>"
      ]
     },
     "metadata": {
      "needs_background": "light"
     },
     "output_type": "display_data"
    }
   ],
   "source": [
    "plt.scatter(small_train['sepal length (cm)'], small_train['sepal width (cm)'], c=sy_train)\n",
    "plt.show()\n",
    "# разделим их на две группы на 0 ина 2\n",
    "# разделение двух групп друг от дуга и влияние на них признаков, обращаем внимание как они разделены: \n",
    "# видим, что признак y есть в обоих группах, а вот после определенного х начинается другой признак\n",
    "# т.к наши данные линейно разделимые"
   ]
  },
  {
   "cell_type": "code",
   "execution_count": 41,
   "metadata": {},
   "outputs": [
    {
     "data": {
      "text/plain": [
       "LinearDiscriminantAnalysis()"
      ]
     },
     "execution_count": 41,
     "metadata": {},
     "output_type": "execute_result"
    }
   ],
   "source": [
    "lda_small = LinearDiscriminantAnalysis()\n",
    "lda_small.fit(small_train, sy_train)"
   ]
  },
  {
   "cell_type": "code",
   "execution_count": 42,
   "metadata": {},
   "outputs": [
    {
     "data": {
      "text/plain": [
       "array([[4.9972973 , 3.38918919],\n",
       "       [6.63421053, 2.97368421]])"
      ]
     },
     "execution_count": 42,
     "metadata": {},
     "output_type": "execute_result"
    }
   ],
   "source": [
    "# посмотрим на наши центроиды\n",
    "lda_small.means_"
   ]
  },
  {
   "cell_type": "code",
   "execution_count": 43,
   "metadata": {},
   "outputs": [
    {
     "data": {
      "text/plain": [
       "<matplotlib.collections.PathCollection at 0xc7139a0>"
      ]
     },
     "execution_count": 43,
     "metadata": {},
     "output_type": "execute_result"
    },
    {
     "data": {
      "image/png": "[encoded data removed]",
      "text/plain": [
       "<Figure size 432x288 with 1 Axes>"
      ]
     },
     "metadata": {
      "needs_background": "light"
     },
     "output_type": "display_data"
    }
   ],
   "source": [
    "# сам scatter plot\n",
    "plt.scatter(small_train['sepal length (cm)'], small_train['sepal width (cm)'], c=sy_train)\n",
    "# центроиды\n",
    "plt.scatter(lda_small.means_[:, 0], lda_small.means_[:, 1], c='r', s=150, marker='*')\n",
    "#найдем коэфициенты\n",
    "#второй признак важнее первого для кластеризации\n",
    "# также можно определить по наклону прямой"
   ]
  },
  {
   "cell_type": "code",
   "execution_count": 53,
   "metadata": {},
   "outputs": [
    {
     "data": {
      "text/plain": [
       "array([[ 9.38787001, -9.57533796]])"
      ]
     },
     "execution_count": 53,
     "metadata": {},
     "output_type": "execute_result"
    }
   ],
   "source": [
    "# второй признак в 9 раз важнее первого для кластеризации (это видно по визуализации)\n",
    "lda_small.coef_"
   ]
  },
  {
   "cell_type": "code",
   "execution_count": 54,
   "metadata": {},
   "outputs": [
    {
     "data": {
      "text/plain": [
       "0.96"
      ]
     },
     "execution_count": 54,
     "metadata": {},
     "output_type": "execute_result"
    }
   ],
   "source": [
    "# определяем какая будет точность\n",
    "accuracy_score(sy_test, lda_small.predict(small_test))"
   ]
  },
  {
   "cell_type": "code",
   "execution_count": null,
   "metadata": {},
   "outputs": [],
   "source": [
    "#МЕТОД K-средних\n",
    "#Подбераем оптимальное число кластеров для алгоритма kmeans и визуализируйте полученную кластеризацию\n",
    "#Он разбивает множество элементов векторного пространства на заранее известное число кластеров k.\n",
    "#Действие алгоритма таково, что он стремится минимизировать среднеквадратичное отклонение на точках каждого кластера.\n",
    "#Основная идея заключается в том, что на каждой итерации перевычисляется центр масс для каждого кластера, \n",
    "#полученного на предыдущем шаге, затем векторы разбиваются на кластеры вновь в соответствии с тем, \n",
    "#какой из новых центров оказался ближе по выбранной метрике. \n",
    "#Алгоритм завершается, когда на какой-то итерации не происходит изменения кластеров."
   ]
  },
  {
   "cell_type": "code",
   "execution_count": 66,
   "metadata": {},
   "outputs": [],
   "source": [
    "# генерируем искусвтенные данные для примера\n",
    "from sklearn.datasets import make_moons, make_blobs"
   ]
  },
  {
   "cell_type": "code",
   "execution_count": 67,
   "metadata": {},
   "outputs": [],
   "source": [
    "# 200 точек с 2 центрами, СКО - 2.5\n",
    "X, y = make_blobs(n_samples=200, centers=2, cluster_std=2.5)"
   ]
  },
  {
   "cell_type": "code",
   "execution_count": 68,
   "metadata": {},
   "outputs": [
    {
     "data": {
      "text/plain": [
       "array([[  2.92715511,   0.65529568],\n",
       "       [  3.1067055 ,  -3.38977838],\n",
       "       [  0.15037711,  -9.35064431],\n",
       "       [  1.48074177,  -0.27175983],\n",
       "       [ -1.16980006,  -0.03187885],\n",
       "       [  5.55894728, -14.08358694],\n",
       "       [  3.37234453,  -2.75733366],\n",
       "       [  6.1243141 ,  -3.58585564],\n",
       "       [ -0.41784634,   2.45168804],\n",
       "       [  2.38899029,   3.26647361],\n",
       "       [  3.44497549,   2.24902813],\n",
       "       [  3.90703838,   1.21354977],\n",
       "       [  5.20495737, -10.47577298],\n",
       "       [  1.65670373, -10.01330949],\n",
       "       [ 10.1102121 ,   1.92325593],\n",
       "       [  1.46021072,  -0.98630999],\n",
       "       [  4.63798853,   1.52851828],\n",
       "       [  3.76164234,  -9.18519164],\n",
       "       [ -3.52807816,   4.78845795],\n",
       "       [  2.96664988,  -3.46480513],\n",
       "       [  1.41392487,  -0.33290231],\n",
       "       [  5.11592289,  -3.99887344],\n",
       "       [  5.76257168,  -8.94192508],\n",
       "       [  2.2166883 ,   4.00584615],\n",
       "       [  1.74496514,  -4.70171997],\n",
       "       [  8.1157953 ,   3.46369708],\n",
       "       [  1.15181039,  -5.95330426],\n",
       "       [  9.17193977,   0.29803415],\n",
       "       [  9.34425748,  -6.21649887],\n",
       "       [  6.16509319,   1.4954911 ],\n",
       "       [  8.39990288,  -5.62777246],\n",
       "       [  5.28191708,   3.86100763],\n",
       "       [  2.11458495,  -9.88323544],\n",
       "       [  5.08781249,  -2.10582658],\n",
       "       [  1.19081494,  -3.22162226],\n",
       "       [ 10.23153189,   3.28921083],\n",
       "       [  5.53668725,   3.17156803],\n",
       "       [ 10.76702693,  -0.8826516 ],\n",
       "       [  3.30019741,  -7.17054071],\n",
       "       [  4.81367668,  -5.64663008],\n",
       "       [ -0.89198414,  -6.60047278],\n",
       "       [  2.60205035,  -1.76312416],\n",
       "       [  2.08785177,  -6.99030176],\n",
       "       [  6.06068289,  -6.72577152],\n",
       "       [  4.66886933,  -4.33816734],\n",
       "       [  4.18538741,  -4.70591141],\n",
       "       [  9.89790186,  -6.27392957],\n",
       "       [  5.22783023,   4.06152753],\n",
       "       [  5.34075978,   0.96136954],\n",
       "       [  6.05733672,   2.40635049],\n",
       "       [  4.51881949,  -9.83228628],\n",
       "       [  2.80722304,   3.79186176],\n",
       "       [  5.83705383,   1.0882681 ],\n",
       "       [  2.18470706,   1.19851852],\n",
       "       [  4.89152985,  -6.56003413],\n",
       "       [  6.49620179,   0.90722827],\n",
       "       [  0.50960789,  -5.77733077],\n",
       "       [  4.93044236,  -4.86119588],\n",
       "       [  1.39038439,  -1.4005738 ],\n",
       "       [  5.73389794,   1.07858295],\n",
       "       [  6.3100839 ,   2.40619214],\n",
       "       [  4.96306464,  -2.59593963],\n",
       "       [  2.73810837, -11.95586466],\n",
       "       [  8.15534497,   1.89205864],\n",
       "       [  4.47940096,  -7.90755699],\n",
       "       [  8.06183549,  -4.52447205],\n",
       "       [  1.04068936,  -1.81176793],\n",
       "       [ 10.72949812,  -5.34727448],\n",
       "       [  6.42010896,  -7.6352665 ],\n",
       "       [  3.58646195, -10.99821051],\n",
       "       [  3.06757182,   3.22915576],\n",
       "       [  6.66772736,   0.89831101],\n",
       "       [  4.41096229,   4.71784015],\n",
       "       [  5.80566586,  -5.7813785 ],\n",
       "       [  5.652994  ,  -1.20400215],\n",
       "       [ 10.8119024 ,  -4.51595799],\n",
       "       [  2.95096139,  -7.71919682],\n",
       "       [  3.75022973,   4.18870324],\n",
       "       [  3.64051192,   0.10999088],\n",
       "       [  6.69257392,  -5.77704295],\n",
       "       [  5.15483452,  -6.18168049],\n",
       "       [  1.64601783,   1.53545001],\n",
       "       [  5.91274094,   0.38794132],\n",
       "       [ -0.18856244,   2.63773706],\n",
       "       [  3.7416599 ,  -9.70966956],\n",
       "       [  6.2125546 ,   3.74811813],\n",
       "       [  5.63334912,   3.47559791],\n",
       "       [  4.33399222,   0.05838906],\n",
       "       [  6.50305506,  -7.1346057 ],\n",
       "       [  2.48111432,  -6.48718713],\n",
       "       [  4.17359311,  -5.32734508],\n",
       "       [  5.87488118,   4.399232  ],\n",
       "       [  4.01606463,  -8.68151683],\n",
       "       [  2.70089404,  -7.67379906],\n",
       "       [  3.75225772,  -0.17033782],\n",
       "       [  4.64283785, -10.32634106],\n",
       "       [  6.25112832,  -4.57282921],\n",
       "       [  3.73359826,   7.18549096],\n",
       "       [  6.35821191,   4.54127275],\n",
       "       [  1.95936431,  -7.26321827],\n",
       "       [  3.74641718,  -9.60544632],\n",
       "       [  1.13130351,  -7.01405589],\n",
       "       [  2.59652727,  -5.94178135],\n",
       "       [  4.51459039, -10.25663672],\n",
       "       [  4.52775015,   3.84766975],\n",
       "       [  2.8811143 ,   0.25804612],\n",
       "       [  9.57149068,  -0.83797363],\n",
       "       [  5.1633286 ,   3.83794958],\n",
       "       [  5.0906691 ,   3.30640499],\n",
       "       [  4.844324  ,  -8.07206209],\n",
       "       [  5.92379209,  -2.00323837],\n",
       "       [  4.47022629,   4.21306858],\n",
       "       [  5.15461361,   3.83048761],\n",
       "       [  6.79164025, -10.31707002],\n",
       "       [  3.94978763,  -7.8680757 ],\n",
       "       [  7.24294962,   4.02253956],\n",
       "       [  5.28624538,   1.66037998],\n",
       "       [  5.07617365,  -7.0824078 ],\n",
       "       [  7.07977762,   3.08623886],\n",
       "       [  5.8903423 ,  -4.86453643],\n",
       "       [  7.67988139,  -3.7234486 ],\n",
       "       [  9.01292459,   4.10996362],\n",
       "       [  7.23484216,  -1.633173  ],\n",
       "       [  6.4332138 ,  -4.73133498],\n",
       "       [  4.87645169,  -4.40863336],\n",
       "       [  6.56681678,  -0.31435112],\n",
       "       [  4.42763635,  -7.21897571],\n",
       "       [  5.13056059,  -6.61819273],\n",
       "       [  8.37459224,  -6.68453931],\n",
       "       [  1.32058794,   0.09985946],\n",
       "       [  5.32042293,  -1.30779563],\n",
       "       [  6.43253458,  -8.06200643],\n",
       "       [  3.81295709,  -8.9559994 ],\n",
       "       [  5.23143813,  -4.08881701],\n",
       "       [  1.24938288,  -0.52458928],\n",
       "       [  5.79995607,  -0.02039247],\n",
       "       [  5.17400317,   0.31906811],\n",
       "       [  6.39008663,  -9.15384187],\n",
       "       [  4.15196608,   3.50961022],\n",
       "       [  5.58852635,  -2.42578158],\n",
       "       [  3.91186064,  -9.19948205],\n",
       "       [  1.77697515,   1.11559804],\n",
       "       [  7.42868239,  -5.86914344],\n",
       "       [  3.89466147,   3.00572263],\n",
       "       [  2.71578457, -10.56933735],\n",
       "       [  5.29396563,   0.35077795],\n",
       "       [  7.16855604,  -4.41324334],\n",
       "       [  8.25171289,  -4.26196701],\n",
       "       [  5.19835775,  -1.17774106],\n",
       "       [  3.79176325,   4.54629475],\n",
       "       [  3.70785583,   0.46263198],\n",
       "       [  1.0167452 ,   1.79621357],\n",
       "       [ 10.97055985, -10.33967467],\n",
       "       [  0.02296393,   2.81368713],\n",
       "       [ 10.91646106,  -6.72691019],\n",
       "       [  2.28475946,   0.80203729],\n",
       "       [  4.49649941,   0.53808424],\n",
       "       [  3.91558268,  -2.53339461],\n",
       "       [  9.34863364,   0.90951912],\n",
       "       [  8.60873426,  -1.79009712],\n",
       "       [  2.87887221,   0.74111091],\n",
       "       [  7.09879831,  -0.09226321],\n",
       "       [  8.62946732,  -5.04609586],\n",
       "       [  4.01385715, -12.78219626],\n",
       "       [  2.86367749,   3.5705269 ],\n",
       "       [  2.90287529,  -5.63833426],\n",
       "       [  7.06400019,   5.57390027],\n",
       "       [  1.28765238,  -6.56864689],\n",
       "       [  1.99687943,  -7.54884594],\n",
       "       [  1.62925509,   4.42560291],\n",
       "       [  7.17940182,  -8.31202704],\n",
       "       [  6.75254642,  -5.59236683],\n",
       "       [  3.1157235 ,   0.84504626],\n",
       "       [  6.90199194,   3.25527852],\n",
       "       [  5.41685564,  -1.40935888],\n",
       "       [  5.49777624,   3.99452865],\n",
       "       [  4.02340092,  -4.25981706],\n",
       "       [  7.39800989,  -7.08718579],\n",
       "       [  5.22390894,   0.65894049],\n",
       "       [  2.08667814,  -3.88703666],\n",
       "       [  6.76629837,   0.02056016],\n",
       "       [  3.05137246,  -2.46019306],\n",
       "       [  5.41044244,  -2.16928899],\n",
       "       [  4.90724288,  -1.36087305],\n",
       "       [  5.0128543 ,   1.39032507],\n",
       "       [  3.67797355,   1.41444013],\n",
       "       [  6.1061386 ,  -8.15589464],\n",
       "       [  1.23065891,   3.83411606],\n",
       "       [ 10.11363772,  -5.56231229],\n",
       "       [  3.81740964,   3.87188329],\n",
       "       [  3.88150952,  -6.71444747],\n",
       "       [  6.28382672, -10.03140773],\n",
       "       [  7.0313509 ,   5.30549621],\n",
       "       [  5.52306931,   4.18819566],\n",
       "       [  6.565881  ,   2.17530164],\n",
       "       [  2.62436607,  -5.45304746],\n",
       "       [  4.88104845,  -7.29131582],\n",
       "       [  2.60400594,   2.50760529],\n",
       "       [  5.95338406, -10.14160388],\n",
       "       [  7.31841804,  -5.91762881]])"
      ]
     },
     "execution_count": 68,
     "metadata": {},
     "output_type": "execute_result"
    }
   ],
   "source": [
    "X"
   ]
  },
  {
   "cell_type": "code",
   "execution_count": 70,
   "metadata": {},
   "outputs": [
    {
     "data": {
      "text/plain": [
       "<matplotlib.collections.PathCollection at 0x5554ee0>"
      ]
     },
     "execution_count": 70,
     "metadata": {},
     "output_type": "execute_result"
    },
    {
     "data": {
      "image/png": "[encoded data removed]",
      "text/plain": [
       "<Figure size 432x288 with 1 Axes>"
      ]
     },
     "metadata": {
      "needs_background": "light"
     },
     "output_type": "display_data"
    }
   ],
   "source": [
    "plt.scatter(X[:, 0], X[:, 1], cmap='summer', s=60)"
   ]
  },
  {
   "cell_type": "code",
   "execution_count": 71,
   "metadata": {},
   "outputs": [],
   "source": [
    "# приведем данные к единому масштабу\n",
    "from sklearn.preprocessing import StandardScaler"
   ]
  },
  {
   "cell_type": "code",
   "execution_count": 62,
   "metadata": {},
   "outputs": [],
   "source": [
    "scaler = StandardScaler()"
   ]
  },
  {
   "cell_type": "code",
   "execution_count": 72,
   "metadata": {},
   "outputs": [],
   "source": [
    "# fit-transform сразу обучается и преобразует данные\n",
    "X_scaled = scaler.fit_transform(X)"
   ]
  },
  {
   "cell_type": "code",
   "execution_count": 73,
   "metadata": {},
   "outputs": [
    {
     "data": {
      "text/plain": [
       "<matplotlib.collections.PathCollection at 0xe7ada00>"
      ]
     },
     "execution_count": 73,
     "metadata": {},
     "output_type": "execute_result"
    },
    {
     "data": {
      "image/png": "[encoded data removed]",
      "text/plain": [
       "<Figure size 432x288 with 1 Axes>"
      ]
     },
     "metadata": {
      "needs_background": "light"
     },
     "output_type": "display_data"
    }
   ],
   "source": [
    "plt.scatter(X_scaled[:, 0], X_scaled[:, 1],cmap='summer', s=60)"
   ]
  },
  {
   "cell_type": "code",
   "execution_count": 74,
   "metadata": {},
   "outputs": [],
   "source": [
    "from sklearn.cluster import KMeans"
   ]
  },
  {
   "cell_type": "code",
   "execution_count": 75,
   "metadata": {},
   "outputs": [
    {
     "data": {
      "text/plain": [
       "array([0, 0, 1, 0, 0, 1, 0, 1, 0, 0, 0, 0, 1, 1, 0, 0, 0, 1, 0, 0, 0, 1,\n",
       "       1, 0, 1, 0, 1, 0, 1, 0, 1, 0, 1, 0, 1, 0, 0, 0, 1, 1, 1, 0, 1, 1,\n",
       "       1, 1, 1, 0, 0, 0, 1, 0, 0, 0, 1, 0, 1, 1, 0, 0, 0, 0, 1, 0, 1, 1,\n",
       "       0, 1, 1, 1, 0, 0, 0, 1, 0, 1, 1, 0, 0, 1, 1, 0, 0, 0, 1, 0, 0, 0,\n",
       "       1, 1, 1, 0, 1, 1, 0, 1, 1, 0, 0, 1, 1, 1, 1, 1, 0, 0, 0, 0, 0, 1,\n",
       "       0, 0, 0, 1, 1, 0, 0, 1, 0, 1, 1, 0, 1, 1, 1, 0, 1, 1, 1, 0, 0, 1,\n",
       "       1, 1, 0, 0, 0, 1, 0, 0, 1, 0, 1, 0, 1, 0, 1, 1, 0, 0, 0, 0, 1, 0,\n",
       "       1, 0, 0, 0, 0, 1, 0, 0, 1, 1, 0, 1, 0, 1, 1, 0, 1, 1, 0, 0, 0, 0,\n",
       "       1, 1, 0, 1, 0, 0, 0, 0, 0, 0, 1, 0, 1, 0, 1, 1, 0, 0, 0, 1, 1, 0,\n",
       "       1, 1], dtype=int64)"
      ]
     },
     "execution_count": 75,
     "metadata": {},
     "output_type": "execute_result"
    }
   ],
   "source": [
    "aglo = AgglomerativeClustering(n_clusters=2)\n",
    "clusters = aglo.fit_predict(X_scaled)\n",
    "clusters"
   ]
  },
  {
   "cell_type": "code",
   "execution_count": 77,
   "metadata": {},
   "outputs": [
    {
     "data": {
      "text/plain": [
       "<matplotlib.collections.PathCollection at 0xe801a30>"
      ]
     },
     "execution_count": 77,
     "metadata": {},
     "output_type": "execute_result"
    },
    {
     "data": {
      "image/png": "[encoded data removed]",
      "text/plain": [
       "<Figure size 432x288 with 1 Axes>"
      ]
     },
     "metadata": {
      "needs_background": "light"
     },
     "output_type": "display_data"
    }
   ],
   "source": [
    "plt.scatter(X_scaled[:, 0], X_scaled[:, 1], cmap='summer', c=clusters, s=60)"
   ]
  },
  {
   "cell_type": "code",
   "execution_count": 78,
   "metadata": {},
   "outputs": [],
   "source": [
    "# строим график локтя\n",
    "\n",
    "# создаем список для инерции\n",
    "k_inertia = []\n",
    "# задаем диапазон кластеров\n",
    "ks = range(1, 20)\n",
    "\n",
    "for k in ks:\n",
    "    clf_kmeans = KMeans(n_clusters=k)\n",
    "    clusters_kmeans = clf_kmeans.fit_predict(X_scaled)\n",
    "    # добавляем инерцию каждой модели в список\n",
    "    k_inertia.append(clf_kmeans.inertia_)"
   ]
  },
  {
   "cell_type": "code",
   "execution_count": 79,
   "metadata": {},
   "outputs": [
    {
     "data": {
      "text/plain": [
       "[<matplotlib.lines.Line2D at 0xe88a040>]"
      ]
     },
     "execution_count": 79,
     "metadata": {},
     "output_type": "execute_result"
    },
    {
     "data": {
      "image/png": "[encoded data removed]",
      "text/plain": [
       "<Figure size 432x288 with 1 Axes>"
      ]
     },
     "metadata": {
      "needs_background": "light"
     },
     "output_type": "display_data"
    }
   ],
   "source": [
    "plt.plot(ks, k_inertia)\n",
    "plt.plot(ks, k_inertia ,'ro')"
   ]
  },
  {
   "cell_type": "code",
   "execution_count": 80,
   "metadata": {},
   "outputs": [],
   "source": [
    "# ИЕРАРХИЧЕСКАЯ КЛАССТЕРИЗАЦИЯ\n",
    "from scipy.spatial.distance import pdist\n",
    "from scipy.cluster import hierarchy"
   ]
  },
  {
   "cell_type": "code",
   "execution_count": 82,
   "metadata": {},
   "outputs": [
    {
     "data": {
      "image/png": "[encoded data removed]",
      "text/plain": [
       "<Figure size 1080x648 with 1 Axes>"
      ]
     },
     "metadata": {
      "needs_background": "light"
     },
     "output_type": "display_data"
    }
   ],
   "source": [
    "# строим дендрограмму\n",
    "distance_mat = pdist(X_scaled) # pdist посчитает нам матрицу попарных расстояний между точками\n",
    "# Z = hierarchy.linkage(distance_mat) # linkage — реализация агломеративного алгоритма\n",
    "Z = hierarchy.linkage(distance_mat, 'ward')\n",
    "plt.figure(figsize=(15, 9))\n",
    "dn = hierarchy.dendrogram(Z)"
   ]
  },
  {
   "cell_type": "code",
   "execution_count": 83,
   "metadata": {},
   "outputs": [],
   "source": [
    "# делаем уже кластеризацию по факту\n",
    "from sklearn.cluster import AgglomerativeClustering"
   ]
  },
  {
   "cell_type": "code",
   "execution_count": 84,
   "metadata": {},
   "outputs": [
    {
     "data": {
      "text/plain": [
       "array([0, 0, 1, 0, 0, 1, 0, 1, 0, 0, 0, 0, 1, 1, 0, 0, 0, 1, 0, 0, 0, 1,\n",
       "       1, 0, 1, 0, 1, 0, 1, 0, 1, 0, 1, 0, 1, 0, 0, 0, 1, 1, 1, 0, 1, 1,\n",
       "       1, 1, 1, 0, 0, 0, 1, 0, 0, 0, 1, 0, 1, 1, 0, 0, 0, 0, 1, 0, 1, 1,\n",
       "       0, 1, 1, 1, 0, 0, 0, 1, 0, 1, 1, 0, 0, 1, 1, 0, 0, 0, 1, 0, 0, 0,\n",
       "       1, 1, 1, 0, 1, 1, 0, 1, 1, 0, 0, 1, 1, 1, 1, 1, 0, 0, 0, 0, 0, 1,\n",
       "       0, 0, 0, 1, 1, 0, 0, 1, 0, 1, 1, 0, 1, 1, 1, 0, 1, 1, 1, 0, 0, 1,\n",
       "       1, 1, 0, 0, 0, 1, 0, 0, 1, 0, 1, 0, 1, 0, 1, 1, 0, 0, 0, 0, 1, 0,\n",
       "       1, 0, 0, 0, 0, 1, 0, 0, 1, 1, 0, 1, 0, 1, 1, 0, 1, 1, 0, 0, 0, 0,\n",
       "       1, 1, 0, 1, 0, 0, 0, 0, 0, 0, 1, 0, 1, 0, 1, 1, 0, 0, 0, 1, 1, 0,\n",
       "       1, 1], dtype=int64)"
      ]
     },
     "execution_count": 84,
     "metadata": {},
     "output_type": "execute_result"
    }
   ],
   "source": [
    "aglo = AgglomerativeClustering(n_clusters=2)\n",
    "clusters = aglo.fit_predict(X_scaled)\n",
    "clusters"
   ]
  },
  {
   "cell_type": "code",
   "execution_count": 85,
   "metadata": {},
   "outputs": [
    {
     "data": {
      "text/plain": [
       "<matplotlib.collections.PathCollection at 0xc55d520>"
      ]
     },
     "execution_count": 85,
     "metadata": {},
     "output_type": "execute_result"
    },
    {
     "data": {
      "image/png": "[encoded data removed]",
      "text/plain": [
       "<Figure size 432x288 with 1 Axes>"
      ]
     },
     "metadata": {
      "needs_background": "light"
     },
     "output_type": "display_data"
    }
   ],
   "source": [
    "plt.scatter(X_scaled[:, 0], X_scaled[:, 1],cmap='summer', c=clusters, s=60)"
   ]
  },
  {
   "cell_type": "code",
   "execution_count": 28,
   "metadata": {},
   "outputs": [
    {
     "data": {
      "image/png": "[encoded data removed]",
      "text/plain": [
       "<Figure size 432x288 with 1 Axes>"
      ]
     },
     "metadata": {
      "needs_background": "light"
     },
     "output_type": "display_data"
    }
   ],
   "source": [
    "plt.plot(df_iris[['sepal length (cm)']], df_iris[['sepal width (cm)']],'o', label='Data')\n",
    "plt.plot(df_iris[['sepal length (cm)']], df_iris[['sepal length (cm)']], 'r', linewidth=2, label='Linear regression line')\n",
    "plt.ylabel('sepal width (cm)')\n",
    "plt.xlabel('sepal length (cm)')\n",
    "plt.legend()\n",
    "plt.show()"
   ]
  },
  {
   "cell_type": "code",
   "execution_count": 94,
   "metadata": {},
   "outputs": [
    {
     "data": {
      "text/html": [
       "<div>\n",
       "<style scoped>\n",
       "    .dataframe tbody tr th:only-of-type {\n",
       "        vertical-align: middle;\n",
       "    }\n",
       "\n",
       "    .dataframe tbody tr th {\n",
       "        vertical-align: top;\n",
       "    }\n",
       "\n",
       "    .dataframe thead th {\n",
       "        text-align: right;\n",
       "    }\n",
       "</style>\n",
       "<table border=\"1\" class=\"dataframe\">\n",
       "  <thead>\n",
       "    <tr style=\"text-align: right;\">\n",
       "      <th></th>\n",
       "      <th>sepal length (cm)</th>\n",
       "      <th>sepal width (cm)</th>\n",
       "    </tr>\n",
       "  </thead>\n",
       "  <tbody>\n",
       "    <tr>\n",
       "      <th>sepal length (cm)</th>\n",
       "      <td>1.00000</td>\n",
       "      <td>-0.11757</td>\n",
       "    </tr>\n",
       "    <tr>\n",
       "      <th>sepal width (cm)</th>\n",
       "      <td>-0.11757</td>\n",
       "      <td>1.00000</td>\n",
       "    </tr>\n",
       "  </tbody>\n",
       "</table>\n",
       "</div>"
      ],
      "text/plain": [
       "                   sepal length (cm)  sepal width (cm)\n",
       "sepal length (cm)            1.00000          -0.11757\n",
       "sepal width (cm)            -0.11757           1.00000"
      ]
     },
     "execution_count": 94,
     "metadata": {},
     "output_type": "execute_result"
    }
   ],
   "source": [
    "df_iris[['sepal length (cm)','sepal width (cm)']].corr() #нахождение попарной корреляции всех столбцов"
   ]
  },
  {
   "cell_type": "code",
   "execution_count": 56,
   "metadata": {},
   "outputs": [],
   "source": [
    "# ИСПРАВЛЕНО \n",
    "#Описываем модель K-средних\n",
    "model = KMeans(n_clusters=3)"
   ]
  },
  {
   "cell_type": "code",
   "execution_count": 78,
   "metadata": {},
   "outputs": [
    {
     "data": {
      "text/plain": [
       "KMeans(n_clusters=3)"
      ]
     },
     "execution_count": 78,
     "metadata": {},
     "output_type": "execute_result"
    }
   ],
   "source": [
    "# Когда мы смотрели описание данных, мы увидили, что в нашем наборе  есть 3 класса\n",
    "#значит установим параметр модели n_clusters равно 3 - это количество кластеров. \n",
    "n_clusters=3\n",
    "# Проводим моделирование\n",
    "model.fit(df_iris.data)"
   ]
  },
  {
   "cell_type": "code",
   "execution_count": 58,
   "metadata": {},
   "outputs": [],
   "source": [
    "# Смотрим на единичном примере\n",
    "predicted_label = model.predict([[7.0, 3.0, 0.5, 1.5]])"
   ]
  },
  {
   "cell_type": "code",
   "execution_count": 59,
   "metadata": {},
   "outputs": [],
   "source": [
    "# Предсказание на всем наборе данных\n",
    "all_predictions = model.predict(df_iris.data)"
   ]
  },
  {
   "cell_type": "code",
   "execution_count": 60,
   "metadata": {},
   "outputs": [
    {
     "name": "stdout",
     "output_type": "stream",
     "text": [
      "[1]\n",
      "[1 1 1 1 1 1 1 1 1 1 1 1 1 1 1 1 1 1 1 1 1 1 1 1 1 1 1 1 1 1 1 1 1 1 1 1 1\n",
      " 1 1 1 1 1 1 1 1 1 1 1 1 1 0 0 2 0 0 0 0 0 0 0 0 0 0 0 0 0 0 0 0 0 0 0 0 0\n",
      " 0 0 0 2 0 0 0 0 0 0 0 0 0 0 0 0 0 0 0 0 0 0 0 0 0 0 2 0 2 2 2 2 0 2 2 2 2\n",
      " 2 2 0 0 2 2 2 2 0 2 0 2 0 2 2 0 0 2 2 2 2 2 0 2 2 2 2 0 2 2 2 0 2 2 2 0 2\n",
      " 2 0]\n"
     ]
    }
   ],
   "source": [
    "# Выводим предсказания\n",
    "print(predicted_label)\n",
    "print(all_predictions)\n",
    "#видим, что один класс цветов существенно отделен от других"
   ]
  },
  {
   "cell_type": "code",
   "execution_count": 93,
   "metadata": {},
   "outputs": [
    {
     "data": {
      "image/png": "[encoded data removed]",
      "text/plain": [
       "<Figure size 432x288 with 1 Axes>"
      ]
     },
     "metadata": {
      "needs_background": "light"
     },
     "output_type": "display_data"
    }
   ],
   "source": [
    "k_range = list(range(1,20))\n",
    "scores = []\n",
    "for k in k_range:\n",
    "    knn = KMeans(n_clusters=k)\n",
    "    knn.fit(X_train, y_train)\n",
    "    y_pred = knn.predict(X_train)\n",
    "    scores.append(metrics.accuracy_score(y_train, y_pred))\n",
    "    \n",
    "plt.plot(k_range, scores)\n",
    "plt.xlabel('Значение k для метода K')\n",
    "plt.ylabel('Оценка Точности')\n",
    "plt.title('Баллы точности для значений k из k-ближайших соседей')\n",
    "plt.show()"
   ]
  },
  {
   "cell_type": "code",
   "execution_count": null,
   "metadata": {},
   "outputs": [],
   "source": [
    "#Таким образом видим, что наша теория, что кластеров дляцветков Ириса действительно 3, верна"
   ]
  }
 ],
 "metadata": {
  "kernelspec": {
   "display_name": "Python 3",
   "language": "python",
   "name": "python3"
  },
  "language_info": {
   "codemirror_mode": {
    "name": "ipython",
    "version": 3
   },
   "file_extension": ".py",
   "mimetype": "text/x-python",
   "name": "python",
   "nbconvert_exporter": "python",
   "pygments_lexer": "ipython3",
   "version": "3.8.3"
  }
 },
 "nbformat": 4,
 "nbformat_minor": 4
}
