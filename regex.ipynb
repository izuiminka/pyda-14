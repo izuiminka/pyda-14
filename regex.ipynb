{
 "cells": [
  {
   "cell_type": "code",
   "execution_count": 6,
   "metadata": {},
   "outputs": [
    {
     "name": "stdout",
     "output_type": "stream",
     "text": [
      "номер валиден [('A222BC', '96')] регион\n",
      "номер не валиден [] регион\n"
     ]
    }
   ],
   "source": [
    "#Задание 1\n",
    "#Напишите функцию, которая принимает на вход строку и проверяет является ли она валидным транспортным номером (1 буква, 3 цифры, 2 буквы, 2-3 цифры). Обратите внимание, что не все буквы кириллического алфавита используются в транспортных номерах.\n",
    "#Если номер валиден, то функция должна возвращать отдельно номер и регион.\n",
    "#Примеры работы программы:\n",
    "car_id = 'A222BC96'\n",
    "#Результат: Номер A222BС валиден. Регион: 96\n",
    "car_id1 = 'АБ22ВВ193'\n",
    "#Результат: Номер не валиден\n",
    "import re\n",
    "result = re.findall(r'(\\w{1}\\d{3}\\w{2})(\\d{2})',car_id)\n",
    "print (\"номер валиден\", result, \"регион\")\n",
    "result1 = re.findall(r'(\\w{1}\\d{3}\\w{2})(\\d{2})',car_id1)\n",
    "print (\"номер не валиден\", result1, \"регион\")"
   ]
  },
  {
   "cell_type": "code",
   "execution_count": null,
   "metadata": {},
   "outputs": [
    {
     "name": "stdout",
     "output_type": "stream",
     "text": [
      "['все', 'все', 'все', 'все']\n",
      "['из', 'из', 'из', 'из']\n",
      "['будет', 'будет', 'будет', 'будет']\n",
      "['функцию', 'функцию']\n",
      "Напишите функцию функцию, которая будет будет будет будет удалять все все все все последовательные повторы слов из из из из заданной строки строки при помощи регулярных выражений\n",
      "удалять\n",
      "которая\n",
      "будет\n",
      "все\n",
      "регулярных\n",
      "последовательные\n",
      "строки\n",
      "из\n",
      "заданной\n",
      "повторы\n",
      "слов\n",
      "выражений\n",
      "функцию,\n",
      "помощи\n",
      "Напишите\n",
      "функцию\n",
      "при\n"
     ]
    }
   ],
   "source": [
    "#Задание 2\n",
    "#Напишите функцию, которая будет удалять все последовательные повторы \n",
    "#слов из заданной строки при помощи регулярных выражений.\n",
    "#Пример работы программы:\n",
    "some_string = 'Напишите функцию функцию, которая будет будет будет будет удалять все все все все последовательные повторы слов из из из из заданной строки строки при помощи регулярных выражений'\n",
    "#Результат: Напишите функцию, которая будет удалять все последовательные повторы слов \n",
    "#из заданной строки при помощи регулярных выражений.\n",
    "import re\n",
    "some_string = \"Напишите функцию функцию, которая будет будет будет будет удалять все все все все последовательные повторы слов из из из из заданной строки строки при помощи регулярных выражений\"\n",
    "pattern = \"все\"\n",
    "pattern1 = \"из\"\n",
    "pattern2 = \"будет\"\n",
    "pattern3 = \"функцию\"\n",
    "a = re.findall(pattern, some_string)\n",
    "b = re.findall(pattern1, some_string)\n",
    "c = re.findall(pattern2, some_string)\n",
    "d = re.findall(pattern3, some_string)\n",
    "print(a)\n",
    "print(b)\n",
    "print(c)\n",
    "print(d)\n",
    "\n",
    "y = input().split(\" \")\n",
    "y = list(set(y))\n",
    "print(\"\\n\".join(y))\n",
    "\n",
    "import re\n",
    "\n",
    "s = input()\n",
    "for i in set(re.split(\" +\", s.strip())):\n",
    "    print(i)"
   ]
  },
  {
   "cell_type": "code",
   "execution_count": 21,
   "metadata": {},
   "outputs": [
    {
     "name": "stdout",
     "output_type": "stream",
     "text": [
      "ИТ\n",
      "NFC\n"
     ]
    }
   ],
   "source": [
    "#Задание 3\n",
    "#Напишите функцию, которая будет возвращать акроним по переданной в нее строке со словами.\n",
    "#Примеры работы программы:\n",
    "#some_words = 'Информационные технологии'\n",
    "#Результат: ИТ\n",
    "#some_words1 = 'Near Field Communication'\n",
    "#Результат: NFC\n",
    "\n",
    "import re\n",
    "some_words = 'Информационные технологии'\n",
    "some_words1 = 'Near Field Communication'\n",
    "a=''.join(x[0] for x in some_words.split())\n",
    "print(a.upper())\n",
    "b=''.join(x[0] for x in some_words1.split())\n",
    "print(b.upper())"
   ]
  },
  {
   "cell_type": "code",
   "execution_count": 82,
   "metadata": {},
   "outputs": [
    {
     "name": "stdout",
     "output_type": "stream",
     "text": [
      "['@gmail.com', '@test.in', '@ya.ru', '@mail.ru', '@ya.ru', '@gmail.com']\n"
     ]
    },
    {
     "ename": "TypeError",
     "evalue": "expected string or bytes-like object",
     "output_type": "error",
     "traceback": [
      "\u001b[1;31m---------------------------------------------------------------------------\u001b[0m",
      "\u001b[1;31mTypeError\u001b[0m                                 Traceback (most recent call last)",
      "\u001b[1;32m<ipython-input-82-7d60a5ce6a10>\u001b[0m in \u001b[0;36m<module>\u001b[1;34m\u001b[0m\n\u001b[0;32m     18\u001b[0m \u001b[1;33m\u001b[0m\u001b[0m\n\u001b[0;32m     19\u001b[0m \u001b[1;32mfor\u001b[0m \u001b[0mmail\u001b[0m \u001b[1;32min\u001b[0m \u001b[0memails\u001b[0m\u001b[1;33m:\u001b[0m\u001b[1;33m\u001b[0m\u001b[1;33m\u001b[0m\u001b[0m\n\u001b[1;32m---> 20\u001b[1;33m     \u001b[0ma\u001b[0m \u001b[1;33m=\u001b[0m \u001b[0mre\u001b[0m\u001b[1;33m.\u001b[0m\u001b[0mfindall\u001b[0m \u001b[1;33m(\u001b[0m\u001b[1;34mr'@{1}\\w+.\\w+'\u001b[0m\u001b[1;33m,\u001b[0m \u001b[0memails\u001b[0m\u001b[1;33m)\u001b[0m\u001b[1;33m\u001b[0m\u001b[1;33m\u001b[0m\u001b[0m\n\u001b[0m\u001b[0;32m     21\u001b[0m     \u001b[1;32mif\u001b[0m \u001b[0mre\u001b[0m\u001b[1;33m.\u001b[0m\u001b[0mfindall\u001b[0m \u001b[1;33m(\u001b[0m\u001b[0ma\u001b[0m\u001b[1;33m,\u001b[0m \u001b[0memails\u001b[0m\u001b[1;33m,\u001b[0m \u001b[1;36m1\u001b[0m\u001b[1;33m)\u001b[0m\u001b[1;33m:\u001b[0m\u001b[1;33m\u001b[0m\u001b[1;33m\u001b[0m\u001b[0m\n\u001b[0;32m     22\u001b[0m         \u001b[0mg\u001b[0m \u001b[1;33m+=\u001b[0m \u001b[1;36m1\u001b[0m\u001b[1;33m\u001b[0m\u001b[1;33m\u001b[0m\u001b[0m\n",
      "\u001b[1;32m~\\anaconda\\lib\\re.py\u001b[0m in \u001b[0;36mfindall\u001b[1;34m(pattern, string, flags)\u001b[0m\n\u001b[0;32m    239\u001b[0m \u001b[1;33m\u001b[0m\u001b[0m\n\u001b[0;32m    240\u001b[0m     Empty matches are included in the result.\"\"\"\n\u001b[1;32m--> 241\u001b[1;33m     \u001b[1;32mreturn\u001b[0m \u001b[0m_compile\u001b[0m\u001b[1;33m(\u001b[0m\u001b[0mpattern\u001b[0m\u001b[1;33m,\u001b[0m \u001b[0mflags\u001b[0m\u001b[1;33m)\u001b[0m\u001b[1;33m.\u001b[0m\u001b[0mfindall\u001b[0m\u001b[1;33m(\u001b[0m\u001b[0mstring\u001b[0m\u001b[1;33m)\u001b[0m\u001b[1;33m\u001b[0m\u001b[1;33m\u001b[0m\u001b[0m\n\u001b[0m\u001b[0;32m    242\u001b[0m \u001b[1;33m\u001b[0m\u001b[0m\n\u001b[0;32m    243\u001b[0m \u001b[1;32mdef\u001b[0m \u001b[0mfinditer\u001b[0m\u001b[1;33m(\u001b[0m\u001b[0mpattern\u001b[0m\u001b[1;33m,\u001b[0m \u001b[0mstring\u001b[0m\u001b[1;33m,\u001b[0m \u001b[0mflags\u001b[0m\u001b[1;33m=\u001b[0m\u001b[1;36m0\u001b[0m\u001b[1;33m)\u001b[0m\u001b[1;33m:\u001b[0m\u001b[1;33m\u001b[0m\u001b[1;33m\u001b[0m\u001b[0m\n",
      "\u001b[1;31mTypeError\u001b[0m: expected string or bytes-like object"
     ]
    }
   ],
   "source": [
    "#Задание 4 вариант решения 1\n",
    "#Напишите функцию, которая будет принимать на вход список email-адресов и выводить их распределение по доменным зонам.\n",
    "#Пример работы программы:\n",
    "\n",
    "emails = ['test@gmail.com, xyz@test.in, test@ya.ru, xyz@mail.ru, xyz@ya.ru, xyz@gmail.com']\n",
    "\n",
    "#Результат:\n",
    "#gmail.com: 2\n",
    "#test.in: 1\n",
    "#ya.ru: 2\n",
    "#mail.ru: 1\n",
    "          \n",
    "import re\n",
    "g = 0\n",
    "\n",
    "result = re.findall(r'(\\@{1}\\w+.\\w+)', 'test@gmail.com, xyz@test.in, test@ya.ru, xyz@mail.ru, xyz@ya.ru, xyz@gmail.com')\n",
    "print (result)\n",
    "\n",
    "for mail in emails: \n",
    "    a = re.findall (r'@{1}\\w+.\\w+', emails)\n",
    "    if re.findall (a, emails, 1):\n",
    "        g += 1\n",
    "print (g)"
   ]
  },
  {
   "cell_type": "code",
   "execution_count": 15,
   "metadata": {},
   "outputs": [
    {
     "name": "stdout",
     "output_type": "stream",
     "text": [
      "['test@gmail.com,', 'xyz@test.in,', 'test@ya.ru,', 'xyz@mail.ru,', 'xyz@ya.ru,', 'xyz@gmail.com']\n",
      "@gmail.com\n",
      "2\n",
      "@ya.ru\n",
      "2\n",
      "@test.in\n",
      "1\n",
      "@mail.ru\n",
      "1\n"
     ]
    },
    {
     "data": {
      "text/plain": [
       "[['i', 0],\n",
       " ['c', 0],\n",
       " [',', 0],\n",
       " ['e', 0],\n",
       " ['o', 0],\n",
       " ['@', 0],\n",
       " ['r', 0],\n",
       " ['u', 0],\n",
       " ['m', 0],\n",
       " ['s', 0],\n",
       " ['t', 0],\n",
       " ['g', 0],\n",
       " ['.', 0],\n",
       " ['n', 0],\n",
       " ['z', 0],\n",
       " ['l', 0],\n",
       " [' ', 0],\n",
       " ['a', 0],\n",
       " ['x', 0],\n",
       " ['y', 0]]"
      ]
     },
     "execution_count": 15,
     "metadata": {},
     "output_type": "execute_result"
    }
   ],
   "source": [
    "#Задание 4 вариант решения  2 - р\n",
    "import re\n",
    "emails = 'test@gmail.com, xyz@test.in, test@ya.ru, xyz@mail.ru, xyz@ya.ru, xyz@gmail.com'\n",
    "spisok_emails = 'test@gmail.com, xyz@test.in, test@ya.ru, xyz@mail.ru, xyz@ya.ru, xyz@gmail.com'.split()\n",
    "print (spisok_emails)\n",
    "\n",
    "\n",
    "\n",
    "\n",
    "match = re.search(r'@[a-z]+\\.[a-z]{3}', emails) # Приведенное  регулярное выражение будет искать нужное окончание e-mail адреса после значка собачка\n",
    "s=1\n",
    "if match:\n",
    "    s+=1\n",
    "    print(match.group())\n",
    "    print(s)\n",
    "else:\n",
    "    print(\"сравнений не обнаружено\")   \n",
    "    \n",
    "match = re.search(r'@[a-z]+\\.[r-u]{2}', emails)\n",
    "a=1\n",
    "if match:\n",
    "    a+=1\n",
    "    print(match.group())\n",
    "    print (a)\n",
    "else:\n",
    "    print(\"сравнений не обнаружено\")\n",
    "    \n",
    "match = re.search(r'@[a-z]+\\.[i-n]{2}', emails)\n",
    "c=0\n",
    "if match:\n",
    "    c+=1\n",
    "    print(match.group())\n",
    "    print (c)\n",
    "else:\n",
    "    print(\"сравнений не обнаружено\")\n",
    "    \n",
    "match = re.search(r'@[m]...\\.[a-z]{2}', emails)\n",
    "o=0\n",
    "if match:\n",
    "    o+=1\n",
    "    print(match.group())\n",
    "    print (o)\n",
    "else:\n",
    "    print(\"сравнений не обнаружено\")\n",
    "[[x,emails.count('r@[a-z]+\\.[a-z]{3}')] for x in set(emails)]"
   ]
  },
  {
   "cell_type": "code",
   "execution_count": 10,
   "metadata": {},
   "outputs": [
    {
     "ename": "NameError",
     "evalue": "name 'emails' is not defined",
     "output_type": "error",
     "traceback": [
      "\u001b[1;31m---------------------------------------------------------------------------\u001b[0m",
      "\u001b[1;31mNameError\u001b[0m                                 Traceback (most recent call last)",
      "\u001b[1;32m<ipython-input-10-92bd44955a84>\u001b[0m in \u001b[0;36m<module>\u001b[1;34m\u001b[0m\n\u001b[1;32m----> 1\u001b[1;33m \u001b[1;33m[\u001b[0m\u001b[1;33m[\u001b[0m\u001b[0mx\u001b[0m\u001b[1;33m,\u001b[0m\u001b[0memails\u001b[0m\u001b[1;33m.\u001b[0m\u001b[0mcount\u001b[0m\u001b[1;33m(\u001b[0m\u001b[1;34m'r@[a-z]+\\.[a-z]{3}'\u001b[0m\u001b[1;33m)\u001b[0m\u001b[1;33m]\u001b[0m \u001b[1;32mfor\u001b[0m \u001b[0mx\u001b[0m \u001b[1;32min\u001b[0m \u001b[0mset\u001b[0m\u001b[1;33m(\u001b[0m\u001b[0memails\u001b[0m\u001b[1;33m)\u001b[0m\u001b[1;33m]\u001b[0m\u001b[1;33m\u001b[0m\u001b[1;33m\u001b[0m\u001b[0m\n\u001b[0m",
      "\u001b[1;31mNameError\u001b[0m: name 'emails' is not defined"
     ]
    }
   ],
   "source": []
  },
  {
   "cell_type": "code",
   "execution_count": 7,
   "metadata": {},
   "outputs": [
    {
     "ename": "SyntaxError",
     "evalue": "invalid syntax (<ipython-input-7-8d427ed8e3e6>, line 13)",
     "output_type": "error",
     "traceback": [
      "\u001b[1;36m  File \u001b[1;32m\"<ipython-input-7-8d427ed8e3e6>\"\u001b[1;36m, line \u001b[1;32m13\u001b[0m\n\u001b[1;33m    match3 = re.search(r'@[a-z]+\\.[i-n]{2}', emails)\u001b[0m\n\u001b[1;37m    ^\u001b[0m\n\u001b[1;31mSyntaxError\u001b[0m\u001b[1;31m:\u001b[0m invalid syntax\n"
     ]
    }
   ],
   "source": [
    "#Задание 4 вариант решения 3\n",
    "import re\n",
    "emails = 'test@gmail.com, xyz@test.in, test@ya.ru, xyz@mail.ru, xyz@ya.ru, xyz@gmail.com'\n",
    "\n",
    "spisok_emails = str('test@gmail.com, xyz@test.in, test@ya.ru, xyz@mail.ru, xyz@ya.ru, xyz@gmail.com'.split())\n",
    "\n",
    "match = re.search(r'@[a-z]+\\.[a-z]{3}', emails) # Приведенное  регулярное выражение будет искать нужное окончание e-mail адреса после значка собачка\n",
    "print(match.group())\n",
    "\n",
    "match2 = re.search(r'@[a-z]+\\.[r-u]{2}', emails)\n",
    "print(str(match2.group())\n",
    "\n",
    "match3 = re.search(r'@[a-z]+\\.[i-n]{2}', emails)\n",
    "print(match3.group())\n",
    "\n",
    "match4 = re.search(r'@[m]...\\.[a-z]{2}', emails)\n",
    "print(str(match4.group())  \n"
   ]
  },
  {
   "cell_type": "code",
   "execution_count": 114,
   "metadata": {},
   "outputs": [
    {
     "name": "stdout",
     "output_type": "stream",
     "text": [
      "['Эталонной', 'является', 'интерпретатор', 'активно', 'используемых', 'Он', 'использовать', 'его', 'ограничений']\n",
      "ЭРPЯИCПБАИПОРПСЛPSFLПИЕБОВЛПВП\n",
      "Количество слов начинающихся на гласные буквы равно:\n",
      "9\n",
      "[' реализацией', ' Python', ' является', ' интерпретатор', ' CPython', 'поддерживающий', ' большинство', ' активно', ' используемых', ' платформ', ' распространяется', ' под', ' свободной', ' лицензией', ' Python', ' Software', ' Foundation', ' License', 'позволяющей', ' использовать', ' его', ' без', ' ограничений', ' в', ' любых', ' приложениях', 'включая', ' проприетарные']\n",
      "ЭРPЯИCПБАИПОРПСЛPSFLПИЕБОВЛПВП\n",
      "Количество слов начинающихся на согласные буквы буквы равно:\n",
      "21\n"
     ]
    }
   ],
   "source": [
    "#Задание 5 \n",
    "#Напишите функцию, которая будет подсчитывать сколько слов начинается на гласные, а сколько на согласные буквы в тексте (текст может быть написан как с использованием букв кириллицы, так и латиницы).\n",
    "#Пример работы программы:\n",
    "some_text = 'Эталонной реализацией Python является интерпретатор CPython, поддерживающий большинство активно используемых платформ. Он распространяется под свободной лицензией Python Software Foundation License, позволяющей использовать его без ограничений в любых приложениях, включая проприетарные.'\n",
    "#Результат:\n",
    "#Слов на гласные буквы: 9\n",
    "#Слов на согласные буквы: 21\n",
    "\n",
    "import re\n",
    "result = re.findall(r'\\b[аеиоуюяыёэАЕИОУЮЯЫЁЭ]\\w+', some_text)\n",
    "print(result)\n",
    "\n",
    "input = \"Эталонной реализацией Python является интерпретатор CPython, поддерживающий большинство активно используемых платформ. Он распространяется под свободной лицензией Python Software Foundation License, позволяющей использовать его без ограничений в любых приложениях, включая проприетарные.'\"\n",
    "output = \"\"\n",
    "for i in input.upper().split():\n",
    "    output += i[0]\n",
    "print (output)\n",
    "\n",
    "count = 0\n",
    "vowels = set(\"АЕИОУЮЯЫЁЭAEIOU\")\n",
    "for letter in output:\n",
    "    if letter in vowels:\n",
    "        count += 1\n",
    "print(\"Количество слов начинающихся на гласные буквы равно:\")\n",
    "print(count)\n",
    "\n",
    "result1 = re.findall(r'\\b[^аеиоуюяыёэАЕИОУЮЯЫЁЭ]\\w+', some_text)\n",
    "print(result1)\n",
    "\n",
    "input = \"Эталонной реализацией Python является интерпретатор CPython, поддерживающий большинство активно используемых платформ. Он распространяется под свободной лицензией Python Software Foundation License, позволяющей использовать его без ограничений в любых приложениях, включая проприетарные.'\"\n",
    "output = \"\"\n",
    "for i in input.upper().split():\n",
    "    output += i[0]\n",
    "print (output)\n",
    "\n",
    "count = 0\n",
    "vowels = set(\"БВГДЖЗЙКЛМНПРСТФХЩШЦBCDFGHJKLMNPQRSTVWXZ\")\n",
    "for letter in output:\n",
    "    if letter in vowels:\n",
    "        count += 1\n",
    "print(\"Количество слов начинающихся на согласные буквы буквы равно:\")\n",
    "print(count)"
   ]
  }
 ],
 "metadata": {
  "kernelspec": {
   "display_name": "Python 3",
   "language": "python",
   "name": "python3"
  },
  "language_info": {
   "codemirror_mode": {
    "name": "ipython",
    "version": 3
   },
   "file_extension": ".py",
   "mimetype": "text/x-python",
   "name": "python",
   "nbconvert_exporter": "python",
   "pygments_lexer": "ipython3",
   "version": "3.8.3"
  }
 },
 "nbformat": 4,
 "nbformat_minor": 4
}
