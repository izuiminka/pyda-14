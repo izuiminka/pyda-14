{
 "cells": [
  {
   "cell_type": "code",
   "execution_count": 34,
   "metadata": {
    "scrolled": true
   },
   "outputs": [
    {
     "name": "stdout",
     "output_type": "stream",
     "text": [
      "Фраза 1 длиннее фразы 2\n"
     ]
    }
   ],
   "source": [
    "phrase_1 = 'Насколько проще было бы писать программы, если бы не заказчики'\n",
    "phrase_2 = '640Кб должно хватить для любых задач. Билл Гейтс (по легенде)'\n",
    "a = len(phrase_1) \n",
    "b = len(phrase_2)\n",
    "if a > b:\n",
    "    print(\"Фраза 1 длиннее фразы 2\")\n",
    "else:\n",
    "    print(\"Фраза 2 длиннее фразы 1\")"
   ]
  },
  {
   "cell_type": "code",
   "execution_count": 37,
   "metadata": {},
   "outputs": [
    {
     "name": "stdout",
     "output_type": "stream",
     "text": [
      "Фраза 2 длиннее фразы 1\n"
     ]
    }
   ],
   "source": [
    "phrase_1 = '640Кб должно хватить для любых задач. Билл Гейтс (по легенде)'\n",
    "phrase_2 = 'Насколько проще было бы писать программы, если бы не заказчики'\n",
    "a = len(phrase_1) \n",
    "b = len(phrase_2)\n",
    "if a > b:\n",
    "    print(\"Фраза 1 длиннее фразы 2\")\n",
    "else:a > b:\n",
    "    print(\"Фраза 2 длиннее фразы 1\")"
   ]
  },
  {
   "cell_type": "code",
   "execution_count": 39,
   "metadata": {},
   "outputs": [
    {
     "name": "stdout",
     "output_type": "stream",
     "text": [
      "Фразы равной длины\n"
     ]
    }
   ],
   "source": [
    "phrase_1 = 'Насколько проще было бы писать программы, если бы не заказчики'\n",
    "phrase_2 = 'Насколько проще было бы писать программы, если бы не заказчики'\n",
    "a = len(phrase_1) \n",
    "b = len(phrase_2)\n",
    "if a > b:\n",
    "    print(\"Фраза 1 длиннее фразы 2\")\n",
    "elif b > a:\n",
    "    print(\"Фраза 2 длиннее фразы 1\")\n",
    "else:\n",
    "    print(\"Фразы равной длины\")"
   ]
  },
  {
   "cell_type": "code",
   "execution_count": 40,
   "metadata": {},
   "outputs": [
    {
     "name": "stdout",
     "output_type": "stream",
     "text": [
      "phrase_1Насколько проще было бы писать программы, если бы не заказчики\n",
      "phrase_2Насколько проще было бы писать программы, если бы не заказчики\n",
      "Фразы равной длины\n"
     ]
    }
   ],
   "source": [
    "a = input(\"phrase_1\")\n",
    "b = input(\"phrase_2\")\n",
    "x = len(a) \n",
    "y = len(b)\n",
    "if x > y:\n",
    "    print(\"Фраза 1 длиннее фразы 2\")\n",
    "elif y > x:\n",
    "    print(\"Фраза 2 длиннее фразы 1\")\n",
    "else:\n",
    "    print(\"Фразы равной длины\")"
   ]
  }
 ],
 "metadata": {
  "kernelspec": {
   "display_name": "Python 3",
   "language": "python",
   "name": "python3"
  },
  "language_info": {
   "codemirror_mode": {
    "name": "ipython",
    "version": 3
   },
   "file_extension": ".py",
   "mimetype": "text/x-python",
   "name": "python",
   "nbconvert_exporter": "python",
   "pygments_lexer": "ipython3",
   "version": "3.8.3"
  }
 },
 "nbformat": 4,
 "nbformat_minor": 4
}
