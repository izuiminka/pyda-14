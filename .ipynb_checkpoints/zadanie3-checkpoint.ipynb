{
 "cells": [
  {
   "cell_type": "code",
   "execution_count": 34,
   "metadata": {
    "scrolled": true
   },
   "outputs": [
    {
     "name": "stdout",
     "output_type": "stream",
     "text": [
      "Фраза 1 длиннее фразы 2\n"
     ]
    }
   ],
   "source": [
    "a =int(input(\"Введите дату рождения - число:\"))\n",
    "b =int(input(\"Введите дату рождения - месяц:\"))\n",
    "a1 =\n",
    "\n",
    "\n",
    "if a % 4 ==0 and a % 100!=0:\n",
    "    print(\"Високосный год\")\n",
    "elif a % 400 ==0:\n",
    "    print(\"Високосный год\")\n",
    "else:\n",
    "    print(\"Обычный год\")"
   ]
  },
  {
   "cell_type": "code",
   "execution_count": null,
   "metadata": {},
   "outputs": [],
   "source": []
  }
 ],
 "metadata": {
  "kernelspec": {
   "display_name": "Python 3",
   "language": "python",
   "name": "python3"
  },
  "language_info": {
   "codemirror_mode": {
    "name": "ipython",
    "version": 3
   },
   "file_extension": ".py",
   "mimetype": "text/x-python",
   "name": "python",
   "nbconvert_exporter": "python",
   "pygments_lexer": "ipython3",
   "version": "3.8.3"
  }
 },
 "nbformat": 4,
 "nbformat_minor": 4
}
