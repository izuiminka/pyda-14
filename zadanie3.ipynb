{
 "cells": [
  {
   "cell_type": "code",
   "execution_count": 95,
   "metadata": {},
   "outputs": [
    {
     "name": "stdout",
     "output_type": "stream",
     "text": [
      "Введите дату рождения - число:11\n",
      "Введите дату рождения - месяц в именительном падеже:июнь\n",
      "близнецы\n"
     ]
    }
   ],
   "source": [
    "a =int(input(\"Введите дату рождения - число:\")) # Ввод запрашивается и сохраняется в переменной\n",
    "b =input(\"Введите дату рождения - месяц в именительном падеже:\")\n",
    "x1 = \"январь\"\n",
    "x2 = \"февраль\"\n",
    "x3 = \"март\"\n",
    "x4 = \"апрель\"\n",
    "x5 = \"май\"\n",
    "x6 = \"июнь\"\n",
    "x7 = \"июль\"\n",
    "x8 = \"август\"\n",
    "x9 = \"сентябрь\"\n",
    "x10 = \"октябрь\"\n",
    "x11 = \"ноябрь\"\n",
    "x12 = \"декабрь\"\n",
    "if a < 19 and b ==x1:\n",
    "    print(\"козерог\")\n",
    "elif a > 19 and b ==x1:\n",
    "    print(\"водолей\")\n",
    "    \n",
    "if a < 19 and b ==x2:\n",
    "    print(\"водолей\")\n",
    "elif a > 19 and b ==x2:\n",
    "    print(\"рыбы\")\n",
    "    \n",
    "if a < 21 and b ==x3:\n",
    "    print(\"овен\")\n",
    "elif a > 21 and b ==x3:\n",
    "    print(\"рыбы\")\n",
    "    \n",
    "if a < 21 and b ==x4:\n",
    "    print(\"овен\")\n",
    "elif a > 21 and b ==x4:\n",
    "    print(\"телец\")\n",
    "    \n",
    "if a < 21 and b ==x5:\n",
    "    print(\"телец\")\n",
    "elif a > 21 and b ==x5:\n",
    "    print(\"близнецы\")\n",
    "    \n",
    "if a < 21 and b ==x6:\n",
    "    print(\"близнецы\")\n",
    "elif a > 21 and b ==x6:\n",
    "    print(\"рак\")\n",
    "    \n",
    "if a < 21 and b ==x7:\n",
    "    print(\"рак\")\n",
    "elif a > 21 and b ==x7:\n",
    "    print(\"лев\")\n",
    "    \n",
    "if a < 21 and b ==x8:\n",
    "    print(\"лев\")\n",
    "elif a > 21 and b ==x8:\n",
    "    print(\"дева\")\n",
    "    \n",
    "if a < 21 and b ==x9:\n",
    "    print(\"дева\")\n",
    "elif a > 21 and b ==x9:\n",
    "    print(\"весы\")\n",
    "    \n",
    "if a < 20 and b ==x10:\n",
    "    print(\"весы\")\n",
    "elif a > 20 and b ==x10:\n",
    "    print(\"скорпион\")\n",
    "    \n",
    "if a < 21 and b ==x11:\n",
    "    print(\"скорпион\")\n",
    "elif a > 21 and b ==x11:\n",
    "    print(\"стрелец\")\n",
    "    \n",
    "if a < 21 and b ==x12:\n",
    "    print(\"стрелец\")\n",
    "elif a > 21 and b ==x12:\n",
    "    print(\"козерог\")"
   ]
  }
 ],
 "metadata": {
  "kernelspec": {
   "display_name": "Python 3",
   "language": "python",
   "name": "python3"
  },
  "language_info": {
   "codemirror_mode": {
    "name": "ipython",
    "version": 3
   },
   "file_extension": ".py",
   "mimetype": "text/x-python",
   "name": "python",
   "nbconvert_exporter": "python",
   "pygments_lexer": "ipython3",
   "version": "3.8.3"
  }
 },
 "nbformat": 4,
 "nbformat_minor": 4
}
